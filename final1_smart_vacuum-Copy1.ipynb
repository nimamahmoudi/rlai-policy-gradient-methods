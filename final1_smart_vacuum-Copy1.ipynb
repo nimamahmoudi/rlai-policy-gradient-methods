{
 "cells": [
  {
   "cell_type": "code",
   "execution_count": 1,
   "metadata": {
    "ExecuteTime": {
     "end_time": "2019-04-05T22:28:20.009455Z",
     "start_time": "2019-04-05T22:28:14.662530Z"
    }
   },
   "outputs": [],
   "source": [
    "# import needed libs\n",
    "\n",
    "%load_ext autoreload\n",
    "\n",
    "# Auto reloading causes the kernel to reload the libraries we have\n",
    "%autoreload 2\n",
    "\n",
    "# usual imports for visualization, etc.\n",
    "import numpy as np\n",
    "import matplotlib.pyplot as plt\n",
    "\n",
    "import datetime\n",
    "\n",
    "# make it reproducible\n",
    "np.random.seed(0)\n",
    "\n",
    "env_name = 'smart-vac'\n",
    "# just_plot = False\n",
    "just_plot = True\n",
    "\n",
    "# show plots inline\n",
    "%matplotlib inline"
   ]
  },
  {
   "cell_type": "code",
   "execution_count": 2,
   "metadata": {
    "ExecuteTime": {
     "end_time": "2019-04-05T22:28:20.316527Z",
     "start_time": "2019-04-05T22:28:20.014526Z"
    }
   },
   "outputs": [
    {
     "name": "stderr",
     "output_type": "stream",
     "text": [
      "A subdirectory or file output already exists.\n"
     ]
    }
   ],
   "source": [
    "# Some initializations\n",
    "\n",
    "from envs import SmartVac\n",
    "from agents import ReinforceAgent, ReinforceWithBaselineAgent, ActorCriticAgent\n",
    "\n",
    "max_episode_steps = 100\n",
    "results_folder = 'res/'\n",
    "figs_folder = 'figs/'\n",
    "output_folder = 'output/'\n",
    "\n",
    "!mkdir output"
   ]
  },
  {
   "cell_type": "code",
   "execution_count": 3,
   "metadata": {
    "ExecuteTime": {
     "end_time": "2019-04-05T22:28:20.400628Z",
     "start_time": "2019-04-05T22:28:20.318535Z"
    }
   },
   "outputs": [],
   "source": [
    "best_performance = 0.63\n",
    "env = SmartVac()"
   ]
  },
  {
   "cell_type": "code",
   "execution_count": 26,
   "metadata": {
    "ExecuteTime": {
     "end_time": "2019-04-05T22:55:58.689638Z",
     "start_time": "2019-04-05T22:55:58.200042Z"
    }
   },
   "outputs": [],
   "source": [
    "from cycler import cycler\n",
    "def set_plt_rc():\n",
    "    font = {'family': 'serif','size': 12}\n",
    "    plt.rc('text', usetex=True)\n",
    "\n",
    "    \n",
    "#     SMALL_SIZE = 8\n",
    "#     MEDIUM_SIZE = 10\n",
    "#     BIGGER_SIZE = 12\n",
    "\n",
    "#     plt.rc('font', size=SMALL_SIZE)          # controls default text sizes\n",
    "#     plt.rc('axes', titlesize=SMALL_SIZE)     # fontsize of the axes title\n",
    "#     plt.rc('axes', labelsize=MEDIUM_SIZE)    # fontsize of the x and y labels\n",
    "#     plt.rc('xtick', labelsize=SMALL_SIZE)    # fontsize of the tick labels\n",
    "#     plt.rc('ytick', labelsize=SMALL_SIZE)    # fontsize of the tick labels\n",
    "#     plt.rc('legend', fontsize=SMALL_SIZE)    # legend fontsize\n",
    "#     plt.rc('figure', titlesize=BIGGER_SIZE)  # fontsize of the figure title\n",
    "\n",
    "\n",
    "#     plt.rc('font', family='serif')\n",
    "    plt.rc('font', family=font['family'], size=font['size'])\n",
    "    \n",
    "    \n",
    "#     plt.rc('xtick', labelsize='x-small')\n",
    "#     plt.rc('ytick', labelsize='x-small')\n",
    "    \n",
    "    plt.rc('xtick', labelsize='medium')\n",
    "    plt.rc('ytick', labelsize='medium')\n",
    "    \n",
    "    plt.rc('axes', prop_cycle=(cycler(color=['#1f77b4', '#ff7f0e', '#2ca02c', '#d62728',\n",
    "                                         '#9467bd', '#8c564b', '#e377c2', '#7f7f7f',\n",
    "                                         '#bcbd22', '#17becf']) +\n",
    "                           cycler(linestyle=['-', '--', ':', '-.','-', '--', ':', '-.','-', '--'])))\n",
    "    plt.rcParams['axes.spines.right'] = False\n",
    "    plt.rcParams['axes.spines.top'] = False\n",
    "    \n",
    "set_plt_rc()\n",
    "\n",
    "\n",
    "\n",
    "#Label line with line2D label data\n",
    "def labelLine(line,x,label=None,align=True,**kwargs):\n",
    "\n",
    "    ax = line.axes\n",
    "    xdata = line.get_xdata()\n",
    "    ydata = line.get_ydata()\n",
    "\n",
    "    if (x < xdata[0]) or (x > xdata[-1]):\n",
    "        print('x label location is outside data range!')\n",
    "        return\n",
    "\n",
    "    #Find corresponding y co-ordinate and angle of the line\n",
    "    ip = 1\n",
    "    for i in range(len(xdata)):\n",
    "        if x < xdata[i]:\n",
    "            ip = i\n",
    "            break\n",
    "\n",
    "    y = ydata[ip-1] + (ydata[ip]-ydata[ip-1])*(x-xdata[ip-1])/(xdata[ip]-xdata[ip-1])\n",
    "\n",
    "    if not label:\n",
    "        label = line.get_label()\n",
    "\n",
    "    if align:\n",
    "        #Compute the slope\n",
    "        dx = xdata[ip] - xdata[ip-1]\n",
    "        dy = ydata[ip] - ydata[ip-1]\n",
    "        ang = degrees(atan2(dy,dx))\n",
    "\n",
    "        #Transform to screen co-ordinates\n",
    "        pt = np.array([x,y]).reshape((1,2))\n",
    "        trans_angle = ax.transData.transform_angles(np.array((ang,)),pt)[0]\n",
    "\n",
    "    else:\n",
    "        trans_angle = 0\n",
    "\n",
    "    #Set a bunch of keyword arguments\n",
    "    if 'color' not in kwargs:\n",
    "        kwargs['color'] = line.get_color()\n",
    "\n",
    "    if ('horizontalalignment' not in kwargs) and ('ha' not in kwargs):\n",
    "        kwargs['ha'] = 'center'\n",
    "\n",
    "    if ('verticalalignment' not in kwargs) and ('va' not in kwargs):\n",
    "        kwargs['va'] = 'center'\n",
    "\n",
    "    if 'backgroundcolor' not in kwargs:\n",
    "        kwargs['backgroundcolor'] = ax.get_facecolor()\n",
    "\n",
    "    if 'clip_on' not in kwargs:\n",
    "        kwargs['clip_on'] = True\n",
    "\n",
    "    if 'zorder' not in kwargs:\n",
    "        kwargs['zorder'] = 2.5\n",
    "\n",
    "    t = ax.text(x,y,label,rotation=trans_angle,**kwargs)\n",
    "    t.set_bbox(dict(facecolor='white', alpha=0.0, edgecolor='white'))\n",
    "\n",
    "def labelLines(lines,align=True,xvals=None,labels=None,**kwargs):\n",
    "\n",
    "    ax = lines[0].axes\n",
    "    labLines = []\n",
    "    \n",
    "    label_available = True\n",
    "    if labels is None:\n",
    "        label_available = False\n",
    "        labels = []\n",
    "\n",
    "    #Take only the lines which have labels other than the default ones\n",
    "    for line in lines:\n",
    "        label = line.get_label()\n",
    "        if \"_line\" not in label:\n",
    "            labLines.append(line)\n",
    "            labels.append(label)\n",
    "        else:\n",
    "            labLines.append(line)\n",
    "\n",
    "    if xvals is None:\n",
    "        xmin,xmax = ax.get_xlim()\n",
    "        xvals = np.linspace(xmin,xmax,len(labLines)+2)[1:-1]\n",
    "        \n",
    "    for line,x,label in zip(labLines,xvals,labels):\n",
    "        labelLine(line,x,label,align,**kwargs)"
   ]
  },
  {
   "cell_type": "markdown",
   "metadata": {},
   "source": [
    "# REINFORCE Agent"
   ]
  },
  {
   "cell_type": "code",
   "execution_count": 27,
   "metadata": {
    "ExecuteTime": {
     "end_time": "2019-04-05T22:55:59.342650Z",
     "start_time": "2019-04-05T22:55:59.250863Z"
    }
   },
   "outputs": [],
   "source": [
    "AgentClass = ReinforceAgent\n",
    "agent_name = AgentClass.__name__\n",
    "\n",
    "alpha_base = 2\n",
    "alpha_pows = np.linspace(-8, -1, 8)\n",
    "alphas = np.power(alpha_base, alpha_pows)\n",
    "\n",
    "num_of_tests = 10\n",
    "episode_count = 10000\n",
    "plot_count = int(episode_count / 100)"
   ]
  },
  {
   "cell_type": "code",
   "execution_count": 28,
   "metadata": {
    "ExecuteTime": {
     "end_time": "2019-04-05T22:56:00.259775Z",
     "start_time": "2019-04-05T22:55:59.939284Z"
    },
    "code_folding": [],
    "scrolled": true
   },
   "outputs": [],
   "source": [
    "if not just_plot:\n",
    "    all_avg_plots = []\n",
    "    all_avgs = []\n",
    "    all_bests = []\n",
    "    all_lasts = []\n",
    "    all_stds = []\n",
    "    for alpha_pow in alpha_pows:\n",
    "        alpha = np.power(alpha_base, alpha_pow)\n",
    "        params_str = f'alpha={alpha_base}^{alpha_pow:.2f}_episodes_{episode_count}'    \n",
    "        mult_avgs = []\n",
    "        mult_probs1 = []\n",
    "        mult_probs2 = []\n",
    "        for i_test in range(num_of_tests):\n",
    "            print()\n",
    "            print(i_test + 1, end=' ')\n",
    "\n",
    "            # Initialize the agent\n",
    "            agent = AgentClass(alpha=alpha)\n",
    "\n",
    "            avgs = []\n",
    "            probs1 = []\n",
    "            probs2 = []\n",
    "\n",
    "            episode_rewards = np.zeros(episode_count)\n",
    "            for i_episode in range(episode_count):\n",
    "                done = False\n",
    "                totalReward = 0\n",
    "\n",
    "                if i_episode >= plot_count and (i_episode % plot_count == 0):\n",
    "                    avg = np.average(episode_rewards[i_episode - plot_count:i_episode])\n",
    "                    avgs.append(avg)\n",
    "\n",
    "                    # deterministic position\n",
    "                    env.x = 0\n",
    "                    env.y = 1\n",
    "                    obs = env.get_obs()\n",
    "                    prob = agent.get_action_vals_for_obs(obs)\n",
    "                    probs1.append(prob)\n",
    "\n",
    "                    # stochastic position\n",
    "                    env.x = 1\n",
    "                    env.y = 1\n",
    "                    obs = env.get_obs()\n",
    "                    prob = agent.get_action_vals_for_obs(obs)\n",
    "                    probs2.append(prob)\n",
    "\n",
    "                    print('#', end='', flush=True)\n",
    "                    if len(avgs) % 100 == 0:\n",
    "                        print(i_episode)\n",
    "\n",
    "                obs = env.reset()\n",
    "                action = agent.start(obs)\n",
    "\n",
    "                step = 0\n",
    "                while not done:\n",
    "                    obs, reward, done = env.step(action)\n",
    "                    action = agent.step(obs, reward, done)\n",
    "                    totalReward += reward\n",
    "\n",
    "                    step += 1\n",
    "                    if step > max_episode_steps:\n",
    "                        done = True\n",
    "\n",
    "                episode_rewards[i_episode] = totalReward\n",
    "                agent.update_for_episode()\n",
    "\n",
    "            mult_avgs.append(avgs)\n",
    "            mult_probs1.append(probs1)\n",
    "            mult_probs2.append(probs2)\n",
    "\n",
    "        avgs = np.mean(np.array(mult_avgs), axis=0)\n",
    "        std_avg = np.std(np.mean(np.array(mult_avgs), axis=1), axis=0)\n",
    "        probs1 = np.mean(np.array(mult_probs1), axis=0)\n",
    "        probs2 = np.mean(np.array(mult_probs2), axis=0)\n",
    "\n",
    "        all_avgs.append(np.mean(avgs))\n",
    "        all_bests.append(np.max(avgs))\n",
    "        all_lasts.append(avgs[-1])\n",
    "        all_avg_plots.append(avgs)\n",
    "        all_stds.append(std_avg)\n",
    "\n",
    "        results = f'\\n\\nAgent: {agent_name} \\tAlpha: {alpha}'\n",
    "        results += f'\\nAverage: \\t\\t{np.mean(avgs):5.3f}'\n",
    "        results += f'\\nBest {plot_count} Average: \\t{np.max(avgs):5.3f}'\n",
    "        results += f'\\nLast {plot_count} Average: \\t{avgs[-1]:5.3f}'\n",
    "        print(results)"
   ]
  },
  {
   "cell_type": "code",
   "execution_count": 29,
   "metadata": {
    "ExecuteTime": {
     "end_time": "2019-04-05T22:56:00.936763Z",
     "start_time": "2019-04-05T22:56:00.845151Z"
    }
   },
   "outputs": [
    {
     "name": "stdout",
     "output_type": "stream",
     "text": [
      "output/smart-vac-ReinforceAgent.pkl\n"
     ]
    }
   ],
   "source": [
    "# Save Results\n",
    "import pickle\n",
    "\n",
    "pkl_file_name = f'{output_folder}{env_name}-{agent_name}.pkl'\n",
    "print(pkl_file_name)\n",
    "\n",
    "if not just_plot:\n",
    "    res_vars = {\n",
    "        'all_avg_plots': all_avg_plots,\n",
    "        'alpha_base': alpha_base,\n",
    "        'alpha_pows': alpha_pows,\n",
    "        'alphas': alphas,\n",
    "        'all_avgs': all_avgs,\n",
    "        'num_of_tests': num_of_tests,\n",
    "        'all_stds': all_stds,\n",
    "        'agent_name': agent_name,\n",
    "    }\n",
    "\n",
    "    with open(pkl_file_name, \"wb\") as f:\n",
    "        pickle.dump(res_vars, f)"
   ]
  },
  {
   "cell_type": "code",
   "execution_count": 30,
   "metadata": {
    "ExecuteTime": {
     "end_time": "2019-04-05T22:56:01.668637Z",
     "start_time": "2019-04-05T22:56:01.491491Z"
    }
   },
   "outputs": [],
   "source": [
    "# Load Results\n",
    "import pickle\n",
    "\n",
    "if just_plot:\n",
    "    res_vars = {}\n",
    "    with open(pkl_file_name, \"rb\") as f:\n",
    "        res_vars = pickle.load(f)\n",
    "\n",
    "    for var in res_vars:\n",
    "        vars()[var] = res_vars[var]"
   ]
  },
  {
   "cell_type": "code",
   "execution_count": 31,
   "metadata": {
    "ExecuteTime": {
     "end_time": "2019-04-05T22:56:02.296637Z",
     "start_time": "2019-04-05T22:56:02.204724Z"
    }
   },
   "outputs": [
    {
     "name": "stdout",
     "output_type": "stream",
     "text": [
      "\n",
      "Best Average: 0.592690909090909\n",
      "Config: Alpha=0.125\n"
     ]
    }
   ],
   "source": [
    "all_avgs = np.array(all_avgs)\n",
    "idx = np.argmax(all_avgs)\n",
    "results = f'Best Average: {all_avgs[idx]}'\n",
    "results += f'\\nConfig: Alpha={alphas[idx]}'\n",
    "\n",
    "print('')\n",
    "print(results)"
   ]
  },
  {
   "cell_type": "code",
   "execution_count": 36,
   "metadata": {
    "ExecuteTime": {
     "end_time": "2019-04-05T22:59:49.473349Z",
     "start_time": "2019-04-05T22:59:41.527685Z"
    }
   },
   "outputs": [
    {
     "data": {
      "image/png": "[encoded data removed]",
      "text/plain": [
       "<matplotlib.figure.Figure at 0x17005bc2e10>"
      ]
     },
     "metadata": {
      "needs_background": "light"
     },
     "output_type": "display_data"
    }
   ],
   "source": [
    "# Testing with labeling\n",
    "# Plot over time\n",
    "plt.figure(1, figsize=(7,4))\n",
    "plt.plot(np.array(list(range(len(all_avg_plots[0]))))*plot_count, np.array(all_avg_plots[:-1]).T)\n",
    "# plt.title(f'Average Return in {episode_count} episodes')\n",
    "plt.xlabel(f'Episode Count')\n",
    "# plt.ylabel(f'Average Return in {plot_count} episodes')\n",
    "plt.ylabel(f'Average Return')\n",
    "# plt.ylabel(f'Total reward on episode averaged over {plot_count} episodes and {num_of_tests} runs')\n",
    "# plt.ylabel(f'Total Reward on Episode')\n",
    "# plt.legend([f'alpha={alpha_base}^{alpha_pow:.2f}' for alpha_pow in alpha_pows[:-1]])\n",
    "plt.axhline(y=best_performance, linewidth=1, color=\"g\", linestyle='--')\n",
    "\n",
    "lines = plt.gca().get_lines()\n",
    "l1=lines[-1]\n",
    "# labelLine(l1,0.6,label=r'$Re=${}'.format(l1.get_label()),ha='left',va='bottom',align = False)\n",
    "\n",
    "ax = lines[0].axes\n",
    "xmin,xmax = ax.get_xlim()\n",
    "labLines = [f'${alpha_base}^{{ {alpha_pow:.0f} }}$' for alpha_pow in alpha_pows[:-1]]\n",
    "xvals = np.linspace(xmax,xmin,len(labLines)+2)[1:-1]\n",
    "xvals[0] = 1000\n",
    "xvals[1] = 1000\n",
    "xvals[2] = 2000\n",
    "xvals[3] = 1000\n",
    "xvals[4] = 300\n",
    "xvals[5] = 100\n",
    "xvals[6] = 10\n",
    "labelLines(lines,align=False,labels=labLines,\n",
    "          xvals = xvals)\n",
    "plt.savefig(f'{figs_folder}smart_vac_{agent_name}_episodes_{episode_count}_leg.pdf')\n",
    "plt.show()"
   ]
  },
  {
   "cell_type": "code",
   "execution_count": 41,
   "metadata": {
    "ExecuteTime": {
     "end_time": "2019-04-05T23:43:44.302757Z",
     "start_time": "2019-04-05T23:43:36.418166Z"
    },
    "scrolled": false
   },
   "outputs": [
    {
     "data": {
      "image/png": "[encoded data removed]",
      "text/plain": [
       "<matplotlib.figure.Figure at 0x17003c466a0>"
      ]
     },
     "metadata": {
      "needs_background": "light"
     },
     "output_type": "display_data"
    },
    {
     "data": {
      "image/png": "[encoded data removed]",
      "text/plain": [
       "<matplotlib.figure.Figure at 0x17004451438>"
      ]
     },
     "metadata": {
      "needs_background": "light"
     },
     "output_type": "display_data"
    }
   ],
   "source": [
    "# Plot over time\n",
    "plt.figure(1, figsize=(7,4))\n",
    "plt.plot(np.array(list(range(len(all_avg_plots[0]))))*plot_count, np.array(all_avg_plots[:-1]).T)\n",
    "# plt.title(f'Average Return in {episode_count} episodes')\n",
    "plt.xlabel(f'Episode Count')\n",
    "# plt.ylabel(f'Average Return in {plot_count} episodes')\n",
    "plt.ylabel(f'Average Return')\n",
    "# plt.ylabel(f'Total reward on episode averaged over {plot_count} episodes and {num_of_tests} runs')\n",
    "# plt.ylabel(f'Total Reward on Episode')\n",
    "plt.legend([f'$\\\\alpha={alpha_base}^{{ {alpha_pow:.2f} }}$' for alpha_pow in alpha_pows[:-1]])\n",
    "plt.axhline(y=best_performance, linewidth=1, color=\"g\", linestyle='--')\n",
    "# plt.ylim(best_performance-2.13,best_performance+.07)\n",
    "plt.savefig(f'{figs_folder}smart_vac_{agent_name}_episodes_{episode_count}.pdf')\n",
    "\n",
    "\n",
    "# Plot Average Performance\n",
    "plt.figure(2, figsize=(7,4))\n",
    "plt.semilogx(alphas, all_avgs, basex=alpha_base)\n",
    "se = np.array(all_stds) / np.sqrt(num_of_tests)\n",
    "plt.fill_between(alphas, all_avgs - se, all_avgs + se, alpha=0.2)\n",
    "# plt.title(f'Average Return in {episode_count} episodes')\n",
    "plt.xlabel('$\\\\alpha$')\n",
    "plt.ylabel('$E[G_0]$\\nAverage Return')\n",
    "# plt.ylabel('Average Return')\n",
    "# plt.ylabel('$E[G_0]$ (Average Return)')\n",
    "# plt.ylabel(f'Total reward on episodes averaged over {num_of_tests} runs')\n",
    "# plt.ylabel(f'Average Total Reward on Episode')\n",
    "plt.axhline(y=best_performance, linewidth=1, color=\"g\", linestyle='--')\n",
    "# plt.ylim(best_performance-2.13,best_performance+.07)\n",
    "plt.savefig(f'{figs_folder}smart_vac_{agent_name}_episodes_{episode_count}_all.pdf')"
   ]
  },
  {
   "cell_type": "markdown",
   "metadata": {},
   "source": [
    "# REINFORCE with Baseline Agent"
   ]
  },
  {
   "cell_type": "code",
   "execution_count": 42,
   "metadata": {
    "ExecuteTime": {
     "end_time": "2019-04-05T23:48:17.267114Z",
     "start_time": "2019-04-05T23:48:16.673384Z"
    },
    "scrolled": true
   },
   "outputs": [
    {
     "name": "stdout",
     "output_type": "stream",
     "text": [
      "[0.03125 0.0625  0.125   0.25    0.5     1.     ]\n",
      "[0.0078125 0.015625  0.03125   0.0625    0.125     0.25      0.5\n",
      " 1.       ]\n"
     ]
    }
   ],
   "source": [
    "AgentClass = ReinforceWithBaselineAgent\n",
    "\n",
    "alpha_base = 2\n",
    "alpha_pows_w = np.linspace(-5, 0, 6)\n",
    "alpha_pows_theta = np.linspace(-7, 0, 8)\n",
    "alphas_w = np.power(alpha_base, alpha_pows_w)\n",
    "alphas_theta = np.power(alpha_base, alpha_pows_theta)\n",
    "print(alphas_w)\n",
    "print(alphas_theta)\n",
    "\n",
    "num_of_tests = 10\n",
    "episode_count = 10000\n",
    "plot_count = int(episode_count / 100)\n",
    "\n",
    "agent_name = AgentClass.__name__\n",
    "\n",
    "if not just_plot:\n",
    "    results = \"\"\n",
    "    all_best_avgs = []\n",
    "    all_best_alpha_thetas = []\n",
    "    all_total_avgs = []\n",
    "    all_total_bests = []\n",
    "    all_total_lasts = []\n",
    "    all_total_stds = []\n",
    "    for alpha_pow_w in alpha_pows_w:\n",
    "        all_avgs = []\n",
    "        all_bests = []\n",
    "        all_lasts = []\n",
    "        all_stds = []\n",
    "        alpha_w = np.power(alpha_base, alpha_pow_w)\n",
    "        for alpha_pow_theta in alpha_pows_theta:\n",
    "            alpha_theta = np.power(alpha_base, alpha_pow_theta)\n",
    "            params_str = f'alpha_w_{alpha_w}_alpha_theta_{alpha_theta}_episodes_{episode_count}'\n",
    "            mult_avgs = []\n",
    "            for i_test in range(num_of_tests):\n",
    "                print()\n",
    "                print(i_test + 1, end=' ')\n",
    "\n",
    "                # Initialize the agent\n",
    "                agent = AgentClass(alpha_theta=alpha_theta, alpha_w=alpha_w)\n",
    "\n",
    "                avgs = []\n",
    "                probs1 = []\n",
    "                probs2 = []\n",
    "\n",
    "                episode_rewards = np.zeros(episode_count)\n",
    "                for i_episode in range(episode_count):\n",
    "                    done = False\n",
    "                    totalReward = 0\n",
    "\n",
    "                    if i_episode >= plot_count and (i_episode % plot_count == 0):\n",
    "                        avg = np.average(episode_rewards[i_episode - plot_count:i_episode])\n",
    "                        avgs.append(avg)\n",
    "\n",
    "                        # deterministic position\n",
    "                        env.x = 0\n",
    "                        env.y = 1\n",
    "                        obs = env.get_obs()\n",
    "                        prob = agent.get_action_vals_for_obs(obs)\n",
    "                        probs1.append(prob)\n",
    "\n",
    "                        # stochastic position\n",
    "                        env.x = 1\n",
    "                        env.y = 1\n",
    "                        obs = env.get_obs()\n",
    "                        prob = agent.get_action_vals_for_obs(obs)\n",
    "                        probs2.append(prob)\n",
    "\n",
    "                        print('#', end='', flush=True)\n",
    "                        if len(avgs) % 100 == 0:\n",
    "                            print(i_episode)\n",
    "\n",
    "                    obs = env.reset()\n",
    "                    action = agent.start(obs)\n",
    "\n",
    "                    step = 0\n",
    "                    while not done:\n",
    "                        obs, reward, done = env.step(action)\n",
    "                        action = agent.step(obs, reward, done)\n",
    "                        totalReward += reward\n",
    "\n",
    "                        step += 1\n",
    "                        if step > max_episode_steps:\n",
    "                            done = True\n",
    "\n",
    "                    episode_rewards[i_episode] = totalReward\n",
    "                    agent.update_for_episode()\n",
    "\n",
    "                mult_avgs.append(avgs)\n",
    "\n",
    "            avgs = np.mean(np.array(mult_avgs), axis=0)\n",
    "            std_avg = np.std(np.mean(np.array(mult_avgs), axis=1), axis=0)\n",
    "\n",
    "            all_avgs.append(np.mean(avgs))\n",
    "            all_bests.append(np.max(avgs))\n",
    "            all_lasts.append(avgs[-1])\n",
    "            all_stds.append(std_avg)\n",
    "\n",
    "            results_tmp = f'\\n\\nAgent: {agent_name} \\tAlpha_w: {alpha_w}\\tAlpha_theta: {alpha_theta}'\n",
    "            results_tmp += f'\\nAverage: \\t\\t{np.mean(avgs):5.3f}'\n",
    "            results_tmp += f'\\nBest {plot_count} Average: \\t{np.max(avgs):5.3f}'\n",
    "            results_tmp += f'\\nLast {plot_count} Average: \\t{avgs[-1]:5.3f}'\n",
    "            print(results_tmp)\n",
    "\n",
    "            results += results_tmp\n",
    "\n",
    "        # print best results\n",
    "        all_avgs = np.array(all_avgs)\n",
    "        idx = np.argmax(all_avgs)\n",
    "        all_best_avgs.append(all_avgs[idx])\n",
    "        all_best_alpha_thetas.append(alphas_theta[idx])\n",
    "\n",
    "        # Save for plotting\n",
    "        all_total_avgs.append(all_avgs)\n",
    "        all_total_bests.append(all_bests)\n",
    "        all_total_lasts.append(all_lasts)\n",
    "        all_total_stds.append(all_stds)"
   ]
  },
  {
   "cell_type": "code",
   "execution_count": 43,
   "metadata": {
    "ExecuteTime": {
     "end_time": "2019-04-05T23:48:17.982537Z",
     "start_time": "2019-04-05T23:48:17.883612Z"
    }
   },
   "outputs": [
    {
     "name": "stdout",
     "output_type": "stream",
     "text": [
      "output/smart-vac-ReinforceWithBaselineAgent.pkl\n"
     ]
    }
   ],
   "source": [
    "# Save Results\n",
    "import pickle\n",
    "\n",
    "pkl_file_name = f'{output_folder}{env_name}-{agent_name}.pkl'\n",
    "print(pkl_file_name)\n",
    "\n",
    "if not just_plot:\n",
    "    res_vars = {\n",
    "        'agent_name': agent_name,\n",
    "        'all_best_avgs': all_best_avgs,\n",
    "        'alphas_w': alphas_w,\n",
    "        'all_best_alpha_thetas': all_best_alpha_thetas,\n",
    "        'alpha_base': alpha_base,\n",
    "        'all_total_avgs': all_total_avgs,\n",
    "        'all_total_bests': all_total_bests,\n",
    "        'all_total_lasts': all_total_lasts,\n",
    "        'all_total_stds': all_total_stds,\n",
    "        'alphas_theta': alphas_theta,\n",
    "        'alpha_pows_w': alpha_pows_w,\n",
    "        'alpha_pows_theta': alpha_pows_theta,\n",
    "    }\n",
    "\n",
    "    with open(pkl_file_name, \"wb\") as f:\n",
    "        pickle.dump(res_vars, f)"
   ]
  },
  {
   "cell_type": "code",
   "execution_count": 44,
   "metadata": {
    "ExecuteTime": {
     "end_time": "2019-04-05T23:48:20.747952Z",
     "start_time": "2019-04-05T23:48:18.616253Z"
    }
   },
   "outputs": [],
   "source": [
    "# Load Results\n",
    "import pickle\n",
    "\n",
    "if just_plot:\n",
    "    res_vars = {}\n",
    "    with open(pkl_file_name, \"rb\") as f:\n",
    "        res_vars = pickle.load(f)\n",
    "\n",
    "    for var in res_vars:\n",
    "        vars()[var] = res_vars[var]"
   ]
  },
  {
   "cell_type": "code",
   "execution_count": 45,
   "metadata": {
    "ExecuteTime": {
     "end_time": "2019-04-05T23:48:21.431385Z",
     "start_time": "2019-04-05T23:48:21.341390Z"
    }
   },
   "outputs": [
    {
     "name": "stdout",
     "output_type": "stream",
     "text": [
      "\n",
      "Best Average: 0.5881131313131313\n",
      "Config: Alpha_w=0.5, Alpha_theta=0.25\n"
     ]
    }
   ],
   "source": [
    "# Print best results\n",
    "all_best_avgs = np.array(all_best_avgs)\n",
    "idx = np.argmax(all_best_avgs)\n",
    "results_tmp = f'Best Average: {all_best_avgs[idx]}'\n",
    "results_tmp += f'\\nConfig: Alpha_w={alphas_w[idx]}, Alpha_theta={all_best_alpha_thetas[idx]}'\n",
    "\n",
    "print('')\n",
    "print(results_tmp)"
   ]
  },
  {
   "cell_type": "code",
   "execution_count": 55,
   "metadata": {
    "ExecuteTime": {
     "end_time": "2019-04-05T23:52:39.720861Z",
     "start_time": "2019-04-05T23:52:35.403568Z"
    }
   },
   "outputs": [
    {
     "data": {
      "image/png": "[encoded data removed]",
      "text/plain": [
       "<matplotlib.figure.Figure at 0x170044520b8>"
      ]
     },
     "metadata": {
      "needs_background": "light"
     },
     "output_type": "display_data"
    }
   ],
   "source": [
    "all_total_avgs = np.array(all_total_avgs)\n",
    "all_total_stds = np.array(all_total_stds)\n",
    "plt.figure(1, figsize=(7, 4))\n",
    "\n",
    "for i in range(all_total_avgs.shape[0]):\n",
    "    all_avgs = all_total_avgs[i, :]\n",
    "    plt.semilogx(alphas_theta, all_avgs, basex=alpha_base)\n",
    "    se = np.array(all_total_stds[i, :]) / np.sqrt(num_of_tests)\n",
    "    plt.fill_between(alphas_theta, all_avgs - se, all_avgs + se, alpha=0.2)\n",
    "# plt.title(f'Average Return in {episode_count} Episodes')\n",
    "plt.xlabel('$\\\\alpha_\\\\theta$')\n",
    "plt.ylabel('Average Return')\n",
    "# plt.ylabel('Average Total Reward on Episode')\n",
    "plt.legend(\n",
    "    [f'$\\\\alpha _{{w}}={alpha_base}^{{ {alpha_pow:.0f} }}$' for alpha_pow in alpha_pows_w])\n",
    "plt.axhline(y=best_performance, linewidth=1, color=\"g\", linestyle='--')\n",
    "# plt.ylim(best_performance-2.13, best_performance+.07)\n",
    "plt.savefig(f'{figs_folder}smart_vac_{agent_name}_episodes_{episode_count}_all.pdf')"
   ]
  },
  {
   "cell_type": "code",
   "execution_count": 56,
   "metadata": {
    "ExecuteTime": {
     "end_time": "2019-04-06T00:08:52.313136Z",
     "start_time": "2019-04-06T00:08:48.273814Z"
    }
   },
   "outputs": [
    {
     "data": {
      "image/png": "[encoded data removed]",
      "text/plain": [
       "<matplotlib.figure.Figure at 0x17003bc87b8>"
      ]
     },
     "metadata": {
      "needs_background": "light"
     },
     "output_type": "display_data"
    }
   ],
   "source": [
    "all_total_avgs = np.array(all_total_avgs)\n",
    "all_total_stds = np.array(all_total_stds)\n",
    "plt.figure(1, figsize=(7, 4))\n",
    "\n",
    "for i in range(all_total_avgs.shape[0]):\n",
    "    all_avgs = all_total_avgs[i, :]\n",
    "    plt.semilogx(alphas_theta, all_avgs, basex=alpha_base)\n",
    "    se = np.array(all_total_stds[i, :]) / np.sqrt(num_of_tests)\n",
    "    plt.fill_between(alphas_theta, all_avgs - se, all_avgs + se, alpha=0.2)\n",
    "# plt.title(f'Average Return in {episode_count} Episodes')\n",
    "plt.xlabel('$\\\\alpha_\\\\theta$')\n",
    "plt.ylabel('Average Return')\n",
    "# plt.ylabel('Average Total Reward on Episode')\n",
    "# plt.legend(\n",
    "#     [f'$\\\\alpha _{{w}}={alpha_base}^{{ {alpha_pow:.0f} }}$' for alpha_pow in alpha_pows_w])\n",
    "plt.axhline(y=best_performance, linewidth=1, color=\"g\", linestyle='--')\n",
    "# plt.ylim(best_performance-2.13, best_performance+.07)\n",
    "\n",
    "lines = plt.gca().get_lines()\n",
    "l1=lines[-1]\n",
    "# labelLine(l1,0.6,label=r'$Re=${}'.format(l1.get_label()),ha='left',va='bottom',align = False)\n",
    "labelLine(l1,0.6,label='$v_*(s_0)$',ha='left',va='bottom',align = False)\n",
    "\n",
    "ax = lines[0].axes\n",
    "xmin,xmax = ax.get_xlim()\n",
    "labLines = [f'$\\\\alpha _{{w}}={alpha_base}^{{ {alpha_pow:.0f} }}$' for alpha_pow in alpha_pows_w]\n",
    "xvals = np.logspace(np.log2(xmin),np.log2(xmax),len(labLines)+2,base=2)[1:-1]\n",
    "labelLines(lines,align=False,labels=labLines,\n",
    "          xvals = xvals)\n",
    "plt.savefig(f'{figs_folder}smart_vac_{agent_name}_episodes_{episode_count}_leg.pdf')"
   ]
  },
  {
   "cell_type": "code",
   "execution_count": null,
   "metadata": {
    "ExecuteTime": {
     "end_time": "2019-04-04T21:19:02.593145Z",
     "start_time": "2019-04-04T21:19:02.498144Z"
    }
   },
   "outputs": [],
   "source": []
  },
  {
   "cell_type": "markdown",
   "metadata": {},
   "source": [
    "# Actor-Critic Agent"
   ]
  },
  {
   "cell_type": "code",
   "execution_count": null,
   "metadata": {
    "ExecuteTime": {
     "end_time": "2019-04-05T22:28:36.866552Z",
     "start_time": "2019-04-05T22:28:14.621Z"
    },
    "scrolled": true
   },
   "outputs": [],
   "source": [
    "AgentClass = ActorCriticAgent\n",
    "\n",
    "alpha_base = 2\n",
    "alpha_pows_w = np.linspace(-5, -1, 3)\n",
    "alpha_pows_theta = np.linspace(-5, 2, 8)\n",
    "alphas_w = np.power(alpha_base, alpha_pows_w)\n",
    "alphas_theta = np.power(alpha_base, alpha_pows_theta)\n",
    "print(alphas_w)\n",
    "print(alphas_theta)\n",
    "\n",
    "num_of_tests = 10\n",
    "episode_count = 10000\n",
    "plot_count = int(episode_count / 100)\n",
    "\n",
    "agent_name = AgentClass.__name__\n",
    "\n",
    "if not just_plot:\n",
    "    results = \"\"\n",
    "    all_best_avgs = []\n",
    "    all_best_alpha_thetas = []\n",
    "    all_total_avgs = []\n",
    "    all_total_bests = []\n",
    "    all_total_lasts = []\n",
    "    all_total_stds = []\n",
    "    for alpha_pow_w in alpha_pows_w:\n",
    "        all_avgs = []\n",
    "        all_bests = []\n",
    "        all_lasts = []\n",
    "        all_stds = []\n",
    "        alpha_w = np.power(alpha_base, alpha_pow_w)\n",
    "        for alpha_pow_theta in alpha_pows_theta:\n",
    "            alpha_theta = np.power(alpha_base, alpha_pow_theta)\n",
    "            params_str = f'alpha_w_{alpha_w}_alpha_theta_{alpha_theta}_episodes_{episode_count}'\n",
    "            mult_avgs = []\n",
    "            for i_test in range(num_of_tests):\n",
    "                print()\n",
    "                print(i_test + 1, end=' ')\n",
    "\n",
    "                # Initialize the agent\n",
    "                agent = AgentClass(alpha_theta=alpha_theta, alpha_w=alpha_w)\n",
    "\n",
    "                avgs = []\n",
    "                probs1 = []\n",
    "                probs2 = []\n",
    "\n",
    "                episode_rewards = np.zeros(episode_count)\n",
    "                for i_episode in range(episode_count):\n",
    "                    done = False\n",
    "                    totalReward = 0\n",
    "\n",
    "                    if i_episode >= plot_count and (i_episode % plot_count == 0):\n",
    "                        avg = np.average(episode_rewards[i_episode - plot_count:i_episode])\n",
    "                        avgs.append(avg)\n",
    "\n",
    "                        # deterministic position\n",
    "                        env.x = 0\n",
    "                        env.y = 1\n",
    "                        obs = env.get_obs()\n",
    "                        prob = agent.get_action_vals_for_obs(obs)\n",
    "                        probs1.append(prob)\n",
    "\n",
    "                        # stochastic position\n",
    "                        env.x = 1\n",
    "                        env.y = 1\n",
    "                        obs = env.get_obs()\n",
    "                        prob = agent.get_action_vals_for_obs(obs)\n",
    "                        probs2.append(prob)\n",
    "\n",
    "                        print('#', end='', flush=True)\n",
    "                        if len(avgs) % 100 == 0:\n",
    "                            print(i_episode)\n",
    "\n",
    "                    obs = env.reset()\n",
    "                    action = agent.start(obs)\n",
    "\n",
    "                    step = 0\n",
    "                    while not done:\n",
    "                        obs, reward, done = env.step(action)\n",
    "                        action = agent.step(obs, reward, done)\n",
    "                        totalReward += reward\n",
    "\n",
    "                        step += 1\n",
    "                        if step > max_episode_steps:\n",
    "                            done = True\n",
    "\n",
    "                    episode_rewards[i_episode] = totalReward\n",
    "                    agent.update_for_episode()\n",
    "\n",
    "                mult_avgs.append(avgs)\n",
    "\n",
    "            avgs = np.mean(np.array(mult_avgs), axis=0)\n",
    "            std_avg = np.std(np.mean(np.array(mult_avgs), axis=1), axis=0)\n",
    "\n",
    "            all_avgs.append(np.mean(avgs))\n",
    "            all_bests.append(np.max(avgs))\n",
    "            all_lasts.append(avgs[-1])\n",
    "            all_stds.append(std_avg)\n",
    "\n",
    "            results_tmp = f'\\n\\nAgent: {agent_name} \\tAlpha_w: {alpha_w}\\tAlpha_theta: {alpha_theta}'\n",
    "            results_tmp += f'\\nAverage: \\t\\t{np.mean(avgs):5.3f}'\n",
    "            results_tmp += f'\\nBest {plot_count} Average: \\t{np.max(avgs):5.3f}'\n",
    "            results_tmp += f'\\nLast {plot_count} Average: \\t{avgs[-1]:5.3f}'\n",
    "            print(results_tmp)\n",
    "\n",
    "            results += results_tmp\n",
    "\n",
    "        # print best results\n",
    "        all_avgs = np.array(all_avgs)\n",
    "        idx = np.argmax(all_avgs)\n",
    "        all_best_avgs.append(all_avgs[idx])\n",
    "        all_best_alpha_thetas.append(alphas_theta[idx])\n",
    "\n",
    "        # Save for plotting\n",
    "        all_total_avgs.append(all_avgs)\n",
    "        all_total_bests.append(all_bests)\n",
    "        all_total_lasts.append(all_lasts)\n",
    "        all_total_stds.append(all_stds)"
   ]
  },
  {
   "cell_type": "code",
   "execution_count": null,
   "metadata": {
    "ExecuteTime": {
     "end_time": "2019-04-05T22:28:36.869309Z",
     "start_time": "2019-04-05T22:28:14.624Z"
    }
   },
   "outputs": [],
   "source": [
    "# Save Results\n",
    "import pickle\n",
    "\n",
    "pkl_file_name = f'{output_folder}{env_name}-{agent_name}.pkl'\n",
    "print(pkl_file_name)\n",
    "\n",
    "if not just_plot:\n",
    "    res_vars = {\n",
    "        'agent_name': agent_name,\n",
    "        'all_best_avgs': all_best_avgs,\n",
    "        'alphas_w': alphas_w,\n",
    "        'all_best_alpha_thetas': all_best_alpha_thetas,\n",
    "        'alpha_base': alpha_base,\n",
    "        'all_total_avgs': all_total_avgs,\n",
    "        'all_total_bests': all_total_bests,\n",
    "        'all_total_lasts': all_total_lasts,\n",
    "        'all_total_stds': all_total_stds,\n",
    "        'alphas_theta': alphas_theta,\n",
    "        'alpha_pows_w': alpha_pows_w,\n",
    "        'alpha_pows_theta': alpha_pows_theta,\n",
    "    }\n",
    "\n",
    "    with open(pkl_file_name, \"wb\") as f:\n",
    "        pickle.dump(res_vars, f)"
   ]
  },
  {
   "cell_type": "code",
   "execution_count": null,
   "metadata": {
    "ExecuteTime": {
     "end_time": "2019-04-05T22:28:36.871541Z",
     "start_time": "2019-04-05T22:28:14.628Z"
    }
   },
   "outputs": [],
   "source": [
    "# Load Results\n",
    "import pickle\n",
    "\n",
    "if just_plot:\n",
    "    res_vars = {}\n",
    "    with open(pkl_file_name, \"rb\") as f:\n",
    "        res_vars = pickle.load(f)\n",
    "\n",
    "    for var in res_vars:\n",
    "        vars()[var] = res_vars[var]"
   ]
  },
  {
   "cell_type": "code",
   "execution_count": null,
   "metadata": {
    "ExecuteTime": {
     "end_time": "2019-04-05T22:28:36.873527Z",
     "start_time": "2019-04-05T22:28:14.632Z"
    }
   },
   "outputs": [],
   "source": [
    "# Print best results\n",
    "all_best_avgs = np.array(all_best_avgs)\n",
    "idx = np.argmax(all_best_avgs)\n",
    "results_tmp = f'Best Average: {all_best_avgs[idx]}'\n",
    "results_tmp += f'\\nConfig: Alpha_w={alphas_w[idx]}, Alpha_theta={all_best_alpha_thetas[idx]}'\n",
    "\n",
    "print('')\n",
    "print(results_tmp)"
   ]
  },
  {
   "cell_type": "code",
   "execution_count": null,
   "metadata": {
    "ExecuteTime": {
     "end_time": "2019-04-05T22:28:36.877529Z",
     "start_time": "2019-04-05T22:28:14.636Z"
    }
   },
   "outputs": [],
   "source": [
    "all_total_avgs = np.array(all_total_avgs)\n",
    "all_total_stds = np.array(all_total_stds)\n",
    "plt.figure(1, figsize=(7, 4))\n",
    "\n",
    "for i in range(all_total_avgs.shape[0]):\n",
    "    all_avgs = all_total_avgs[i, :]\n",
    "    plt.semilogx(alphas_theta, all_avgs, basex=alpha_base)\n",
    "    se = np.array(all_total_stds[i, :]) / np.sqrt(num_of_tests)\n",
    "    plt.fill_between(alphas_theta, all_avgs - se, all_avgs + se, alpha=0.2)\n",
    "# plt.title(f'Average Return in {episode_count} Episodes')\n",
    "plt.xlabel('alpha_theta')\n",
    "plt.ylabel('Average Return')\n",
    "# plt.ylabel('Average Total Reward on Episode')\n",
    "plt.legend(\n",
    "    [f'alpha_w={alpha_base}^{alpha_pow:.2f}' for alpha_pow in alpha_pows_w])\n",
    "plt.axhline(y=best_performance, linewidth=1, color=\"g\", linestyle='--')\n",
    "# plt.ylim(best_performance-2.13, best_performance+.07)\n",
    "plt.savefig(f'{figs_folder}smart_vac_{agent_name}_episodes_{episode_count}_all.pdf')"
   ]
  }
 ],
 "metadata": {
  "kernelspec": {
   "display_name": "Python 3",
   "language": "python",
   "name": "python3"
  },
  "language_info": {
   "codemirror_mode": {
    "name": "ipython",
    "version": 3
   },
   "file_extension": ".py",
   "mimetype": "text/x-python",
   "name": "python",
   "nbconvert_exporter": "python",
   "pygments_lexer": "ipython3",
   "version": "3.6.4"
  },
  "notify_time": "30",
  "toc": {
   "base_numbering": 1,
   "nav_menu": {},
   "number_sections": true,
   "sideBar": true,
   "skip_h1_title": false,
   "title_cell": "Table of Contents",
   "title_sidebar": "Contents",
   "toc_cell": false,
   "toc_position": {},
   "toc_section_display": true,
   "toc_window_display": false
  },
  "varInspector": {
   "cols": {
    "lenName": 16,
    "lenType": 16,
    "lenVar": 40
   },
   "kernels_config": {
    "python": {
     "delete_cmd_postfix": "",
     "delete_cmd_prefix": "del ",
     "library": "var_list.py",
     "varRefreshCmd": "print(var_dic_list())"
    },
    "r": {
     "delete_cmd_postfix": ") ",
     "delete_cmd_prefix": "rm(",
     "library": "var_list.r",
     "varRefreshCmd": "cat(var_dic_list()) "
    }
   },
   "types_to_exclude": [
    "module",
    "function",
    "builtin_function_or_method",
    "instance",
    "_Feature"
   ],
   "window_display": false
  }
 },
 "nbformat": 4,
 "nbformat_minor": 2
}
