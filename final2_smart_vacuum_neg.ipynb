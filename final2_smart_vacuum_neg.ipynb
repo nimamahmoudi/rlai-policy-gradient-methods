{
 "cells": [
  {
   "cell_type": "code",
   "execution_count": 1,
   "metadata": {
    "ExecuteTime": {
     "end_time": "2019-03-28T21:11:22.237616Z",
     "start_time": "2019-03-28T21:11:21.835619Z"
    }
   },
   "outputs": [],
   "source": [
    "# import needed libs\n",
    "\n",
    "%load_ext autoreload\n",
    "\n",
    "# Auto reloading causes the kernel to reload the libraries we have\n",
    "%autoreload 2\n",
    "\n",
    "# usual imports for visualization, etc.\n",
    "import numpy as np\n",
    "import matplotlib.pyplot as plt\n",
    "\n",
    "import datetime\n",
    "\n",
    "# make it reproducible\n",
    "np.random.seed(0)\n",
    "\n",
    "# show plots inline\n",
    "%matplotlib inline"
   ]
  },
  {
   "cell_type": "code",
   "execution_count": 2,
   "metadata": {
    "ExecuteTime": {
     "end_time": "2019-03-28T21:11:22.476618Z",
     "start_time": "2019-03-28T21:11:22.393623Z"
    }
   },
   "outputs": [],
   "source": [
    "# Some initializations\n",
    "\n",
    "from envs import SmartVac\n",
    "from agents import ReinforceAgent, ReinforceWithBaselineAgent, ActorCriticAgent\n",
    "\n",
    "max_episode_steps = 100\n",
    "results_folder = 'res/'\n",
    "figs_folder = 'figs/'"
   ]
  },
  {
   "cell_type": "code",
   "execution_count": 3,
   "metadata": {
    "ExecuteTime": {
     "end_time": "2019-03-28T21:11:22.729968Z",
     "start_time": "2019-03-28T21:11:22.646522Z"
    }
   },
   "outputs": [],
   "source": [
    "best_performance = -1.37\n",
    "env = SmartVac(terminal_rewards=(-1,-3))"
   ]
  },
  {
   "cell_type": "code",
   "execution_count": 4,
   "metadata": {
    "ExecuteTime": {
     "end_time": "2019-03-28T21:11:23.007620Z",
     "start_time": "2019-03-28T21:11:22.915148Z"
    }
   },
   "outputs": [],
   "source": [
    "from cycler import cycler\n",
    "def set_plt_rc():\n",
    "    font = {'family': 'serif','size': 12}\n",
    "    \n",
    "#     SMALL_SIZE = 8\n",
    "#     MEDIUM_SIZE = 10\n",
    "#     BIGGER_SIZE = 12\n",
    "\n",
    "#     plt.rc('font', size=SMALL_SIZE)          # controls default text sizes\n",
    "#     plt.rc('axes', titlesize=SMALL_SIZE)     # fontsize of the axes title\n",
    "#     plt.rc('axes', labelsize=MEDIUM_SIZE)    # fontsize of the x and y labels\n",
    "#     plt.rc('xtick', labelsize=SMALL_SIZE)    # fontsize of the tick labels\n",
    "#     plt.rc('ytick', labelsize=SMALL_SIZE)    # fontsize of the tick labels\n",
    "#     plt.rc('legend', fontsize=SMALL_SIZE)    # legend fontsize\n",
    "#     plt.rc('figure', titlesize=BIGGER_SIZE)  # fontsize of the figure title\n",
    "\n",
    "\n",
    "#     plt.rc('font', family='serif')\n",
    "    plt.rc('font', family=font['family'], size=font['size'])\n",
    "    \n",
    "    \n",
    "#     plt.rc('xtick', labelsize='x-small')\n",
    "#     plt.rc('ytick', labelsize='x-small')\n",
    "    \n",
    "    plt.rc('xtick', labelsize='medium')\n",
    "    plt.rc('ytick', labelsize='medium')\n",
    "    \n",
    "    plt.rc('axes', prop_cycle=(cycler(color=['#1f77b4', '#ff7f0e', '#2ca02c', '#d62728',\n",
    "                                         '#9467bd', '#8c564b', '#e377c2', '#7f7f7f',\n",
    "                                         '#bcbd22', '#17becf']) +\n",
    "                           cycler(linestyle=['-', '--', ':', '-.','-', '--', ':', '-.','-', '--'])))\n",
    "    \n",
    "set_plt_rc()"
   ]
  },
  {
   "cell_type": "markdown",
   "metadata": {},
   "source": [
    "# REINFORCE Agent"
   ]
  },
  {
   "cell_type": "code",
   "execution_count": 11,
   "metadata": {
    "ExecuteTime": {
     "end_time": "2019-03-28T22:11:03.772853Z",
     "start_time": "2019-03-28T21:42:02.309286Z"
    },
    "code_folding": [],
    "scrolled": true
   },
   "outputs": [
    {
     "name": "stdout",
     "output_type": "stream",
     "text": [
      "\n",
      "1 ###################################################################################################\n",
      "2 ###################################################################################################\n",
      "3 ###################################################################################################\n",
      "4 ###################################################################################################\n",
      "5 ###################################################################################################\n",
      "6 ###################################################################################################\n",
      "7 ###################################################################################################\n",
      "8 ###################################################################################################\n",
      "9 ###################################################################################################\n",
      "10 ###################################################################################################\n",
      "\n",
      "Agent: ReinforceAgent \tAlpha: 0.0078125\n",
      "Average: \t\t-2.428\n",
      "Best 100 Average: \t-2.332\n",
      "Last 100 Average: \t-2.364\n",
      "\n",
      "1 ###################################################################################################\n",
      "2 ###################################################################################################\n",
      "3 ###################################################################################################\n",
      "4 ###################################################################################################\n",
      "5 ###################################################################################################\n",
      "6 ###################################################################################################\n",
      "7 ###################################################################################################\n",
      "8 ###################################################################################################\n",
      "9 ###################################################################################################\n",
      "10 ###################################################################################################\n",
      "\n",
      "Agent: ReinforceAgent \tAlpha: 0.015625\n",
      "Average: \t\t-2.414\n",
      "Best 100 Average: \t-2.286\n",
      "Last 100 Average: \t-2.374\n",
      "\n",
      "1 ###################################################################################################\n",
      "2 ###################################################################################################\n",
      "3 ###################################################################################################\n",
      "4 ###################################################################################################\n",
      "5 ###################################################################################################\n",
      "6 ###################################################################################################\n",
      "7 ###################################################################################################\n",
      "8 ###################################################################################################\n",
      "9 ###################################################################################################\n",
      "10 ###################################################################################################\n",
      "\n",
      "Agent: ReinforceAgent \tAlpha: 0.03125\n",
      "Average: \t\t-2.407\n",
      "Best 100 Average: \t-2.330\n",
      "Last 100 Average: \t-2.373\n",
      "\n",
      "1 ###################################################################################################\n",
      "2 ###################################################################################################\n",
      "3 ###################################################################################################\n",
      "4 ###################################################################################################\n",
      "5 ###################################################################################################\n",
      "6 ###################################################################################################\n",
      "7 ###################################################################################################\n",
      "8 ###################################################################################################\n",
      "9 ###################################################################################################\n",
      "10 ###################################################################################################\n",
      "\n",
      "Agent: ReinforceAgent \tAlpha: 0.0625\n",
      "Average: \t\t-2.407\n",
      "Best 100 Average: \t-2.319\n",
      "Last 100 Average: \t-2.415\n",
      "\n",
      "1 ###################################################################################################\n",
      "2 ###################################################################################################\n",
      "3 ###################################################################################################\n",
      "4 ###################################################################################################\n",
      "5 ###################################################################################################\n",
      "6 ###################################################################################################\n",
      "7 ###################################################################################################\n",
      "8 ###################################################################################################\n",
      "9 ###################################################################################################\n",
      "10 ###################################################################################################\n",
      "\n",
      "Agent: ReinforceAgent \tAlpha: 0.125\n",
      "Average: \t\t-2.425\n",
      "Best 100 Average: \t-2.311\n",
      "Last 100 Average: \t-2.380\n",
      "\n",
      "1 ###################################################################################################\n",
      "2 ###################################################################################################\n",
      "3 ###################################################################################################\n",
      "4 ###################################################################################################\n",
      "5 ###################################################################################################\n",
      "6 ###################################################################################################\n",
      "7 ###################################################################################################\n",
      "8 ###################################################################################################\n",
      "9 ###################################################################################################\n",
      "10 ###################################################################################################\n",
      "\n",
      "Agent: ReinforceAgent \tAlpha: 0.25\n",
      "Average: \t\t-2.480\n",
      "Best 100 Average: \t-2.261\n",
      "Last 100 Average: \t-2.626\n",
      "\n",
      "1 ###################################################################################################\n",
      "2 ###################################################################################################\n",
      "3 ###################################################################################################\n",
      "4 ###################################################################################################\n",
      "5 ###################################################################################################\n",
      "6 ###################################################################################################\n",
      "7 ###################################################################################################\n",
      "8 ###################################################################################################\n",
      "9 ###################################################################################################\n",
      "10 ###################################################################################################\n",
      "\n",
      "Agent: ReinforceAgent \tAlpha: 0.5\n",
      "Average: \t\t-3.079\n",
      "Best 100 Average: \t-2.748\n",
      "Last 100 Average: \t-2.823\n",
      "\n",
      "1 ###################################################################################################\n",
      "2 ###################################################################################################\n"
     ]
    },
    {
     "name": "stdout",
     "output_type": "stream",
     "text": [
      "3 ###################################################################################################\n",
      "4 ###################################################################################################\n",
      "5 ###################################################################################################\n",
      "6 ###################################################################################################\n",
      "7 ###################################################################################################\n",
      "8 ###################################################################################################\n",
      "9 ###################################################################################################\n",
      "10 ###################################################################################################\n",
      "\n",
      "Agent: ReinforceAgent \tAlpha: 1.0\n",
      "Average: \t\t-2.185\n",
      "Best 100 Average: \t-1.984\n",
      "Last 100 Average: \t-2.096\n"
     ]
    }
   ],
   "source": [
    "alpha_base = 2\n",
    "alpha_pows = np.linspace(-7, 0, 8)\n",
    "alphas = np.power(alpha_base, alpha_pows)\n",
    "\n",
    "AgentClass = ReinforceAgent\n",
    "\n",
    "num_of_tests = 10\n",
    "episode_count = 10000\n",
    "plot_count = int(episode_count / 100)\n",
    "\n",
    "agent_name = AgentClass.__name__\n",
    "\n",
    "all_avg_plots = []\n",
    "all_avgs = []\n",
    "all_bests = []\n",
    "all_lasts = []\n",
    "all_stds = []\n",
    "for alpha_pow in alpha_pows:\n",
    "    alpha = np.power(alpha_base, alpha_pow)\n",
    "    params_str = f'alpha={alpha_base}^{alpha_pow:.2f}_episodes_{episode_count}'    \n",
    "    mult_avgs = []\n",
    "    mult_probs1 = []\n",
    "    mult_probs2 = []\n",
    "    for i_test in range(num_of_tests):\n",
    "        print()\n",
    "        print(i_test + 1, end=' ')\n",
    "\n",
    "        # Initialize the agent\n",
    "        agent = AgentClass(alpha=alpha)\n",
    "\n",
    "        avgs = []\n",
    "        probs1 = []\n",
    "        probs2 = []\n",
    "\n",
    "        episode_rewards = np.zeros(episode_count)\n",
    "        for i_episode in range(episode_count):\n",
    "            done = False\n",
    "            totalReward = 0\n",
    "\n",
    "            if i_episode >= plot_count and (i_episode % plot_count == 0):\n",
    "                avg = np.average(episode_rewards[i_episode - plot_count:i_episode])\n",
    "                avgs.append(avg)\n",
    "\n",
    "                # deterministic position\n",
    "                env.x = 0\n",
    "                env.y = 1\n",
    "                obs = env.get_obs()\n",
    "                prob = agent.get_action_vals_for_obs(obs)\n",
    "                probs1.append(prob)\n",
    "\n",
    "                # stochastic position\n",
    "                env.x = 1\n",
    "                env.y = 1\n",
    "                obs = env.get_obs()\n",
    "                prob = agent.get_action_vals_for_obs(obs)\n",
    "                probs2.append(prob)\n",
    "\n",
    "                print('#', end='', flush=True)\n",
    "                if len(avgs) % 100 == 0:\n",
    "                    print(i_episode)\n",
    "\n",
    "            obs = env.reset()\n",
    "            action = agent.start(obs)\n",
    "\n",
    "            step = 0\n",
    "            while not done:\n",
    "                obs, reward, done = env.step(action)\n",
    "                action = agent.step(obs, reward, done)\n",
    "                totalReward += reward\n",
    "\n",
    "                step += 1\n",
    "                if step > max_episode_steps:\n",
    "                    done = True\n",
    "\n",
    "            episode_rewards[i_episode] = totalReward\n",
    "            agent.update_for_episode()\n",
    "\n",
    "        mult_avgs.append(avgs)\n",
    "        mult_probs1.append(probs1)\n",
    "        mult_probs2.append(probs2)\n",
    "\n",
    "    avgs = np.mean(np.array(mult_avgs), axis=0)\n",
    "    std_avg = np.std(np.mean(np.array(mult_avgs), axis=1), axis=0)\n",
    "    probs1 = np.mean(np.array(mult_probs1), axis=0)\n",
    "    probs2 = np.mean(np.array(mult_probs2), axis=0)\n",
    "    \n",
    "    all_avgs.append(np.mean(avgs))\n",
    "    all_bests.append(np.max(avgs))\n",
    "    all_lasts.append(avgs[-1])\n",
    "    all_avg_plots.append(avgs)\n",
    "    all_stds.append(std_avg)\n",
    "    \n",
    "    results = f'\\n\\nAgent: {agent_name} \\tAlpha: {alpha}'\n",
    "    results += f'\\nAverage: \\t\\t{np.mean(avgs):5.3f}'\n",
    "    results += f'\\nBest {plot_count} Average: \\t{np.max(avgs):5.3f}'\n",
    "    results += f'\\nLast {plot_count} Average: \\t{avgs[-1]:5.3f}'\n",
    "    print(results)"
   ]
  },
  {
   "cell_type": "code",
   "execution_count": 12,
   "metadata": {
    "ExecuteTime": {
     "end_time": "2019-03-28T22:11:04.773857Z",
     "start_time": "2019-03-28T22:11:04.692855Z"
    }
   },
   "outputs": [
    {
     "name": "stdout",
     "output_type": "stream",
     "text": [
      "\n",
      "Best Average: -2.1852252525252522\n",
      "Config: Alpha=1.0\n"
     ]
    }
   ],
   "source": [
    "all_avgs = np.array(all_avgs)\n",
    "idx = np.argmax(all_avgs)\n",
    "results = f'Best Average: {all_avgs[idx]}'\n",
    "results += f'\\nConfig: Alpha={alphas[idx]}'\n",
    "\n",
    "print('')\n",
    "print(results)"
   ]
  },
  {
   "cell_type": "code",
   "execution_count": 13,
   "metadata": {
    "ExecuteTime": {
     "end_time": "2019-03-28T22:11:07.636855Z",
     "start_time": "2019-03-28T22:11:05.628219Z"
    },
    "scrolled": false
   },
   "outputs": [
    {
     "data": {
      "image/png": "[encoded data removed]",
      "text/plain": [
       "<matplotlib.figure.Figure at 0x1598527add8>"
      ]
     },
     "metadata": {
      "needs_background": "light"
     },
     "output_type": "display_data"
    },
    {
     "data": {
      "image/png": "[encoded data removed]",
      "text/plain": [
       "<matplotlib.figure.Figure at 0x159852bfd68>"
      ]
     },
     "metadata": {
      "needs_background": "light"
     },
     "output_type": "display_data"
    }
   ],
   "source": [
    "# Plot over time\n",
    "plt.figure(1, figsize=(7,4))\n",
    "plt.plot(np.array(list(range(len(all_avg_plots[0]))))*plot_count, np.array(all_avg_plots).T)\n",
    "# plt.title(f'Average Return in {episode_count} episodes')\n",
    "plt.xlabel(f'Episode Count')\n",
    "# plt.ylabel(f'Average Return in {plot_count} episodes')\n",
    "# plt.ylabel(f'Total reward on episode averaged over {plot_count} episodes and {num_of_tests} runs')\n",
    "plt.ylabel(f'Average Total Reward on Episode')\n",
    "plt.legend([f'alpha={alpha_base}^{alpha_pow:.2f}' for alpha_pow in alpha_pows])\n",
    "# plt.axhline(y=best_performance, linewidth=1, color=\"g\", linestyle='--')\n",
    "# plt.ylim(best_performance-2.13,best_performance+.07)\n",
    "plt.savefig(f'{figs_folder}smart_vac_neg_{agent_name}_episodes_{episode_count}.pdf')\n",
    "\n",
    "\n",
    "# Plot Average Performance\n",
    "plt.figure(2, figsize=(7,4))\n",
    "plt.semilogx(alphas, all_avgs, basex=alpha_base)\n",
    "se = np.array(all_stds) / np.sqrt(num_of_tests)\n",
    "plt.fill_between(alphas, all_avgs - se, all_avgs + se, alpha=0.2)\n",
    "# plt.title(f'Average Return in {episode_count} episodes')\n",
    "plt.xlabel('alpha')\n",
    "# plt.ylabel('Average Return')\n",
    "# plt.ylabel(f'Total reward on episodes averaged over {num_of_tests} runs')\n",
    "plt.ylabel(f'Average Total Reward on Episodes')\n",
    "# plt.axhline(y=best_performance, linewidth=1, color=\"g\", linestyle='--')\n",
    "# plt.ylim(best_performance-2.13,best_performance+.07)\n",
    "plt.savefig(f'{figs_folder}smart_vac_neg_{agent_name}_episodes_{episode_count}_all.pdf')"
   ]
  },
  {
   "cell_type": "markdown",
   "metadata": {
    "heading_collapsed": true
   },
   "source": [
    "# REINFORCE with Baseline Agent"
   ]
  },
  {
   "cell_type": "code",
   "execution_count": 10,
   "metadata": {
    "ExecuteTime": {
     "end_time": "2019-03-28T21:41:33.623435Z",
     "start_time": "2019-03-28T21:40:39.296556Z"
    },
    "hidden": true,
    "scrolled": true
   },
   "outputs": [
    {
     "name": "stdout",
     "output_type": "stream",
     "text": [
      "[0.03125 0.0625  0.125   0.25    0.5     1.     ]\n",
      "[0.0078125 0.015625  0.03125   0.0625    0.125     0.25      0.5\n",
      " 1.       ]\n",
      "\n",
      "1 ###################################################################################################\n",
      "2 ###################################################################################################\n",
      "3 #################################################################################################"
     ]
    },
    {
     "ename": "KeyboardInterrupt",
     "evalue": "",
     "output_type": "error",
     "traceback": [
      "\u001b[1;31m---------------------------------------------------------------------------\u001b[0m",
      "\u001b[1;31mKeyboardInterrupt\u001b[0m                         Traceback (most recent call last)",
      "\u001b[1;32m<ipython-input-10-a99fc826dcec>\u001b[0m in \u001b[0;36m<module>\u001b[1;34m()\u001b[0m\n\u001b[0;32m     71\u001b[0m \u001b[1;33m\u001b[0m\u001b[0m\n\u001b[0;32m     72\u001b[0m                 \u001b[0mobs\u001b[0m \u001b[1;33m=\u001b[0m \u001b[0menv\u001b[0m\u001b[1;33m.\u001b[0m\u001b[0mreset\u001b[0m\u001b[1;33m(\u001b[0m\u001b[1;33m)\u001b[0m\u001b[1;33m\u001b[0m\u001b[0m\n\u001b[1;32m---> 73\u001b[1;33m                 \u001b[0maction\u001b[0m \u001b[1;33m=\u001b[0m \u001b[0magent\u001b[0m\u001b[1;33m.\u001b[0m\u001b[0mstart\u001b[0m\u001b[1;33m(\u001b[0m\u001b[0mobs\u001b[0m\u001b[1;33m)\u001b[0m\u001b[1;33m\u001b[0m\u001b[0m\n\u001b[0m\u001b[0;32m     74\u001b[0m \u001b[1;33m\u001b[0m\u001b[0m\n\u001b[0;32m     75\u001b[0m                 \u001b[0mstep\u001b[0m \u001b[1;33m=\u001b[0m \u001b[1;36m0\u001b[0m\u001b[1;33m\u001b[0m\u001b[0m\n",
      "\u001b[1;32mD:\\Users\\Nima\\Documents\\GitHub\\rlai-policy-gradient-methods\\agents\\reinforce_baseline.py\u001b[0m in \u001b[0;36mstart\u001b[1;34m(self, observation, done)\u001b[0m\n\u001b[0;32m    105\u001b[0m         \u001b[0maction_values\u001b[0m \u001b[1;33m=\u001b[0m \u001b[0mself\u001b[0m\u001b[1;33m.\u001b[0m\u001b[0mget_action_vals_for_obs\u001b[0m\u001b[1;33m(\u001b[0m\u001b[0mobservation\u001b[0m\u001b[1;33m)\u001b[0m\u001b[1;33m\u001b[0m\u001b[0m\n\u001b[0;32m    106\u001b[0m         \u001b[1;31m# pick a random action based on the probs\u001b[0m\u001b[1;33m\u001b[0m\u001b[1;33m\u001b[0m\u001b[0m\n\u001b[1;32m--> 107\u001b[1;33m         \u001b[0maction\u001b[0m \u001b[1;33m=\u001b[0m \u001b[0mnp\u001b[0m\u001b[1;33m.\u001b[0m\u001b[0mrandom\u001b[0m\u001b[1;33m.\u001b[0m\u001b[0mchoice\u001b[0m\u001b[1;33m(\u001b[0m\u001b[0mlist\u001b[0m\u001b[1;33m(\u001b[0m\u001b[0mrange\u001b[0m\u001b[1;33m(\u001b[0m\u001b[0mself\u001b[0m\u001b[1;33m.\u001b[0m\u001b[0mnum_of_actions\u001b[0m\u001b[1;33m)\u001b[0m\u001b[1;33m)\u001b[0m\u001b[1;33m,\u001b[0m \u001b[0mp\u001b[0m\u001b[1;33m=\u001b[0m\u001b[0maction_values\u001b[0m\u001b[1;33m)\u001b[0m\u001b[1;33m\u001b[0m\u001b[0m\n\u001b[0m\u001b[0;32m    108\u001b[0m \u001b[1;33m\u001b[0m\u001b[0m\n\u001b[0;32m    109\u001b[0m         \u001b[0mself\u001b[0m\u001b[1;33m.\u001b[0m\u001b[0mepisode\u001b[0m\u001b[1;33m[\u001b[0m\u001b[1;34m'actions'\u001b[0m\u001b[1;33m]\u001b[0m\u001b[1;33m.\u001b[0m\u001b[0mappend\u001b[0m\u001b[1;33m(\u001b[0m\u001b[0maction\u001b[0m\u001b[1;33m)\u001b[0m\u001b[1;33m\u001b[0m\u001b[0m\n",
      "\u001b[1;31mKeyboardInterrupt\u001b[0m: "
     ]
    }
   ],
   "source": [
    "AgentClass = ReinforceWithBaselineAgent\n",
    "\n",
    "alpha_base = 2\n",
    "alpha_pows_w = np.linspace(-5, 0, 6)\n",
    "alpha_pows_theta = np.linspace(-7, 0, 8)\n",
    "alphas_w = np.power(alpha_base, alpha_pows_w)\n",
    "alphas_theta = np.power(alpha_base, alpha_pows_theta)\n",
    "print(alphas_w)\n",
    "print(alphas_theta)\n",
    "\n",
    "num_of_tests = 10\n",
    "episode_count = 10000\n",
    "plot_count = int(episode_count / 100)\n",
    "\n",
    "agent_name = AgentClass.__name__\n",
    "\n",
    "results = \"\"\n",
    "all_best_avgs = []\n",
    "all_best_alpha_thetas = []\n",
    "all_total_avgs = []\n",
    "all_total_bests = []\n",
    "all_total_lasts = []\n",
    "all_total_stds = []\n",
    "for alpha_pow_w in alpha_pows_w:\n",
    "    all_avgs = []\n",
    "    all_bests = []\n",
    "    all_lasts = []\n",
    "    all_stds = []\n",
    "    alpha_w = np.power(alpha_base, alpha_pow_w)\n",
    "    for alpha_pow_theta in alpha_pows_theta:\n",
    "        alpha_theta = np.power(alpha_base, alpha_pow_theta)\n",
    "        params_str = f'alpha_w_{alpha_w}_alpha_theta_{alpha_theta}_episodes_{episode_count}'\n",
    "        mult_avgs = []\n",
    "        for i_test in range(num_of_tests):\n",
    "            print()\n",
    "            print(i_test + 1, end=' ')\n",
    "\n",
    "            # Initialize the agent\n",
    "            agent = AgentClass(alpha_theta=alpha_theta, alpha_w=alpha_w)\n",
    "\n",
    "            avgs = []\n",
    "            probs1 = []\n",
    "            probs2 = []\n",
    "\n",
    "            episode_rewards = np.zeros(episode_count)\n",
    "            for i_episode in range(episode_count):\n",
    "                done = False\n",
    "                totalReward = 0\n",
    "\n",
    "                if i_episode >= plot_count and (i_episode % plot_count == 0):\n",
    "                    avg = np.average(episode_rewards[i_episode - plot_count:i_episode])\n",
    "                    avgs.append(avg)\n",
    "\n",
    "                    # deterministic position\n",
    "                    env.x = 0\n",
    "                    env.y = 1\n",
    "                    obs = env.get_obs()\n",
    "                    prob = agent.get_action_vals_for_obs(obs)\n",
    "                    probs1.append(prob)\n",
    "\n",
    "                    # stochastic position\n",
    "                    env.x = 1\n",
    "                    env.y = 1\n",
    "                    obs = env.get_obs()\n",
    "                    prob = agent.get_action_vals_for_obs(obs)\n",
    "                    probs2.append(prob)\n",
    "\n",
    "                    print('#', end='', flush=True)\n",
    "                    if len(avgs) % 100 == 0:\n",
    "                        print(i_episode)\n",
    "\n",
    "                obs = env.reset()\n",
    "                action = agent.start(obs)\n",
    "\n",
    "                step = 0\n",
    "                while not done:\n",
    "                    obs, reward, done = env.step(action)\n",
    "                    action = agent.step(obs, reward, done)\n",
    "                    totalReward += reward\n",
    "\n",
    "                    step += 1\n",
    "                    if step > max_episode_steps:\n",
    "                        done = True\n",
    "\n",
    "                episode_rewards[i_episode] = totalReward\n",
    "                agent.update_for_episode()\n",
    "\n",
    "            mult_avgs.append(avgs)\n",
    "\n",
    "        avgs = np.mean(np.array(mult_avgs), axis=0)\n",
    "        std_avg = np.std(np.mean(np.array(mult_avgs), axis=1), axis=0)\n",
    "\n",
    "        all_avgs.append(np.mean(avgs))\n",
    "        all_bests.append(np.max(avgs))\n",
    "        all_lasts.append(avgs[-1])\n",
    "        all_stds.append(std_avg)\n",
    "\n",
    "        results_tmp = f'\\n\\nAgent: {agent_name} \\tAlpha_w: {alpha_w}\\tAlpha_theta: {alpha_theta}'\n",
    "        results_tmp += f'\\nAverage: \\t\\t{np.mean(avgs):5.3f}'\n",
    "        results_tmp += f'\\nBest {plot_count} Average: \\t{np.max(avgs):5.3f}'\n",
    "        results_tmp += f'\\nLast {plot_count} Average: \\t{avgs[-1]:5.3f}'\n",
    "        print(results_tmp)\n",
    "\n",
    "        results += results_tmp\n",
    "        \n",
    "    # print best results\n",
    "    all_avgs = np.array(all_avgs)\n",
    "    idx = np.argmax(all_avgs)\n",
    "    all_best_avgs.append(all_avgs[idx])\n",
    "    all_best_alpha_thetas.append(alphas_theta[idx])\n",
    "    \n",
    "    # Save for plotting\n",
    "    all_total_avgs.append(all_avgs)\n",
    "    all_total_bests.append(all_bests)\n",
    "    all_total_lasts.append(all_lasts)\n",
    "    all_total_stds.append(all_stds)"
   ]
  },
  {
   "cell_type": "code",
   "execution_count": null,
   "metadata": {
    "ExecuteTime": {
     "end_time": "2019-03-28T21:41:33.630440Z",
     "start_time": "2019-03-28T21:40:39.486Z"
    },
    "hidden": true
   },
   "outputs": [],
   "source": [
    "# Print best results\n",
    "all_best_avgs = np.array(all_best_avgs)\n",
    "idx = np.argmax(all_best_avgs)\n",
    "results_tmp = f'Best Average: {all_best_avgs[idx]}'\n",
    "results_tmp += f'\\nConfig: Alpha_w={alphas_w[idx]}, Alpha_theta={all_best_alpha_thetas[idx]}'\n",
    "\n",
    "print('')\n",
    "print(results_tmp)"
   ]
  },
  {
   "cell_type": "code",
   "execution_count": null,
   "metadata": {
    "ExecuteTime": {
     "end_time": "2019-03-28T21:41:33.634635Z",
     "start_time": "2019-03-28T21:40:40.635Z"
    },
    "hidden": true
   },
   "outputs": [],
   "source": [
    "all_total_avgs = np.array(all_total_avgs)\n",
    "all_total_stds = np.array(all_total_stds)\n",
    "plt.figure(1, figsize=(7, 4))\n",
    "\n",
    "for i in range(all_total_avgs.shape[0]):\n",
    "    all_avgs = all_total_avgs[i, :]\n",
    "    plt.semilogx(alphas_theta, all_avgs, basex=alpha_base)\n",
    "    se = np.array(all_total_stds[i, :]) / np.sqrt(num_of_tests)\n",
    "    plt.fill_between(alphas_theta, all_avgs - se, all_avgs + se, alpha=0.2)\n",
    "# plt.title(f'Average Return in {episode_count} Episodes')\n",
    "plt.xlabel('alpha_theta')\n",
    "plt.ylabel('Average Return')\n",
    "plt.legend(\n",
    "    [f'alpha_w={alpha_base}^{alpha_pow:.2f}' for alpha_pow in alpha_pows_w])\n",
    "plt.axhline(y=best_performance, linewidth=1, color=\"g\", linestyle='--')\n",
    "plt.ylim(best_performance-2.13, best_performance+.07)\n",
    "plt.savefig(f'{figs_folder}smart_vac_neg_{agent_name}_episodes_{episode_count}_all.pdf')"
   ]
  },
  {
   "cell_type": "markdown",
   "metadata": {
    "heading_collapsed": true
   },
   "source": [
    "# Actor-Critic Agent"
   ]
  },
  {
   "cell_type": "code",
   "execution_count": null,
   "metadata": {
    "hidden": true
   },
   "outputs": [],
   "source": []
  }
 ],
 "metadata": {
  "kernelspec": {
   "display_name": "Python 3",
   "language": "python",
   "name": "python3"
  },
  "language_info": {
   "codemirror_mode": {
    "name": "ipython",
    "version": 3
   },
   "file_extension": ".py",
   "mimetype": "text/x-python",
   "name": "python",
   "nbconvert_exporter": "python",
   "pygments_lexer": "ipython3",
   "version": "3.6.4"
  },
  "toc": {
   "base_numbering": 1,
   "nav_menu": {},
   "number_sections": true,
   "sideBar": true,
   "skip_h1_title": false,
   "title_cell": "Table of Contents",
   "title_sidebar": "Contents",
   "toc_cell": false,
   "toc_position": {},
   "toc_section_display": true,
   "toc_window_display": false
  },
  "varInspector": {
   "cols": {
    "lenName": 16,
    "lenType": 16,
    "lenVar": 40
   },
   "kernels_config": {
    "python": {
     "delete_cmd_postfix": "",
     "delete_cmd_prefix": "del ",
     "library": "var_list.py",
     "varRefreshCmd": "print(var_dic_list())"
    },
    "r": {
     "delete_cmd_postfix": ") ",
     "delete_cmd_prefix": "rm(",
     "library": "var_list.r",
     "varRefreshCmd": "cat(var_dic_list()) "
    }
   },
   "types_to_exclude": [
    "module",
    "function",
    "builtin_function_or_method",
    "instance",
    "_Feature"
   ],
   "window_display": false
  }
 },
 "nbformat": 4,
 "nbformat_minor": 2
}
