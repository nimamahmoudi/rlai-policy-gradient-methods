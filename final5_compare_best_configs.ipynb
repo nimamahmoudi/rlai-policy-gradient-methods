{
 "cells": [
  {
   "cell_type": "markdown",
   "metadata": {},
   "source": [
    "# Compare the best configurations"
   ]
  },
  {
   "cell_type": "code",
   "execution_count": 1,
   "metadata": {
    "ExecuteTime": {
     "end_time": "2019-04-03T02:36:59.115871Z",
     "start_time": "2019-04-03T02:36:58.620877Z"
    }
   },
   "outputs": [],
   "source": [
    "# import needed libs\n",
    "\n",
    "%load_ext autoreload\n",
    "\n",
    "# Auto reloading causes the kernel to reload the libraries we have\n",
    "%autoreload 2\n",
    "\n",
    "# usual imports for visualization, etc.\n",
    "import numpy as np\n",
    "import matplotlib.pyplot as plt\n",
    "\n",
    "import datetime\n",
    "\n",
    "# make it reproducible\n",
    "np.random.seed(0)\n",
    "\n",
    "just_plot = False\n",
    "# just_plot = True\n",
    "\n",
    "# show plots inline\n",
    "%matplotlib inline"
   ]
  },
  {
   "cell_type": "code",
   "execution_count": 2,
   "metadata": {
    "ExecuteTime": {
     "end_time": "2019-04-03T02:36:59.239061Z",
     "start_time": "2019-04-03T02:36:59.118879Z"
    }
   },
   "outputs": [
    {
     "name": "stderr",
     "output_type": "stream",
     "text": [
      "A subdirectory or file output already exists.\n"
     ]
    }
   ],
   "source": [
    "# Some initializations\n",
    "\n",
    "from envs import SmartVac\n",
    "\n",
    "max_episode_steps = 100\n",
    "results_folder = 'res/'\n",
    "figs_folder = 'figs/'\n",
    "output_folder = 'output/'\n",
    "\n",
    "!mkdir output"
   ]
  },
  {
   "cell_type": "code",
   "execution_count": 3,
   "metadata": {
    "ExecuteTime": {
     "end_time": "2019-04-03T02:36:59.331943Z",
     "start_time": "2019-04-03T02:36:59.241872Z"
    }
   },
   "outputs": [],
   "source": [
    "from cycler import cycler\n",
    "def set_plt_rc():\n",
    "    font = {'family': 'serif','size': 12}\n",
    "    \n",
    "#     SMALL_SIZE = 8\n",
    "#     MEDIUM_SIZE = 10\n",
    "#     BIGGER_SIZE = 12\n",
    "\n",
    "#     plt.rc('font', size=SMALL_SIZE)          # controls default text sizes\n",
    "#     plt.rc('axes', titlesize=SMALL_SIZE)     # fontsize of the axes title\n",
    "#     plt.rc('axes', labelsize=MEDIUM_SIZE)    # fontsize of the x and y labels\n",
    "#     plt.rc('xtick', labelsize=SMALL_SIZE)    # fontsize of the tick labels\n",
    "#     plt.rc('ytick', labelsize=SMALL_SIZE)    # fontsize of the tick labels\n",
    "#     plt.rc('legend', fontsize=SMALL_SIZE)    # legend fontsize\n",
    "#     plt.rc('figure', titlesize=BIGGER_SIZE)  # fontsize of the figure title\n",
    "\n",
    "\n",
    "#     plt.rc('font', family='serif')\n",
    "    plt.rc('font', family=font['family'], size=font['size'])\n",
    "    \n",
    "    \n",
    "#     plt.rc('xtick', labelsize='x-small')\n",
    "#     plt.rc('ytick', labelsize='x-small')\n",
    "    \n",
    "    plt.rc('xtick', labelsize='medium')\n",
    "    plt.rc('ytick', labelsize='medium')\n",
    "    \n",
    "    plt.rc('axes', prop_cycle=(cycler(color=['#1f77b4', '#ff7f0e', '#2ca02c', '#d62728',\n",
    "                                         '#9467bd', '#8c564b', '#e377c2', '#7f7f7f',\n",
    "                                         '#bcbd22', '#17becf']) +\n",
    "                           cycler(linestyle=['-', '--', ':', '-.','-', '--', ':', '-.','-', '--'])))\n",
    "    plt.rcParams['axes.spines.right'] = False\n",
    "    plt.rcParams['axes.spines.top'] = False\n",
    "    \n",
    "set_plt_rc()"
   ]
  },
  {
   "cell_type": "code",
   "execution_count": 4,
   "metadata": {
    "ExecuteTime": {
     "end_time": "2019-04-03T02:37:00.860873Z",
     "start_time": "2019-04-03T02:36:59.335366Z"
    }
   },
   "outputs": [],
   "source": [
    "def run_reinforce_agent(alpha):\n",
    "    AgentClass = ReinforceAgent\n",
    "    \n",
    "    params_str = f'alpha_{alpha}_episodes_{episode_count}'\n",
    "\n",
    "    agent_name = AgentClass.__name__\n",
    "\n",
    "    mult_avgs = []\n",
    "    mult_probs1 = []\n",
    "    mult_probs2 = []\n",
    "    for i_test in range(num_of_tests):\n",
    "        print()\n",
    "        print(i_test + 1, end=' ')\n",
    "\n",
    "        # Initialize the agent\n",
    "        agent = AgentClass(alpha=alpha)\n",
    "\n",
    "        avgs = []\n",
    "        probs1 = []\n",
    "        probs2 = []\n",
    "\n",
    "        episode_rewards = np.zeros(episode_count)\n",
    "        for i_episode in range(episode_count):\n",
    "            done = False\n",
    "            totalReward = 0\n",
    "\n",
    "            if i_episode >= plot_count and (i_episode % plot_count == 0):\n",
    "                avg = np.average(episode_rewards[i_episode - plot_count:i_episode])\n",
    "                avgs.append(avg)\n",
    "\n",
    "                # deterministic position\n",
    "                env.x = 0\n",
    "                env.y = 1\n",
    "                obs = env.get_obs()\n",
    "                prob = agent.get_action_vals_for_obs(obs)\n",
    "                probs1.append(prob)\n",
    "\n",
    "                # stochastic position\n",
    "                env.x = 1\n",
    "                env.y = 1\n",
    "                obs = env.get_obs()\n",
    "                prob = agent.get_action_vals_for_obs(obs)\n",
    "                probs2.append(prob)\n",
    "\n",
    "                print('#', end='', flush=True)\n",
    "                if len(avgs) % 100 == 0:\n",
    "                    print(i_episode)\n",
    "\n",
    "            obs = env.reset()\n",
    "            action = agent.start(obs)\n",
    "\n",
    "            step = 0\n",
    "            while not done:\n",
    "                obs, reward, done = env.step(action)\n",
    "                action = agent.step(obs, reward, done)\n",
    "                totalReward += reward\n",
    "\n",
    "                step += 1\n",
    "                if step > max_episode_steps:\n",
    "                    done = True\n",
    "\n",
    "            episode_rewards[i_episode] = totalReward\n",
    "            agent.update_for_episode()\n",
    "\n",
    "        mult_avgs.append(avgs)\n",
    "        mult_probs1.append(probs1)\n",
    "        mult_probs2.append(probs2)\n",
    "\n",
    "    mult_avgs = np.array(mult_avgs)\n",
    "    avgs = np.mean(mult_avgs, axis=0)\n",
    "    \n",
    "    results_tmp = f'\\n\\nAgent: {agent_name} \\tAlpha: {alpha}'\n",
    "    results_tmp += f'\\nAverage: \\t\\t{np.mean(avgs):5.3f}'\n",
    "    results_tmp += f'\\nBest {plot_count} Average: \\t{np.max(avgs):5.3f}'\n",
    "    results_tmp += f'\\nLast {plot_count} Average: \\t{avgs[-1]:5.3f}'\n",
    "    print(results_tmp)\n",
    "    \n",
    "    return mult_avgs\n",
    "\n",
    "def run_reinforce_with_baseline_agent(alpha_theta=0.1, alpha_w=0.01):\n",
    "    AgentClass = ReinforceWithBaselineAgent\n",
    "    \n",
    "    params_str = f'alpha_theta_{alpha_theta}_alpha_w_{alpha_w}_episodes_{episode_count}'\n",
    "\n",
    "    agent_name = AgentClass.__name__\n",
    "\n",
    "    mult_avgs = []\n",
    "    mult_probs1 = []\n",
    "    mult_probs2 = []\n",
    "    for i_test in range(num_of_tests):\n",
    "        print()\n",
    "        print(i_test + 1, end=' ')\n",
    "\n",
    "        # Initialize the agent\n",
    "        agent = AgentClass(alpha_w=alpha_w, alpha_theta=alpha_theta)\n",
    "\n",
    "        avgs = []\n",
    "        probs1 = []\n",
    "        probs2 = []\n",
    "\n",
    "        episode_rewards = np.zeros(episode_count)\n",
    "        for i_episode in range(episode_count):\n",
    "            done = False\n",
    "            totalReward = 0\n",
    "\n",
    "            if i_episode >= plot_count and (i_episode % plot_count == 0):\n",
    "                avg = np.average(episode_rewards[i_episode - plot_count:i_episode])\n",
    "                avgs.append(avg)\n",
    "\n",
    "                # deterministic position\n",
    "                env.x = 0\n",
    "                env.y = 1\n",
    "                obs = env.get_obs()\n",
    "                prob = agent.get_action_vals_for_obs(obs)\n",
    "                probs1.append(prob)\n",
    "\n",
    "                # stochastic position\n",
    "                env.x = 1\n",
    "                env.y = 1\n",
    "                obs = env.get_obs()\n",
    "                prob = agent.get_action_vals_for_obs(obs)\n",
    "                probs2.append(prob)\n",
    "\n",
    "                print('#', end='', flush=True)\n",
    "                if len(avgs) % 100 == 0:\n",
    "                    print(i_episode)\n",
    "\n",
    "            obs = env.reset()\n",
    "            action = agent.start(obs)\n",
    "\n",
    "            step = 0\n",
    "            while not done:\n",
    "                obs, reward, done = env.step(action)\n",
    "                action = agent.step(obs, reward, done)\n",
    "                totalReward += reward\n",
    "\n",
    "                step += 1\n",
    "                if step > max_episode_steps:\n",
    "                    done = True\n",
    "\n",
    "            episode_rewards[i_episode] = totalReward\n",
    "            agent.update_for_episode()\n",
    "\n",
    "        mult_avgs.append(avgs)\n",
    "        mult_probs1.append(probs1)\n",
    "        mult_probs2.append(probs2)\n",
    "\n",
    "    mult_avgs = np.array(mult_avgs)\n",
    "    avgs = np.mean(mult_avgs, axis=0)\n",
    "    \n",
    "    results_tmp = f'\\n\\nAgent: {agent_name} \\tAlpha_w: {alpha_w}\\tAlpha_theta: {alpha_theta}'\n",
    "    results_tmp += f'\\nAverage: \\t\\t{np.mean(avgs):5.3f}'\n",
    "    results_tmp += f'\\nBest {plot_count} Average: \\t{np.max(avgs):5.3f}'\n",
    "    results_tmp += f'\\nLast {plot_count} Average: \\t{avgs[-1]:5.3f}'\n",
    "    print(results_tmp)\n",
    "    \n",
    "    return mult_avgs\n",
    "\n",
    "def run_actor_critic_agent(alpha_theta=0.1, alpha_w=0.01):\n",
    "    AgentClass = ActorCriticAgent\n",
    "\n",
    "    params_str = f'alpha_theta_{alpha_theta}_alpha_w_{alpha_w}_episodes_{episode_count}'\n",
    "\n",
    "    agent_name = AgentClass.__name__\n",
    "\n",
    "    mult_avgs = []\n",
    "    mult_probs1 = []\n",
    "    mult_probs2 = []\n",
    "    for i_test in range(num_of_tests):\n",
    "        print()\n",
    "        print(i_test + 1, end=' ')\n",
    "\n",
    "        # Initialize the agent\n",
    "        agent = AgentClass(alpha_w=alpha_w, alpha_theta=alpha_theta)\n",
    "\n",
    "        avgs = []\n",
    "        probs1 = []\n",
    "        probs2 = []\n",
    "\n",
    "        episode_rewards = np.zeros(episode_count)\n",
    "        for i_episode in range(episode_count):\n",
    "            done = False\n",
    "            totalReward = 0\n",
    "\n",
    "            if i_episode >= plot_count and (i_episode % plot_count == 0):\n",
    "                avg = np.average(episode_rewards[i_episode - plot_count:i_episode])\n",
    "                avgs.append(avg)\n",
    "\n",
    "                # deterministic position\n",
    "                env.x = 0\n",
    "                env.y = 1\n",
    "                obs = env.get_obs()\n",
    "                prob = agent.get_action_vals_for_obs(obs)\n",
    "                probs1.append(prob)\n",
    "\n",
    "                # stochastic position\n",
    "                env.x = 1\n",
    "                env.y = 1\n",
    "                obs = env.get_obs()\n",
    "                prob = agent.get_action_vals_for_obs(obs)\n",
    "                probs2.append(prob)\n",
    "\n",
    "                print('#', end='', flush=True)\n",
    "                if len(avgs) % 100 == 0:\n",
    "                    print(i_episode)\n",
    "\n",
    "            obs = env.reset()\n",
    "            action = agent.start(obs)\n",
    "\n",
    "            step = 0\n",
    "            while not done:\n",
    "                obs, reward, done = env.step(action)\n",
    "                action = agent.step(obs, reward, done)\n",
    "                totalReward += reward\n",
    "\n",
    "                step += 1\n",
    "                if step > max_episode_steps:\n",
    "                    done = True\n",
    "\n",
    "            episode_rewards[i_episode] = totalReward\n",
    "            agent.update_for_episode()\n",
    "\n",
    "        mult_avgs.append(avgs)\n",
    "        mult_probs1.append(probs1)\n",
    "        mult_probs2.append(probs2)\n",
    "\n",
    "    mult_avgs = np.array(mult_avgs)\n",
    "    avgs = np.mean(mult_avgs, axis=0)\n",
    "    \n",
    "    results_tmp = f'\\n\\nAgent: {agent_name} \\tAlpha_w: {alpha_w}\\tAlpha_theta: {alpha_theta}'\n",
    "    results_tmp += f'\\nAverage: \\t\\t{np.mean(avgs):5.3f}'\n",
    "    results_tmp += f'\\nBest {plot_count} Average: \\t{np.max(avgs):5.3f}'\n",
    "    results_tmp += f'\\nLast {plot_count} Average: \\t{avgs[-1]:5.3f}'\n",
    "    print(results_tmp)\n",
    "    \n",
    "    return mult_avgs\n",
    "    \n",
    "def plot_agent(mult_avgs, agent_name):\n",
    "    avgs = np.mean(np.array(mult_avgs), axis=0)\n",
    "    idx = range(len(avgs))\n",
    "    \n",
    "    plt.figure(1, figsize=(7,4))\n",
    "    plt.plot(np.array(idx)*100, avgs, label=agent_name)\n",
    "#     plt.title(f'Average Return in {episode_count} episodes')\n",
    "    plt.xlabel(f'Time')\n",
    "#     plt.ylabel(f'Average Return per {plot_count} episodes')\n",
    "    plt.ylabel(f'Total Reward on Episode')\n",
    "    plt.axhline(y=best_performance, linewidth=1, color=\"g\", linestyle='--')"
   ]
  },
  {
   "cell_type": "code",
   "execution_count": 5,
   "metadata": {
    "ExecuteTime": {
     "end_time": "2019-04-03T02:37:00.944914Z",
     "start_time": "2019-04-03T02:37:00.864883Z"
    },
    "scrolled": true
   },
   "outputs": [],
   "source": [
    "from agents import ReinforceAgent, ReinforceWithBaselineAgent, ActorCriticAgent\n",
    "\n",
    "best_performance = 0.63\n",
    "env = SmartVac()\n",
    "num_of_tests = 500\n",
    "episode_count = 10000\n",
    "plot_count = int(episode_count / 100)\n",
    "\n",
    "if not just_plot:\n",
    "    avgs1 = run_reinforce_agent(alpha=0.125)\n",
    "    avgs2 = run_reinforce_with_baseline_agent(alpha_w=0.5, alpha_theta=0.25)\n",
    "    avgs3 = run_actor_critic_agent(alpha_w=0.125, alpha_theta=0.5)"
   ]
  },
  {
   "cell_type": "code",
   "execution_count": 6,
   "metadata": {
    "ExecuteTime": {
     "end_time": "2019-04-03T02:37:01.017972Z",
     "start_time": "2019-04-03T02:37:00.946873Z"
    }
   },
   "outputs": [
    {
     "name": "stdout",
     "output_type": "stream",
     "text": [
      "output/smart-vac-comp.pkl\n"
     ]
    }
   ],
   "source": [
    "# Save Results\n",
    "import pickle\n",
    "\n",
    "pkl_file_name = f'{output_folder}smart-vac-comp.pkl'\n",
    "print(pkl_file_name)\n",
    "\n",
    "if not just_plot:\n",
    "    res_vars = {\n",
    "        'avgs1': avgs1,\n",
    "        'avgs2': avgs2,\n",
    "        'avgs3': avgs3,\n",
    "    }\n",
    "\n",
    "    with open(pkl_file_name, \"wb\") as f:\n",
    "        pickle.dump(res_vars, f)"
   ]
  },
  {
   "cell_type": "code",
   "execution_count": 7,
   "metadata": {
    "ExecuteTime": {
     "end_time": "2019-04-03T02:37:01.095873Z",
     "start_time": "2019-04-03T02:37:01.020247Z"
    }
   },
   "outputs": [],
   "source": [
    "# Load Results\n",
    "import pickle\n",
    "\n",
    "if just_plot:\n",
    "    res_vars = {}\n",
    "    with open(pkl_file_name, \"rb\") as f:\n",
    "        res_vars = pickle.load(f)\n",
    "\n",
    "    for var in res_vars:\n",
    "        vars()[var] = res_vars[var]"
   ]
  },
  {
   "cell_type": "code",
   "execution_count": 8,
   "metadata": {
    "ExecuteTime": {
     "end_time": "2019-04-03T02:37:01.512870Z",
     "start_time": "2019-04-03T02:37:01.103908Z"
    }
   },
   "outputs": [
    {
     "data": {
      "image/png": "[encoded data removed]",
      "text/plain": [
       "<matplotlib.figure.Figure at 0x197f54a8b70>"
      ]
     },
     "metadata": {
      "needs_background": "light"
     },
     "output_type": "display_data"
    }
   ],
   "source": [
    "plot_agent(avgs1, 'REINFORCE')\n",
    "plot_agent(avgs2, 'REINFORCE w/ Baseline')\n",
    "plot_agent(avgs3, 'Actor-Critic')\n",
    "plt.legend()\n",
    "plt.savefig(f'{figs_folder}smart-vac-comp.pdf')\n",
    "# plt.savefig(f'{figs_folder}smart-vac-comp.png')\n",
    "plt.show()"
   ]
  },
  {
   "cell_type": "code",
   "execution_count": 9,
   "metadata": {
    "ExecuteTime": {
     "end_time": "2019-04-03T02:37:01.796910Z",
     "start_time": "2019-04-03T02:37:01.515895Z"
    }
   },
   "outputs": [
    {
     "data": {
      "image/png": "[encoded data removed]",
      "text/plain": [
       "<matplotlib.figure.Figure at 0x197f597a5c0>"
      ]
     },
     "metadata": {
      "needs_background": "light"
     },
     "output_type": "display_data"
    }
   ],
   "source": [
    "plt.figure(1, figsize=(7,4))\n",
    "d2 = [np.mean(x, axis=1) for x in [avgs1, avgs2, avgs3]]\n",
    "plt.boxplot(d2, showfliers=False)\n",
    "ax = plt.gca()\n",
    "ax.set_xticklabels(['REINFORCE', 'REINFORCE w/ Baseline', 'Actor-Critic'])\n",
    "plt.savefig(f'{figs_folder}smart-vac-comp-box.pdf')\n",
    "# plt.savefig(f'{figs_folder}smart-vac-comp-box.png')\n",
    "plt.show()"
   ]
  },
  {
   "cell_type": "code",
   "execution_count": 10,
   "metadata": {
    "ExecuteTime": {
     "end_time": "2019-04-03T02:37:02.077979Z",
     "start_time": "2019-04-03T02:37:01.798874Z"
    }
   },
   "outputs": [
    {
     "data": {
      "image/png": "[encoded data removed]",
      "text/plain": [
       "<matplotlib.figure.Figure at 0x197f59c14e0>"
      ]
     },
     "metadata": {
      "needs_background": "light"
     },
     "output_type": "display_data"
    }
   ],
   "source": [
    "plt.figure(1, figsize=(7,5))\n",
    "se = np.std([np.mean(x, axis=1) for x in [avgs1, avgs2, avgs3]], axis=1) / np.sqrt(num_of_tests)\n",
    "agents = ['REINFORCE', 'REINFORCE w/ Baseline', 'Actor-Critic']\n",
    "y = [np.mean(x) for x in [avgs1,avgs2,avgs3]]\n",
    "\n",
    "plt.bar(range(len(agents)), [np.mean(x) for x in [avgs1,avgs2,avgs3]], alpha=0.2, ecolor='black', capsize=10, yerr=se)\n",
    "# plt.errorbar(range(len(agents)), y, se, linestyle='None', color='r')\n",
    "plt.xticks(range(len(agents)), agents)\n",
    "# plt.ylim(bottom=best_performance-0.13)\n",
    "plt.ylim(bottom=0.52, top=0.62)\n",
    "plt.savefig(f'{figs_folder}smart-vac-comp-se.pdf')\n",
    "# plt.savefig(f'{figs_folder}smart-vac-comp-se.png')\n",
    "plt.show()"
   ]
  },
  {
   "cell_type": "code",
   "execution_count": 11,
   "metadata": {
    "ExecuteTime": {
     "end_time": "2019-04-03T02:37:02.151937Z",
     "start_time": "2019-04-03T02:37:02.079877Z"
    }
   },
   "outputs": [],
   "source": [
    "# plt.figure(1, figsize=(7,10))\n",
    "\n",
    "# plt.subplot(211)\n",
    "# d2 = [np.mean(x, axis=1) for x in [avgs1, avgs2, avgs3]]\n",
    "# plt.boxplot(d2, showfliers=False)\n",
    "# ax = plt.gca()\n",
    "# ax.set_xticklabels(['REINFORCE', 'REINFORCE w/ Baseline', 'Actor-Critic'])\n",
    "\n",
    "# ax = plt.subplot(212)\n",
    "# se = np.std([np.mean(x, axis=1) for x in [avgs1, avgs2, avgs3]], axis=1) / np.sqrt(num_of_tests)\n",
    "# agents = ['REINFORCE', 'REINFORCE w/ Baseline', 'Actor-Critic']\n",
    "# y = [np.mean(x) for x in [avgs1,avgs2,avgs3]]\n",
    "# plt.bar(range(len(agents)), [np.mean(x) for x in [avgs1,avgs2,avgs3]], alpha=0.5, ecolor='black', capsize=10, yerr=se)\n",
    "# plt.xticks(range(len(agents)), agents)\n",
    "# plt.ylim(bottom=0.4)\n",
    "\n",
    "# # plt.savefig(f'{figs_folder}smart-vac-comp-se-box.pdf')\n",
    "# # plt.savefig(f'{figs_folder}smart-vac-comp-se-box.png')\n",
    "# plt.show()"
   ]
  },
  {
   "cell_type": "code",
   "execution_count": 12,
   "metadata": {
    "ExecuteTime": {
     "end_time": "2019-04-03T02:37:02.227990Z",
     "start_time": "2019-04-03T02:37:02.153875Z"
    }
   },
   "outputs": [
    {
     "name": "stdout",
     "output_type": "stream",
     "text": [
      "[0.02127907 0.01078289 0.00111944]\n",
      "[0.570539393939394, 0.5789131313131314, 0.6065555555555555]\n"
     ]
    }
   ],
   "source": [
    "print(np.std([np.mean(x, axis=1) for x in [avgs1, avgs2, avgs3]], axis=1) / np.sqrt(num_of_tests))\n",
    "print([np.mean(x) for x in [avgs1,avgs2,avgs3]])"
   ]
  },
  {
   "cell_type": "markdown",
   "metadata": {},
   "source": [
    "# Compare Best Configuration for negative rewards"
   ]
  },
  {
   "cell_type": "code",
   "execution_count": 13,
   "metadata": {
    "ExecuteTime": {
     "end_time": "2019-04-03T02:37:02.314947Z",
     "start_time": "2019-04-03T02:37:02.231876Z"
    },
    "scrolled": true
   },
   "outputs": [],
   "source": [
    "from agents import ReinforceAgent, ReinforceWithBaselineAgent, ActorCriticAgent\n",
    "\n",
    "best_performance = -1.37\n",
    "env = SmartVac(terminal_rewards=(-1,-3))\n",
    "num_of_tests = 500\n",
    "episode_count = 10000\n",
    "plot_count = int(episode_count / 100)\n",
    "\n",
    "if not just_plot:\n",
    "    # REINFORCE doesn't work in this settings\n",
    "    # avgs1 = run_reinforce_agent(alpha=0.5)\n",
    "    avgs2 = run_reinforce_with_baseline_agent(alpha_theta=0.25, alpha_w=0.5)\n",
    "    avgs3 = run_actor_critic_agent(alpha_theta=0.5, alpha_w=0.5)"
   ]
  },
  {
   "cell_type": "code",
   "execution_count": 14,
   "metadata": {
    "ExecuteTime": {
     "end_time": "2019-04-03T02:37:03.617881Z",
     "start_time": "2019-04-03T02:37:03.526873Z"
    }
   },
   "outputs": [
    {
     "name": "stdout",
     "output_type": "stream",
     "text": [
      "output/smart-vac-neg-comp.pkl\n"
     ]
    }
   ],
   "source": [
    "# Save Results\n",
    "import pickle\n",
    "\n",
    "pkl_file_name = f'{output_folder}smart-vac-neg-comp.pkl'\n",
    "print(pkl_file_name)\n",
    "\n",
    "if not just_plot:\n",
    "    res_vars = {\n",
    "        'avgs1': avgs1,\n",
    "        'avgs2': avgs2,\n",
    "        'avgs3': avgs3,\n",
    "    }\n",
    "\n",
    "    with open(pkl_file_name, \"wb\") as f:\n",
    "        pickle.dump(res_vars, f)"
   ]
  },
  {
   "cell_type": "code",
   "execution_count": 15,
   "metadata": {
    "ExecuteTime": {
     "end_time": "2019-04-03T02:37:03.710874Z",
     "start_time": "2019-04-03T02:37:03.620873Z"
    }
   },
   "outputs": [],
   "source": [
    "# Load Results\n",
    "import pickle\n",
    "\n",
    "if just_plot:\n",
    "    res_vars = {}\n",
    "    with open(pkl_file_name, \"rb\") as f:\n",
    "        res_vars = pickle.load(f)\n",
    "\n",
    "    for var in res_vars:\n",
    "        vars()[var] = res_vars[var]"
   ]
  },
  {
   "cell_type": "code",
   "execution_count": 16,
   "metadata": {
    "ExecuteTime": {
     "end_time": "2019-04-03T02:37:02.783873Z",
     "start_time": "2019-04-03T02:37:02.472040Z"
    }
   },
   "outputs": [
    {
     "data": {
      "image/png": "[encoded data removed]",
      "text/plain": [
       "<matplotlib.figure.Figure at 0x197f5a300f0>"
      ]
     },
     "metadata": {
      "needs_background": "light"
     },
     "output_type": "display_data"
    }
   ],
   "source": [
    "# REINFORCE doesn't work in this settings\n",
    "# plot_agent(avgs1, 'REINFORCE')\n",
    "plot_agent(avgs2, 'REINFORCE w/ Baseline')\n",
    "plot_agent(avgs3, 'Actor-Critic')\n",
    "plt.legend()\n",
    "plt.savefig(f'{figs_folder}smart-vac-neg-comp.pdf')\n",
    "# plt.savefig(f'{figs_folder}smart-vac-neg-comp.png')\n",
    "plt.show()"
   ]
  },
  {
   "cell_type": "code",
   "execution_count": 17,
   "metadata": {
    "ExecuteTime": {
     "end_time": "2019-04-03T02:37:03.039910Z",
     "start_time": "2019-04-03T02:37:02.786879Z"
    }
   },
   "outputs": [
    {
     "data": {
      "image/png": "[encoded data removed]",
      "text/plain": [
       "<matplotlib.figure.Figure at 0x197f5ad8198>"
      ]
     },
     "metadata": {
      "needs_background": "light"
     },
     "output_type": "display_data"
    }
   ],
   "source": [
    "plt.figure(1, figsize=(7,4))\n",
    "# d2 = [np.mean(x, axis=1) for x in [avgs1, avgs2, avgs3]]\n",
    "d2 = [np.mean(x, axis=1) for x in [avgs2, avgs3]]\n",
    "plt.boxplot(d2, showfliers=False)\n",
    "ax = plt.gca()\n",
    "# ax.set_xticklabels(['REINFORCE', 'REINFORCE w/ Baseline', 'Actor-Critic'])\n",
    "ax.set_xticklabels(['REINFORCE w/ Baseline', 'Actor-Critic'])\n",
    "plt.savefig(f'{figs_folder}smart-vac-neg-comp-box.pdf')\n",
    "# plt.savefig(f'{figs_folder}smart-vac-neg-comp-box.png')\n",
    "plt.show()"
   ]
  },
  {
   "cell_type": "code",
   "execution_count": 18,
   "metadata": {
    "ExecuteTime": {
     "end_time": "2019-04-03T02:37:03.365873Z",
     "start_time": "2019-04-03T02:37:03.043623Z"
    }
   },
   "outputs": [
    {
     "data": {
      "image/png": "[encoded data removed]",
      "text/plain": [
       "<matplotlib.figure.Figure at 0x197f5af4470>"
      ]
     },
     "metadata": {
      "needs_background": "light"
     },
     "output_type": "display_data"
    }
   ],
   "source": [
    "plt.figure(1, figsize=(7,5))\n",
    "# se = np.std([np.mean(x, axis=1) for x in [avgs1, avgs2, avgs3]], axis=1) / np.sqrt(num_of_tests)\n",
    "se = np.std([np.mean(x, axis=1) for x in [avgs2, avgs3]], axis=1) / np.sqrt(num_of_tests)\n",
    "# agents = ['REINFORCE', 'REINFORCE w/ Baseline', 'Actor-Critic']\n",
    "agents = ['REINFORCE w/ Baseline', 'Actor-Critic']\n",
    "y = [np.mean(x) for x in [avgs1,avgs2,avgs3]]\n",
    "\n",
    "# plt.bar(range(len(agents)), [np.mean(x) for x in [avgs1,avgs2,avgs3]], alpha=0.5, ecolor='black', capsize=10, yerr=se)\n",
    "plt.bar(range(len(agents)), [np.mean(x) for x in [avgs2,avgs3]], alpha=0.2, ecolor='black', capsize=10, yerr=se)\n",
    "plt.xticks(range(len(agents)), agents)\n",
    "plt.ylim(top=-1.38, bottom=-1.46)\n",
    "plt.savefig(f'{figs_folder}smart-vac-neg-comp-se.pdf')\n",
    "# plt.savefig(f'{figs_folder}smart-vac-neg-comp-se.png')\n",
    "plt.show()"
   ]
  },
  {
   "cell_type": "code",
   "execution_count": 19,
   "metadata": {
    "ExecuteTime": {
     "end_time": "2019-04-03T02:37:03.442467Z",
     "start_time": "2019-04-03T02:37:03.367875Z"
    }
   },
   "outputs": [
    {
     "name": "stdout",
     "output_type": "stream",
     "text": [
      "[0.02127907 0.01879955 0.00166159]\n",
      "[0.570539393939394, -1.4312565656565657, -1.3966767676767677]\n"
     ]
    }
   ],
   "source": [
    "print(np.std([np.mean(x, axis=1) for x in [avgs1, avgs2, avgs3]], axis=1) / np.sqrt(num_of_tests))\n",
    "print([np.mean(x) for x in [avgs1,avgs2,avgs3]])"
   ]
  },
  {
   "cell_type": "markdown",
   "metadata": {},
   "source": [
    "# Compare Best Configuration with memory and negative rewards"
   ]
  },
  {
   "cell_type": "code",
   "execution_count": 20,
   "metadata": {
    "ExecuteTime": {
     "end_time": "2019-04-03T02:37:03.523911Z",
     "start_time": "2019-04-03T02:37:03.444873Z"
    },
    "scrolled": true
   },
   "outputs": [],
   "source": [
    "from agents import ReinforceMemoryAgent as ReinforceAgent\n",
    "from agents import ReinforceWithBaselineMemoryAgent as ReinforceWithBaselineAgent\n",
    "from agents import ActorCriticMemoryAgent as ActorCriticAgent\n",
    "\n",
    "best_performance = 0.74 - 2\n",
    "# env = SmartVac()\n",
    "env = SmartVac(terminal_rewards=(-1,-3))\n",
    "num_of_tests = 1000\n",
    "episode_count = 10000\n",
    "plot_count = int(episode_count / 100)\n",
    "\n",
    "if not just_plot:\n",
    "    avgs1 = run_reinforce_agent(alpha=2.0)\n",
    "    avgs2 = run_reinforce_with_baseline_agent(alpha_w=0.125, alpha_theta=0.5)\n",
    "    avgs3 = run_actor_critic_agent(alpha_w=0.5, alpha_theta=2.0)"
   ]
  },
  {
   "cell_type": "code",
   "execution_count": 21,
   "metadata": {
    "ExecuteTime": {
     "end_time": "2019-04-03T02:37:03.617881Z",
     "start_time": "2019-04-03T02:37:03.526873Z"
    }
   },
   "outputs": [
    {
     "name": "stdout",
     "output_type": "stream",
     "text": [
      "output/smart-vac-mem-neg-comp.pkl\n"
     ]
    }
   ],
   "source": [
    "# Save Results\n",
    "import pickle\n",
    "\n",
    "pkl_file_name = f'{output_folder}smart-vac-mem-neg-comp.pkl'\n",
    "print(pkl_file_name)\n",
    "\n",
    "if not just_plot:\n",
    "    res_vars = {\n",
    "        'avgs1': avgs1,\n",
    "        'avgs2': avgs2,\n",
    "        'avgs3': avgs3,\n",
    "    }\n",
    "\n",
    "    with open(pkl_file_name, \"wb\") as f:\n",
    "        pickle.dump(res_vars, f)"
   ]
  },
  {
   "cell_type": "code",
   "execution_count": 22,
   "metadata": {
    "ExecuteTime": {
     "end_time": "2019-04-03T02:37:03.710874Z",
     "start_time": "2019-04-03T02:37:03.620873Z"
    }
   },
   "outputs": [],
   "source": [
    "# Load Results\n",
    "import pickle\n",
    "\n",
    "if just_plot:\n",
    "    res_vars = {}\n",
    "    with open(pkl_file_name, \"rb\") as f:\n",
    "        res_vars = pickle.load(f)\n",
    "\n",
    "    for var in res_vars:\n",
    "        vars()[var] = res_vars[var]"
   ]
  },
  {
   "cell_type": "code",
   "execution_count": 23,
   "metadata": {
    "ExecuteTime": {
     "end_time": "2019-04-03T02:37:04.100874Z",
     "start_time": "2019-04-03T02:37:03.715878Z"
    }
   },
   "outputs": [
    {
     "data": {
      "image/png": "[encoded data removed]",
      "text/plain": [
       "<matplotlib.figure.Figure at 0x197f5bad780>"
      ]
     },
     "metadata": {
      "needs_background": "light"
     },
     "output_type": "display_data"
    }
   ],
   "source": [
    "plot_agent(avgs1, 'REINFORCE')\n",
    "plot_agent(avgs2, 'REINFORCE w/ Baseline')\n",
    "plot_agent(avgs3, 'Actor-Critic')\n",
    "plt.legend()\n",
    "plt.savefig(f'{figs_folder}smart-vac-mem-neg-comp.pdf')\n",
    "# plt.savefig(f'{figs_folder}smart-vac-mem-neg-comp.png')\n",
    "plt.show()"
   ]
  },
  {
   "cell_type": "code",
   "execution_count": 24,
   "metadata": {
    "ExecuteTime": {
     "end_time": "2019-04-03T02:37:04.395909Z",
     "start_time": "2019-04-03T02:37:04.102875Z"
    }
   },
   "outputs": [
    {
     "data": {
      "image/png": "[encoded data removed]",
      "text/plain": [
       "<matplotlib.figure.Figure at 0x197f5a8d5c0>"
      ]
     },
     "metadata": {
      "needs_background": "light"
     },
     "output_type": "display_data"
    }
   ],
   "source": [
    "plt.figure(1, figsize=(7,4))\n",
    "d2 = [np.mean(x, axis=1) for x in [avgs1, avgs2, avgs3]]\n",
    "plt.boxplot(d2, showfliers=False)\n",
    "ax = plt.gca()\n",
    "ax.set_xticklabels(['REINFORCE', 'REINFORCE w/ Baseline', 'Actor-Critic'])\n",
    "plt.savefig(f'{figs_folder}smart-vac-mem-neg-comp-box.pdf')\n",
    "# plt.savefig(f'{figs_folder}smart-vac-mem-neg-comp-box.png')\n",
    "plt.show()"
   ]
  },
  {
   "cell_type": "code",
   "execution_count": 25,
   "metadata": {
    "ExecuteTime": {
     "end_time": "2019-04-03T02:37:04.722935Z",
     "start_time": "2019-04-03T02:37:04.399892Z"
    }
   },
   "outputs": [
    {
     "data": {
      "image/png": "[encoded data removed]",
      "text/plain": [
       "<matplotlib.figure.Figure at 0x197f5cbd0f0>"
      ]
     },
     "metadata": {
      "needs_background": "light"
     },
     "output_type": "display_data"
    }
   ],
   "source": [
    "plt.figure(1, figsize=(7,5))\n",
    "se = np.std([np.mean(x, axis=1) for x in [avgs1, avgs2, avgs3]], axis=1) / np.sqrt(num_of_tests)\n",
    "agents = ['REINFORCE', 'REINFORCE w/ Baseline', 'Actor-Critic']\n",
    "y = [np.mean(x) for x in [avgs1,avgs2,avgs3]]\n",
    "\n",
    "plt.bar(range(len(agents)), [np.mean(x) for x in [avgs1,avgs2,avgs3]], alpha=0.2, ecolor='black', capsize=10, yerr=se)\n",
    "plt.xticks(range(len(agents)), agents)\n",
    "# plt.ylim(bottom=best_performance-0.23)\n",
    "plt.ylim(bottom=-3.2, top=-1.2)\n",
    "plt.savefig(f'{figs_folder}smart-vac-mem-neg-comp-se.pdf')\n",
    "# plt.savefig(f'{figs_folder}smart-vac-mem-neg-comp-se.png')\n",
    "plt.show()"
   ]
  },
  {
   "cell_type": "code",
   "execution_count": 26,
   "metadata": {
    "ExecuteTime": {
     "end_time": "2019-04-03T02:37:04.795929Z",
     "start_time": "2019-04-03T02:37:04.725876Z"
    }
   },
   "outputs": [
    {
     "name": "stdout",
     "output_type": "stream",
     "text": [
      "[0.03730687 0.07094273 0.49500499]\n",
      "[-2.141776767676768, -1.4567323232323233, -2.541407070707069]\n"
     ]
    }
   ],
   "source": [
    "print(np.std([np.mean(x, axis=1) for x in [avgs1, avgs2, avgs3]], axis=1) / np.sqrt(num_of_tests))\n",
    "print([np.mean(x) for x in [avgs1,avgs2,avgs3]])"
   ]
  }
 ],
 "metadata": {
  "kernelspec": {
   "display_name": "Python 3",
   "language": "python",
   "name": "python3"
  },
  "language_info": {
   "codemirror_mode": {
    "name": "ipython",
    "version": 3
   },
   "file_extension": ".py",
   "mimetype": "text/x-python",
   "name": "python",
   "nbconvert_exporter": "python",
   "pygments_lexer": "ipython3",
   "version": "3.6.4"
  },
  "notify_time": "30",
  "toc": {
   "base_numbering": 1,
   "nav_menu": {},
   "number_sections": true,
   "sideBar": true,
   "skip_h1_title": false,
   "title_cell": "Table of Contents",
   "title_sidebar": "Contents",
   "toc_cell": false,
   "toc_position": {},
   "toc_section_display": true,
   "toc_window_display": false
  },
  "varInspector": {
   "cols": {
    "lenName": 16,
    "lenType": 16,
    "lenVar": 40
   },
   "kernels_config": {
    "python": {
     "delete_cmd_postfix": "",
     "delete_cmd_prefix": "del ",
     "library": "var_list.py",
     "varRefreshCmd": "print(var_dic_list())"
    },
    "r": {
     "delete_cmd_postfix": ") ",
     "delete_cmd_prefix": "rm(",
     "library": "var_list.r",
     "varRefreshCmd": "cat(var_dic_list()) "
    }
   },
   "types_to_exclude": [
    "module",
    "function",
    "builtin_function_or_method",
    "instance",
    "_Feature"
   ],
   "window_display": false
  }
 },
 "nbformat": 4,
 "nbformat_minor": 2
}
