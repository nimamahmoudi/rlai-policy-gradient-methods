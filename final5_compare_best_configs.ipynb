{
 "cells": [
  {
   "cell_type": "markdown",
   "metadata": {},
   "source": [
    "# Compare the best configurations"
   ]
  },
  {
   "cell_type": "code",
   "execution_count": 1,
   "metadata": {
    "ExecuteTime": {
     "end_time": "2019-03-29T20:56:55.148393Z",
     "start_time": "2019-03-29T20:56:51.516843Z"
    }
   },
   "outputs": [],
   "source": [
    "# import needed libs\n",
    "\n",
    "%load_ext autoreload\n",
    "\n",
    "# Auto reloading causes the kernel to reload the libraries we have\n",
    "%autoreload 2\n",
    "\n",
    "# usual imports for visualization, etc.\n",
    "import numpy as np\n",
    "import matplotlib.pyplot as plt\n",
    "\n",
    "import datetime\n",
    "\n",
    "# make it reproducible\n",
    "np.random.seed(0)\n",
    "\n",
    "# show plots inline\n",
    "%matplotlib inline"
   ]
  },
  {
   "cell_type": "code",
   "execution_count": 2,
   "metadata": {
    "ExecuteTime": {
     "end_time": "2019-03-29T20:56:55.480878Z",
     "start_time": "2019-03-29T20:56:55.255862Z"
    }
   },
   "outputs": [],
   "source": [
    "# Some initializations\n",
    "\n",
    "from envs import SmartVac\n",
    "from agents import ReinforceAgent, ReinforceWithBaselineAgent, ActorCriticAgent\n",
    "\n",
    "max_episode_steps = 100\n",
    "results_folder = 'res/'\n",
    "figs_folder = 'figs/'"
   ]
  },
  {
   "cell_type": "code",
   "execution_count": 8,
   "metadata": {
    "ExecuteTime": {
     "end_time": "2019-03-29T21:08:47.824946Z",
     "start_time": "2019-03-29T21:08:47.722943Z"
    }
   },
   "outputs": [],
   "source": [
    "from cycler import cycler\n",
    "def set_plt_rc():\n",
    "    font = {'family': 'serif','size': 12}\n",
    "    \n",
    "#     SMALL_SIZE = 8\n",
    "#     MEDIUM_SIZE = 10\n",
    "#     BIGGER_SIZE = 12\n",
    "\n",
    "#     plt.rc('font', size=SMALL_SIZE)          # controls default text sizes\n",
    "#     plt.rc('axes', titlesize=SMALL_SIZE)     # fontsize of the axes title\n",
    "#     plt.rc('axes', labelsize=MEDIUM_SIZE)    # fontsize of the x and y labels\n",
    "#     plt.rc('xtick', labelsize=SMALL_SIZE)    # fontsize of the tick labels\n",
    "#     plt.rc('ytick', labelsize=SMALL_SIZE)    # fontsize of the tick labels\n",
    "#     plt.rc('legend', fontsize=SMALL_SIZE)    # legend fontsize\n",
    "#     plt.rc('figure', titlesize=BIGGER_SIZE)  # fontsize of the figure title\n",
    "\n",
    "\n",
    "#     plt.rc('font', family='serif')\n",
    "    plt.rc('font', family=font['family'], size=font['size'])\n",
    "    \n",
    "    \n",
    "#     plt.rc('xtick', labelsize='x-small')\n",
    "#     plt.rc('ytick', labelsize='x-small')\n",
    "    \n",
    "    plt.rc('xtick', labelsize='medium')\n",
    "    plt.rc('ytick', labelsize='medium')\n",
    "    \n",
    "    plt.rc('axes', prop_cycle=(cycler(color=['#1f77b4', '#ff7f0e', '#2ca02c', '#d62728',\n",
    "                                         '#9467bd', '#8c564b', '#e377c2', '#7f7f7f',\n",
    "                                         '#bcbd22', '#17becf']) +\n",
    "                           cycler(linestyle=['-', '--', ':', '-.','-', '--', ':', '-.','-', '--'])))\n",
    "    \n",
    "set_plt_rc()"
   ]
  },
  {
   "cell_type": "code",
   "execution_count": 26,
   "metadata": {
    "ExecuteTime": {
     "end_time": "2019-03-29T21:24:40.831557Z",
     "start_time": "2019-03-29T21:24:38.728459Z"
    }
   },
   "outputs": [],
   "source": [
    "def run_reinforce_agent(alpha):\n",
    "    AgentClass = ReinforceAgent\n",
    "    \n",
    "    params_str = f'alpha_{alpha}_episodes_{episode_count}'\n",
    "\n",
    "    agent_name = AgentClass.__name__\n",
    "\n",
    "    mult_avgs = []\n",
    "    mult_probs1 = []\n",
    "    mult_probs2 = []\n",
    "    for i_test in range(num_of_tests):\n",
    "        print()\n",
    "        print(i_test + 1, end=' ')\n",
    "\n",
    "        # Initialize the agent\n",
    "        agent = AgentClass(alpha=alpha)\n",
    "\n",
    "        avgs = []\n",
    "        probs1 = []\n",
    "        probs2 = []\n",
    "\n",
    "        episode_rewards = np.zeros(episode_count)\n",
    "        for i_episode in range(episode_count):\n",
    "            done = False\n",
    "            totalReward = 0\n",
    "\n",
    "            if i_episode >= plot_count and (i_episode % plot_count == 0):\n",
    "                avg = np.average(episode_rewards[i_episode - plot_count:i_episode])\n",
    "                avgs.append(avg)\n",
    "\n",
    "                # deterministic position\n",
    "                env.x = 0\n",
    "                env.y = 1\n",
    "                obs = env.get_obs()\n",
    "                prob = agent.get_action_vals_for_obs(obs)\n",
    "                probs1.append(prob)\n",
    "\n",
    "                # stochastic position\n",
    "                env.x = 1\n",
    "                env.y = 1\n",
    "                obs = env.get_obs()\n",
    "                prob = agent.get_action_vals_for_obs(obs)\n",
    "                probs2.append(prob)\n",
    "\n",
    "                print('#', end='', flush=True)\n",
    "                if len(avgs) % 100 == 0:\n",
    "                    print(i_episode)\n",
    "\n",
    "            obs = env.reset()\n",
    "            action = agent.start(obs)\n",
    "\n",
    "            step = 0\n",
    "            while not done:\n",
    "                obs, reward, done = env.step(action)\n",
    "                action = agent.step(obs, reward, done)\n",
    "                totalReward += reward\n",
    "\n",
    "                step += 1\n",
    "                if step > max_episode_steps:\n",
    "                    done = True\n",
    "\n",
    "            episode_rewards[i_episode] = totalReward\n",
    "            agent.update_for_episode()\n",
    "\n",
    "        mult_avgs.append(avgs)\n",
    "        mult_probs1.append(probs1)\n",
    "        mult_probs2.append(probs2)\n",
    "\n",
    "    mult_avgs = np.array(mult_avgs)\n",
    "    avgs = np.mean(mult_avgs, axis=0)\n",
    "    \n",
    "    results_tmp = f'\\n\\nAgent: {agent_name} \\tAlpha: {alpha}'\n",
    "    results_tmp += f'\\nAverage: \\t\\t{np.mean(avgs):5.3f}'\n",
    "    results_tmp += f'\\nBest {plot_count} Average: \\t{np.max(avgs):5.3f}'\n",
    "    results_tmp += f'\\nLast {plot_count} Average: \\t{avgs[-1]:5.3f}'\n",
    "    print(results_tmp)\n",
    "    \n",
    "    return mult_avgs\n",
    "\n",
    "def run_reinforce_with_baseline_agent(alpha_theta=0.1, alpha_w=0.01):\n",
    "    AgentClass = ReinforceWithBaselineAgent\n",
    "    \n",
    "    params_str = f'alpha_theta_{alpha_theta}_alpha_w_{alpha_w}_episodes_{episode_count}'\n",
    "\n",
    "    agent_name = AgentClass.__name__\n",
    "\n",
    "    mult_avgs = []\n",
    "    mult_probs1 = []\n",
    "    mult_probs2 = []\n",
    "    for i_test in range(num_of_tests):\n",
    "        print()\n",
    "        print(i_test + 1, end=' ')\n",
    "\n",
    "        # Initialize the agent\n",
    "        agent = AgentClass(alpha_w=alpha_w, alpha_theta=alpha_theta)\n",
    "\n",
    "        avgs = []\n",
    "        probs1 = []\n",
    "        probs2 = []\n",
    "\n",
    "        episode_rewards = np.zeros(episode_count)\n",
    "        for i_episode in range(episode_count):\n",
    "            done = False\n",
    "            totalReward = 0\n",
    "\n",
    "            if i_episode >= plot_count and (i_episode % plot_count == 0):\n",
    "                avg = np.average(episode_rewards[i_episode - plot_count:i_episode])\n",
    "                avgs.append(avg)\n",
    "\n",
    "                # deterministic position\n",
    "                env.x = 0\n",
    "                env.y = 1\n",
    "                obs = env.get_obs()\n",
    "                prob = agent.get_action_vals_for_obs(obs)\n",
    "                probs1.append(prob)\n",
    "\n",
    "                # stochastic position\n",
    "                env.x = 1\n",
    "                env.y = 1\n",
    "                obs = env.get_obs()\n",
    "                prob = agent.get_action_vals_for_obs(obs)\n",
    "                probs2.append(prob)\n",
    "\n",
    "                print('#', end='', flush=True)\n",
    "                if len(avgs) % 100 == 0:\n",
    "                    print(i_episode)\n",
    "\n",
    "            obs = env.reset()\n",
    "            action = agent.start(obs)\n",
    "\n",
    "            step = 0\n",
    "            while not done:\n",
    "                obs, reward, done = env.step(action)\n",
    "                action = agent.step(obs, reward, done)\n",
    "                totalReward += reward\n",
    "\n",
    "                step += 1\n",
    "                if step > max_episode_steps:\n",
    "                    done = True\n",
    "\n",
    "            episode_rewards[i_episode] = totalReward\n",
    "            agent.update_for_episode()\n",
    "\n",
    "        mult_avgs.append(avgs)\n",
    "        mult_probs1.append(probs1)\n",
    "        mult_probs2.append(probs2)\n",
    "\n",
    "    mult_avgs = np.array(mult_avgs)\n",
    "    avgs = np.mean(mult_avgs, axis=0)\n",
    "    \n",
    "    results_tmp = f'\\n\\nAgent: {agent_name} \\tAlpha_w: {alpha_w}\\tAlpha_theta: {alpha_theta}'\n",
    "    results_tmp += f'\\nAverage: \\t\\t{np.mean(avgs):5.3f}'\n",
    "    results_tmp += f'\\nBest {plot_count} Average: \\t{np.max(avgs):5.3f}'\n",
    "    results_tmp += f'\\nLast {plot_count} Average: \\t{avgs[-1]:5.3f}'\n",
    "    print(results_tmp)\n",
    "    \n",
    "    return mult_avgs\n",
    "\n",
    "def run_actor_critic_agent(alpha_theta=0.1, alpha_w=0.01):\n",
    "    AgentClass = ActorCriticAgent\n",
    "\n",
    "    params_str = f'alpha_theta_{alpha_theta}_alpha_w_{alpha_w}_episodes_{episode_count}'\n",
    "\n",
    "    agent_name = AgentClass.__name__\n",
    "\n",
    "    mult_avgs = []\n",
    "    mult_probs1 = []\n",
    "    mult_probs2 = []\n",
    "    for i_test in range(num_of_tests):\n",
    "        print()\n",
    "        print(i_test + 1, end=' ')\n",
    "\n",
    "        # Initialize the agent\n",
    "        agent = AgentClass(alpha_w=alpha_w, alpha_theta=alpha_theta)\n",
    "\n",
    "        avgs = []\n",
    "        probs1 = []\n",
    "        probs2 = []\n",
    "\n",
    "        episode_rewards = np.zeros(episode_count)\n",
    "        for i_episode in range(episode_count):\n",
    "            done = False\n",
    "            totalReward = 0\n",
    "\n",
    "            if i_episode >= plot_count and (i_episode % plot_count == 0):\n",
    "                avg = np.average(episode_rewards[i_episode - plot_count:i_episode])\n",
    "                avgs.append(avg)\n",
    "\n",
    "                # deterministic position\n",
    "                env.x = 0\n",
    "                env.y = 1\n",
    "                obs = env.get_obs()\n",
    "                prob = agent.get_action_vals_for_obs(obs)\n",
    "                probs1.append(prob)\n",
    "\n",
    "                # stochastic position\n",
    "                env.x = 1\n",
    "                env.y = 1\n",
    "                obs = env.get_obs()\n",
    "                prob = agent.get_action_vals_for_obs(obs)\n",
    "                probs2.append(prob)\n",
    "\n",
    "                print('#', end='', flush=True)\n",
    "                if len(avgs) % 100 == 0:\n",
    "                    print(i_episode)\n",
    "\n",
    "            obs = env.reset()\n",
    "            action = agent.start(obs)\n",
    "\n",
    "            step = 0\n",
    "            while not done:\n",
    "                obs, reward, done = env.step(action)\n",
    "                action = agent.step(obs, reward, done)\n",
    "                totalReward += reward\n",
    "\n",
    "                step += 1\n",
    "                if step > max_episode_steps:\n",
    "                    done = True\n",
    "\n",
    "            episode_rewards[i_episode] = totalReward\n",
    "            agent.update_for_episode()\n",
    "\n",
    "        mult_avgs.append(avgs)\n",
    "        mult_probs1.append(probs1)\n",
    "        mult_probs2.append(probs2)\n",
    "\n",
    "    mult_avgs = np.array(mult_avgs)\n",
    "    avgs = np.mean(mult_avgs, axis=0)\n",
    "    \n",
    "    results_tmp = f'\\n\\nAgent: {agent_name} \\tAlpha_w: {alpha_w}\\tAlpha_theta: {alpha_theta}'\n",
    "    results_tmp += f'\\nAverage: \\t\\t{np.mean(avgs):5.3f}'\n",
    "    results_tmp += f'\\nBest {plot_count} Average: \\t{np.max(avgs):5.3f}'\n",
    "    results_tmp += f'\\nLast {plot_count} Average: \\t{avgs[-1]:5.3f}'\n",
    "    print(results_tmp)\n",
    "    \n",
    "    return mult_avgs\n",
    "    \n",
    "def plot_agent(mult_avgs, agent_name):\n",
    "    avgs = np.mean(np.array(mult_avgs), axis=0)\n",
    "    idx = range(len(avgs))\n",
    "    \n",
    "    plt.figure(1, figsize=(7,4))\n",
    "    plt.plot(np.array(idx)*100, avgs, label=agent_name)\n",
    "#     plt.title(f'Average Return in {episode_count} episodes')\n",
    "    plt.xlabel(f'Time')\n",
    "#     plt.ylabel(f'Average Return per {plot_count} episodes')\n",
    "    plt.ylabel(f'Total Reward on Episode')\n",
    "    plt.axhline(y=best_performance, linewidth=1, color=\"g\", linestyle='--')"
   ]
  },
  {
   "cell_type": "code",
   "execution_count": 45,
   "metadata": {
    "ExecuteTime": {
     "end_time": "2019-03-29T22:20:18.697592Z",
     "start_time": "2019-03-29T22:13:59.289754Z"
    },
    "scrolled": true
   },
   "outputs": [
    {
     "name": "stdout",
     "output_type": "stream",
     "text": [
      "\n",
      "1 ###################################################################################################\n",
      "2 ###################################################################################################\n",
      "3 ###################################################################################################\n",
      "4 ###################################################################################################\n",
      "5 ###################################################################################################\n",
      "6 ###################################################################################################\n",
      "7 ###################################################################################################\n",
      "8 ###################################################################################################\n",
      "9 ###################################################################################################\n",
      "10 ###################################################################################################\n",
      "\n",
      "Agent: ReinforceAgent \tAlpha: 0.125\n",
      "Average: \t\t0.592\n",
      "Best 100 Average: \t0.633\n",
      "Last 100 Average: \t0.603\n",
      "\n",
      "1 ###################################################################################################\n",
      "2 ###################################################################################################\n",
      "3 ###################################################################################################\n",
      "4 ###################################################################################################\n",
      "5 ###################################################################################################\n",
      "6 ###################################################################################################\n",
      "7 ###################################################################################################\n",
      "8 ###################################################################################################\n",
      "9 ###################################################################################################\n",
      "10 ###################################################################################################\n",
      "\n",
      "Agent: ReinforceWithBaselineAgent \tAlpha_w: 0.5\tAlpha_theta: 0.5\n",
      "Average: \t\t0.465\n",
      "Best 100 Average: \t0.576\n",
      "Last 100 Average: \t0.563\n",
      "\n",
      "1 ###################################################################################################\n",
      "2 ###################################################################################################\n",
      "3 ###################################################################################################\n",
      "4 ###################################################################################################\n",
      "5 ###################################################################################################\n",
      "6 ###################################################################################################\n",
      "7 ###################################################################################################\n",
      "8 ###################################################################################################\n",
      "9 ###################################################################################################\n",
      "10 ###################################################################################################\n",
      "\n",
      "Agent: ActorCriticAgent \tAlpha_w: 0.125\tAlpha_theta: 0.5\n",
      "Average: \t\t0.605\n",
      "Best 100 Average: \t0.637\n",
      "Last 100 Average: \t0.619\n"
     ]
    }
   ],
   "source": [
    "best_performance = 0.63\n",
    "env = SmartVac()\n",
    "num_of_tests = 10\n",
    "episode_count = 10000\n",
    "plot_count = int(episode_count / 100)\n",
    "\n",
    "avgs1 = run_reinforce_agent(alpha=0.125)\n",
    "avgs2 = run_reinforce_with_baseline_agent(alpha_w=0.5, alpha_theta=0.5)\n",
    "avgs3 = run_actor_critic_agent(alpha_w=0.125, alpha_theta=0.5)"
   ]
  },
  {
   "cell_type": "code",
   "execution_count": 46,
   "metadata": {
    "ExecuteTime": {
     "end_time": "2019-03-29T22:20:19.243604Z",
     "start_time": "2019-03-29T22:20:18.899854Z"
    }
   },
   "outputs": [
    {
     "data": {
      "image/png": "[encoded data removed]",
      "text/plain": [
       "<matplotlib.figure.Figure at 0x2e45bc43438>"
      ]
     },
     "metadata": {
      "needs_background": "light"
     },
     "output_type": "display_data"
    }
   ],
   "source": [
    "plot_agent(avgs1, 'REINFORCE')\n",
    "plot_agent(avgs2, 'REINFORCE w/ Baseline')\n",
    "plot_agent(avgs3, 'Actor-Critic')\n",
    "plt.legend()\n",
    "plt.savefig(f'{figs_folder}smart-vac-comp.pdf')\n",
    "plt.show()"
   ]
  },
  {
   "cell_type": "code",
   "execution_count": 47,
   "metadata": {
    "ExecuteTime": {
     "end_time": "2019-03-29T22:20:19.665590Z",
     "start_time": "2019-03-29T22:20:19.377591Z"
    }
   },
   "outputs": [
    {
     "data": {
      "image/png": "[encoded data removed]",
      "text/plain": [
       "<matplotlib.figure.Figure at 0x2e45ce12128>"
      ]
     },
     "metadata": {
      "needs_background": "light"
     },
     "output_type": "display_data"
    }
   ],
   "source": [
    "plt.figure(1, figsize=(7,4))\n",
    "d2 = [np.mean(x, axis=1) for x in [avgs1, avgs2, avgs3]]\n",
    "plt.boxplot(d2, showfliers=False)\n",
    "ax = plt.gca()\n",
    "ax.set_xticklabels(['REINFORCE', 'REINFORCE w/ Baseline', 'Actor-Critic'])\n",
    "plt.savefig(f'{figs_folder}smart-vac-comp-box.pdf')\n",
    "plt.show()"
   ]
  },
  {
   "cell_type": "code",
   "execution_count": 69,
   "metadata": {
    "ExecuteTime": {
     "end_time": "2019-03-29T22:32:06.098280Z",
     "start_time": "2019-03-29T22:32:05.835268Z"
    }
   },
   "outputs": [
    {
     "data": {
      "image/png": "[encoded data removed]",
      "text/plain": [
       "<matplotlib.figure.Figure at 0x2e45cfa84a8>"
      ]
     },
     "metadata": {
      "needs_background": "light"
     },
     "output_type": "display_data"
    }
   ],
   "source": [
    "plt.figure(1, figsize=(7,5))\n",
    "se = np.std([np.mean(x, axis=1) for x in [avgs1, avgs2, avgs3]], axis=1) / np.sqrt(num_of_tests)\n",
    "agents = ['REINFORCE', 'REINFORCE w/ Baseline', 'Actor-Critic']\n",
    "y = [np.mean(x) for x in [avgs1,avgs2,avgs3]]\n",
    "\n",
    "plt.bar(range(len(agents)), [np.mean(x) for x in [avgs1,avgs2,avgs3]], alpha=0.0, ecolor='black', capsize=10, yerr=se)\n",
    "# plt.errorbar(range(len(agents)), y, se, linestyle='None', color='r')\n",
    "plt.xticks(range(len(agents)), agents)\n",
    "plt.ylim(bottom=best_performance-0.23)\n",
    "plt.savefig(f'{figs_folder}smart-vac-comp-se.pdf')\n",
    "plt.show()"
   ]
  },
  {
   "cell_type": "code",
   "execution_count": 84,
   "metadata": {
    "ExecuteTime": {
     "end_time": "2019-03-29T22:48:02.161130Z",
     "start_time": "2019-03-29T22:48:02.056977Z"
    }
   },
   "outputs": [],
   "source": [
    "# plt.figure(1, figsize=(7,10))\n",
    "\n",
    "# plt.subplot(211)\n",
    "# d2 = [np.mean(x, axis=1) for x in [avgs1, avgs2, avgs3]]\n",
    "# plt.boxplot(d2, showfliers=False)\n",
    "# ax = plt.gca()\n",
    "# ax.set_xticklabels(['REINFORCE', 'REINFORCE w/ Baseline', 'Actor-Critic'])\n",
    "\n",
    "# ax = plt.subplot(212)\n",
    "# se = np.std([np.mean(x, axis=1) for x in [avgs1, avgs2, avgs3]], axis=1) / np.sqrt(num_of_tests)\n",
    "# agents = ['REINFORCE', 'REINFORCE w/ Baseline', 'Actor-Critic']\n",
    "# y = [np.mean(x) for x in [avgs1,avgs2,avgs3]]\n",
    "# plt.bar(range(len(agents)), [np.mean(x) for x in [avgs1,avgs2,avgs3]], alpha=0.5, ecolor='black', capsize=10, yerr=se)\n",
    "# plt.xticks(range(len(agents)), agents)\n",
    "# plt.ylim(bottom=0.4)\n",
    "\n",
    "# # plt.savefig(f'{figs_folder}smart-vac-comp-se-box.pdf')\n",
    "# plt.show()"
   ]
  },
  {
   "cell_type": "code",
   "execution_count": 66,
   "metadata": {
    "ExecuteTime": {
     "end_time": "2019-03-29T22:28:01.342825Z",
     "start_time": "2019-03-29T22:28:01.245750Z"
    }
   },
   "outputs": [
    {
     "name": "stdout",
     "output_type": "stream",
     "text": [
      "[0.00506919 0.15354722 0.00221754]\n",
      "[0.5916686868686868, 0.465410101010101, 0.6048161616161617]\n"
     ]
    }
   ],
   "source": [
    "print(np.std([np.mean(x, axis=1) for x in [avgs1, avgs2, avgs3]], axis=1))\n",
    "print([np.mean(x) for x in [avgs1,avgs2,avgs3]])"
   ]
  },
  {
   "cell_type": "markdown",
   "metadata": {},
   "source": [
    "# Compare Best Configuration for negative rewards"
   ]
  },
  {
   "cell_type": "code",
   "execution_count": 88,
   "metadata": {
    "ExecuteTime": {
     "end_time": "2019-03-29T23:08:24.853264Z",
     "start_time": "2019-03-29T23:02:12.762936Z"
    },
    "scrolled": true
   },
   "outputs": [
    {
     "name": "stdout",
     "output_type": "stream",
     "text": [
      "\n",
      "1 ###################################################################################################\n",
      "2 ###################################################################################################\n",
      "3 ###################################################################################################\n",
      "4 ###################################################################################################\n",
      "5 ###################################################################################################\n",
      "6 ###################################################################################################\n",
      "7 ###################################################################################################\n",
      "8 ###################################################################################################\n",
      "9 ###################################################################################################\n",
      "10 ###################################################################################################\n",
      "\n",
      "Agent: ReinforceAgent \tAlpha: 0.25\n",
      "Average: \t\t-2.377\n",
      "Best 100 Average: \t-2.245\n",
      "Last 100 Average: \t-2.293\n",
      "\n",
      "1 ###################################################################################################\n",
      "2 ###################################################################################################\n",
      "3 ###################################################################################################\n",
      "4 ###################################################################################################\n",
      "5 ###################################################################################################\n",
      "6 ###################################################################################################\n",
      "7 ###################################################################################################\n",
      "8 ###################################################################################################\n",
      "9 ###################################################################################################\n",
      "10 ###################################################################################################\n",
      "\n",
      "Agent: ReinforceWithBaselineAgent \tAlpha_w: 0.25\tAlpha_theta: 0.25\n",
      "Average: \t\t-1.440\n",
      "Best 100 Average: \t-1.368\n",
      "Last 100 Average: \t-1.368\n",
      "\n",
      "1 ###################################################################################################\n",
      "2 ###################################################################################################\n",
      "3 ###################################################################################################\n",
      "4 ###################################################################################################\n",
      "5 ###################################################################################################\n",
      "6 ###################################################################################################\n",
      "7 ###################################################################################################\n",
      "8 ###################################################################################################\n",
      "9 ###################################################################################################\n",
      "10 ###################################################################################################\n",
      "\n",
      "Agent: ActorCriticAgent \tAlpha_w: 0.5\tAlpha_theta: 0.5\n",
      "Average: \t\t-1.397\n",
      "Best 100 Average: \t-1.362\n",
      "Last 100 Average: \t-1.390\n"
     ]
    }
   ],
   "source": [
    "best_performance = -1.37\n",
    "env = SmartVac(terminal_rewards=(-1,-3))\n",
    "num_of_tests = 10\n",
    "episode_count = 10000\n",
    "plot_count = int(episode_count / 100)\n",
    "\n",
    "# REINFORCE doesn't work in this settings\n",
    "avgs1 = run_reinforce_agent(alpha=0.25)\n",
    "avgs2 = run_reinforce_with_baseline_agent(alpha_theta=0.25, alpha_w=0.25)\n",
    "avgs3 = run_actor_critic_agent(alpha_theta=0.5, alpha_w=0.5)"
   ]
  },
  {
   "cell_type": "code",
   "execution_count": 89,
   "metadata": {
    "ExecuteTime": {
     "end_time": "2019-03-29T23:08:25.585077Z",
     "start_time": "2019-03-29T23:08:25.032748Z"
    }
   },
   "outputs": [
    {
     "data": {
      "image/png": "[encoded data removed]",
      "text/plain": [
       "<matplotlib.figure.Figure at 0x2e45d470c50>"
      ]
     },
     "metadata": {
      "needs_background": "light"
     },
     "output_type": "display_data"
    }
   ],
   "source": [
    "# REINFORCE doesn't work in this settings\n",
    "# plot_agent(avgs1, 'REINFORCE')\n",
    "plot_agent(avgs2, 'REINFORCE w/ Baseline')\n",
    "plot_agent(avgs3, 'Actor-Critic')\n",
    "plt.legend()\n",
    "plt.savefig(f'{figs_folder}smart-vac-neg-comp.pdf')\n",
    "plt.show()"
   ]
  },
  {
   "cell_type": "code",
   "execution_count": 94,
   "metadata": {
    "ExecuteTime": {
     "end_time": "2019-03-29T23:09:18.004033Z",
     "start_time": "2019-03-29T23:09:17.736039Z"
    }
   },
   "outputs": [
    {
     "data": {
      "image/png": "[encoded data removed]",
      "text/plain": [
       "<matplotlib.figure.Figure at 0x2e45bb83b00>"
      ]
     },
     "metadata": {
      "needs_background": "light"
     },
     "output_type": "display_data"
    }
   ],
   "source": [
    "plt.figure(1, figsize=(7,4))\n",
    "# d2 = [np.mean(x, axis=1) for x in [avgs1, avgs2, avgs3]]\n",
    "d2 = [np.mean(x, axis=1) for x in [avgs2, avgs3]]\n",
    "plt.boxplot(d2, showfliers=False)\n",
    "ax = plt.gca()\n",
    "# ax.set_xticklabels(['REINFORCE', 'REINFORCE w/ Baseline', 'Actor-Critic'])\n",
    "ax.set_xticklabels(['REINFORCE w/ Baseline', 'Actor-Critic'])\n",
    "plt.savefig(f'{figs_folder}smart-vac-neg-comp-box.pdf')\n",
    "plt.show()"
   ]
  },
  {
   "cell_type": "code",
   "execution_count": 108,
   "metadata": {
    "ExecuteTime": {
     "end_time": "2019-03-29T23:14:08.568243Z",
     "start_time": "2019-03-29T23:14:08.280302Z"
    }
   },
   "outputs": [
    {
     "data": {
      "image/png": "[encoded data removed]",
      "text/plain": [
       "<matplotlib.figure.Figure at 0x2e45d232d30>"
      ]
     },
     "metadata": {
      "needs_background": "light"
     },
     "output_type": "display_data"
    }
   ],
   "source": [
    "plt.figure(1, figsize=(7,5))\n",
    "# se = np.std([np.mean(x, axis=1) for x in [avgs1, avgs2, avgs3]], axis=1) / np.sqrt(num_of_tests)\n",
    "se = np.std([np.mean(x, axis=1) for x in [avgs2, avgs3]], axis=1) / np.sqrt(num_of_tests)\n",
    "# agents = ['REINFORCE', 'REINFORCE w/ Baseline', 'Actor-Critic']\n",
    "agents = ['REINFORCE w/ Baseline', 'Actor-Critic']\n",
    "y = [np.mean(x) for x in [avgs1,avgs2,avgs3]]\n",
    "\n",
    "# plt.bar(range(len(agents)), [np.mean(x) for x in [avgs1,avgs2,avgs3]], alpha=0.5, ecolor='black', capsize=10, yerr=se)\n",
    "plt.bar(range(len(agents)), [np.mean(x) for x in [avgs2,avgs3]], alpha=0.0, ecolor='black', capsize=10, yerr=se)\n",
    "plt.xticks(range(len(agents)), agents)\n",
    "plt.ylim(top=-1.38, bottom=-1.46)\n",
    "plt.savefig(f'{figs_folder}smart-vac-neg-comp-se.pdf')\n",
    "plt.show()"
   ]
  },
  {
   "cell_type": "code",
   "execution_count": 92,
   "metadata": {
    "ExecuteTime": {
     "end_time": "2019-03-29T23:08:26.662032Z",
     "start_time": "2019-03-29T23:08:26.566031Z"
    }
   },
   "outputs": [
    {
     "name": "stdout",
     "output_type": "stream",
     "text": [
      "[0.09270487 0.03444891 0.00295866]\n",
      "[-2.3773585858585857, -1.440371717171717, -1.397223232323232]\n"
     ]
    }
   ],
   "source": [
    "print(np.std([np.mean(x, axis=1) for x in [avgs1, avgs2, avgs3]], axis=1))\n",
    "print([np.mean(x) for x in [avgs1,avgs2,avgs3]])"
   ]
  },
  {
   "cell_type": "markdown",
   "metadata": {},
   "source": [
    "# Compare Best Configuration with memory"
   ]
  },
  {
   "cell_type": "code",
   "execution_count": null,
   "metadata": {},
   "outputs": [],
   "source": []
  }
 ],
 "metadata": {
  "kernelspec": {
   "display_name": "Python 3",
   "language": "python",
   "name": "python3"
  },
  "language_info": {
   "codemirror_mode": {
    "name": "ipython",
    "version": 3
   },
   "file_extension": ".py",
   "mimetype": "text/x-python",
   "name": "python",
   "nbconvert_exporter": "python",
   "pygments_lexer": "ipython3",
   "version": "3.6.4"
  },
  "notify_time": "30",
  "toc": {
   "base_numbering": 1,
   "nav_menu": {},
   "number_sections": true,
   "sideBar": true,
   "skip_h1_title": false,
   "title_cell": "Table of Contents",
   "title_sidebar": "Contents",
   "toc_cell": false,
   "toc_position": {},
   "toc_section_display": true,
   "toc_window_display": false
  },
  "varInspector": {
   "cols": {
    "lenName": 16,
    "lenType": 16,
    "lenVar": 40
   },
   "kernels_config": {
    "python": {
     "delete_cmd_postfix": "",
     "delete_cmd_prefix": "del ",
     "library": "var_list.py",
     "varRefreshCmd": "print(var_dic_list())"
    },
    "r": {
     "delete_cmd_postfix": ") ",
     "delete_cmd_prefix": "rm(",
     "library": "var_list.r",
     "varRefreshCmd": "cat(var_dic_list()) "
    }
   },
   "types_to_exclude": [
    "module",
    "function",
    "builtin_function_or_method",
    "instance",
    "_Feature"
   ],
   "window_display": false
  }
 },
 "nbformat": 4,
 "nbformat_minor": 2
}
