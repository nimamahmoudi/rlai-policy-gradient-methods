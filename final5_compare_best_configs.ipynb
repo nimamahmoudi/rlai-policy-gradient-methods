{
 "cells": [
  {
   "cell_type": "markdown",
   "metadata": {},
   "source": [
    "# Compare the best configurations"
   ]
  },
  {
   "cell_type": "code",
   "execution_count": 1,
   "metadata": {
    "ExecuteTime": {
     "end_time": "2019-04-09T15:43:03.268450Z",
     "start_time": "2019-04-09T15:43:02.813289Z"
    }
   },
   "outputs": [],
   "source": [
    "# import needed libs\n",
    "\n",
    "%load_ext autoreload\n",
    "\n",
    "# Auto reloading causes the kernel to reload the libraries we have\n",
    "%autoreload 2\n",
    "\n",
    "# usual imports for visualization, etc.\n",
    "import numpy as np\n",
    "import matplotlib.pyplot as plt\n",
    "\n",
    "import datetime\n",
    "\n",
    "# make it reproducible\n",
    "np.random.seed(0)\n",
    "\n",
    "# just_plot = False\n",
    "just_plot = True\n",
    "\n",
    "# show plots inline\n",
    "%matplotlib inline"
   ]
  },
  {
   "cell_type": "code",
   "execution_count": 2,
   "metadata": {
    "ExecuteTime": {
     "end_time": "2019-04-09T15:43:03.414973Z",
     "start_time": "2019-04-09T15:43:03.272591Z"
    }
   },
   "outputs": [
    {
     "name": "stdout",
     "output_type": "stream",
     "text": [
      "mkdir: cannot create directory ‘output’: File exists\r\n"
     ]
    }
   ],
   "source": [
    "# Some initializations\n",
    "\n",
    "from envs import SmartVac\n",
    "\n",
    "max_episode_steps = 100\n",
    "results_folder = 'res/'\n",
    "figs_folder = 'figs/'\n",
    "output_folder = 'output/'\n",
    "\n",
    "!mkdir output"
   ]
  },
  {
   "cell_type": "code",
   "execution_count": 3,
   "metadata": {
    "ExecuteTime": {
     "end_time": "2019-04-09T15:43:03.487810Z",
     "start_time": "2019-04-09T15:43:03.419451Z"
    }
   },
   "outputs": [],
   "source": [
    "from cycler import cycler\n",
    "def set_plt_rc():\n",
    "    font = {'family': 'serif','size': 12}\n",
    "    \n",
    "#     SMALL_SIZE = 8\n",
    "#     MEDIUM_SIZE = 10\n",
    "#     BIGGER_SIZE = 12\n",
    "\n",
    "#     plt.rc('font', size=SMALL_SIZE)          # controls default text sizes\n",
    "#     plt.rc('axes', titlesize=SMALL_SIZE)     # fontsize of the axes title\n",
    "#     plt.rc('axes', labelsize=MEDIUM_SIZE)    # fontsize of the x and y labels\n",
    "#     plt.rc('xtick', labelsize=SMALL_SIZE)    # fontsize of the tick labels\n",
    "#     plt.rc('ytick', labelsize=SMALL_SIZE)    # fontsize of the tick labels\n",
    "#     plt.rc('legend', fontsize=SMALL_SIZE)    # legend fontsize\n",
    "#     plt.rc('figure', titlesize=BIGGER_SIZE)  # fontsize of the figure title\n",
    "\n",
    "\n",
    "#     plt.rc('font', family='serif')\n",
    "    plt.rc('font', family=font['family'], size=font['size'])\n",
    "    \n",
    "    \n",
    "#     plt.rc('xtick', labelsize='x-small')\n",
    "#     plt.rc('ytick', labelsize='x-small')\n",
    "    \n",
    "    plt.rc('xtick', labelsize='medium')\n",
    "    plt.rc('ytick', labelsize='medium')\n",
    "    \n",
    "    plt.rc('axes', prop_cycle=(cycler(color=['#1f77b4', '#ff7f0e', '#2ca02c', '#d62728',\n",
    "                                         '#9467bd', '#8c564b', '#e377c2', '#7f7f7f',\n",
    "                                         '#bcbd22', '#17becf']) +\n",
    "                           cycler(linestyle=['-', '--', ':', '-.','-', '--', ':', '-.','-', '--'])))\n",
    "    plt.rcParams['axes.spines.right'] = False\n",
    "    plt.rcParams['axes.spines.top'] = False\n",
    "    \n",
    "set_plt_rc()"
   ]
  },
  {
   "cell_type": "code",
   "execution_count": 4,
   "metadata": {
    "ExecuteTime": {
     "end_time": "2019-04-09T15:43:03.578376Z",
     "start_time": "2019-04-09T15:43:03.493032Z"
    }
   },
   "outputs": [],
   "source": [
    "def run_reinforce_agent(alpha):\n",
    "    AgentClass = ReinforceAgent\n",
    "    \n",
    "    params_str = f'alpha_{alpha}_episodes_{episode_count}'\n",
    "\n",
    "    agent_name = AgentClass.__name__\n",
    "\n",
    "    mult_avgs = []\n",
    "    mult_probs1 = []\n",
    "    mult_probs2 = []\n",
    "    for i_test in range(num_of_tests):\n",
    "        print()\n",
    "        print(i_test + 1, end=' ')\n",
    "\n",
    "        # Initialize the agent\n",
    "        agent = AgentClass(alpha=alpha)\n",
    "\n",
    "        avgs = []\n",
    "        probs1 = []\n",
    "        probs2 = []\n",
    "\n",
    "        episode_rewards = np.zeros(episode_count)\n",
    "        for i_episode in range(episode_count):\n",
    "            done = False\n",
    "            totalReward = 0\n",
    "\n",
    "            if i_episode >= plot_count and (i_episode % plot_count == 0):\n",
    "                avg = np.average(episode_rewards[i_episode - plot_count:i_episode])\n",
    "                avgs.append(avg)\n",
    "\n",
    "                # deterministic position\n",
    "                env.x = 0\n",
    "                env.y = 1\n",
    "                obs = env.get_obs()\n",
    "                prob = agent.get_action_vals_for_obs(obs)\n",
    "                probs1.append(prob)\n",
    "\n",
    "                # stochastic position\n",
    "                env.x = 1\n",
    "                env.y = 1\n",
    "                obs = env.get_obs()\n",
    "                prob = agent.get_action_vals_for_obs(obs)\n",
    "                probs2.append(prob)\n",
    "\n",
    "                print('#', end='', flush=True)\n",
    "                if len(avgs) % 100 == 0:\n",
    "                    print(i_episode)\n",
    "\n",
    "            obs = env.reset()\n",
    "            action = agent.start(obs)\n",
    "\n",
    "            step = 0\n",
    "            while not done:\n",
    "                obs, reward, done = env.step(action)\n",
    "                action = agent.step(obs, reward, done)\n",
    "                totalReward += reward\n",
    "\n",
    "                step += 1\n",
    "                if step > max_episode_steps:\n",
    "                    done = True\n",
    "\n",
    "            episode_rewards[i_episode] = totalReward\n",
    "            agent.update_for_episode()\n",
    "\n",
    "        mult_avgs.append(avgs)\n",
    "        mult_probs1.append(probs1)\n",
    "        mult_probs2.append(probs2)\n",
    "\n",
    "    mult_avgs = np.array(mult_avgs)\n",
    "    avgs = np.mean(mult_avgs, axis=0)\n",
    "    \n",
    "    results_tmp = f'\\n\\nAgent: {agent_name} \\tAlpha: {alpha}'\n",
    "    results_tmp += f'\\nAverage: \\t\\t{np.mean(avgs):5.3f}'\n",
    "    results_tmp += f'\\nBest {plot_count} Average: \\t{np.max(avgs):5.3f}'\n",
    "    results_tmp += f'\\nLast {plot_count} Average: \\t{avgs[-1]:5.3f}'\n",
    "    print(results_tmp)\n",
    "    \n",
    "    return mult_avgs\n",
    "\n",
    "def run_reinforce_with_baseline_agent(alpha_theta=0.1, alpha_w=0.01):\n",
    "    AgentClass = ReinforceWithBaselineAgent\n",
    "    \n",
    "    params_str = f'alpha_theta_{alpha_theta}_alpha_w_{alpha_w}_episodes_{episode_count}'\n",
    "\n",
    "    agent_name = AgentClass.__name__\n",
    "\n",
    "    mult_avgs = []\n",
    "    mult_probs1 = []\n",
    "    mult_probs2 = []\n",
    "    for i_test in range(num_of_tests):\n",
    "        print()\n",
    "        print(i_test + 1, end=' ')\n",
    "\n",
    "        # Initialize the agent\n",
    "        agent = AgentClass(alpha_w=alpha_w, alpha_theta=alpha_theta)\n",
    "\n",
    "        avgs = []\n",
    "        probs1 = []\n",
    "        probs2 = []\n",
    "\n",
    "        episode_rewards = np.zeros(episode_count)\n",
    "        for i_episode in range(episode_count):\n",
    "            done = False\n",
    "            totalReward = 0\n",
    "\n",
    "            if i_episode >= plot_count and (i_episode % plot_count == 0):\n",
    "                avg = np.average(episode_rewards[i_episode - plot_count:i_episode])\n",
    "                avgs.append(avg)\n",
    "\n",
    "                # deterministic position\n",
    "                env.x = 0\n",
    "                env.y = 1\n",
    "                obs = env.get_obs()\n",
    "                prob = agent.get_action_vals_for_obs(obs)\n",
    "                probs1.append(prob)\n",
    "\n",
    "                # stochastic position\n",
    "                env.x = 1\n",
    "                env.y = 1\n",
    "                obs = env.get_obs()\n",
    "                prob = agent.get_action_vals_for_obs(obs)\n",
    "                probs2.append(prob)\n",
    "\n",
    "                print('#', end='', flush=True)\n",
    "                if len(avgs) % 100 == 0:\n",
    "                    print(i_episode)\n",
    "\n",
    "            obs = env.reset()\n",
    "            action = agent.start(obs)\n",
    "\n",
    "            step = 0\n",
    "            while not done:\n",
    "                obs, reward, done = env.step(action)\n",
    "                action = agent.step(obs, reward, done)\n",
    "                totalReward += reward\n",
    "\n",
    "                step += 1\n",
    "                if step > max_episode_steps:\n",
    "                    done = True\n",
    "\n",
    "            episode_rewards[i_episode] = totalReward\n",
    "            agent.update_for_episode()\n",
    "\n",
    "        mult_avgs.append(avgs)\n",
    "        mult_probs1.append(probs1)\n",
    "        mult_probs2.append(probs2)\n",
    "\n",
    "    mult_avgs = np.array(mult_avgs)\n",
    "    avgs = np.mean(mult_avgs, axis=0)\n",
    "    \n",
    "    results_tmp = f'\\n\\nAgent: {agent_name} \\tAlpha_w: {alpha_w}\\tAlpha_theta: {alpha_theta}'\n",
    "    results_tmp += f'\\nAverage: \\t\\t{np.mean(avgs):5.3f}'\n",
    "    results_tmp += f'\\nBest {plot_count} Average: \\t{np.max(avgs):5.3f}'\n",
    "    results_tmp += f'\\nLast {plot_count} Average: \\t{avgs[-1]:5.3f}'\n",
    "    print(results_tmp)\n",
    "    \n",
    "    return mult_avgs\n",
    "\n",
    "def run_actor_critic_agent(alpha_theta=0.1, alpha_w=0.01):\n",
    "    AgentClass = ActorCriticAgent\n",
    "\n",
    "    params_str = f'alpha_theta_{alpha_theta}_alpha_w_{alpha_w}_episodes_{episode_count}'\n",
    "\n",
    "    agent_name = AgentClass.__name__\n",
    "\n",
    "    mult_avgs = []\n",
    "    mult_probs1 = []\n",
    "    mult_probs2 = []\n",
    "    for i_test in range(num_of_tests):\n",
    "        print()\n",
    "        print(i_test + 1, end=' ')\n",
    "\n",
    "        # Initialize the agent\n",
    "        agent = AgentClass(alpha_w=alpha_w, alpha_theta=alpha_theta)\n",
    "\n",
    "        avgs = []\n",
    "        probs1 = []\n",
    "        probs2 = []\n",
    "\n",
    "        episode_rewards = np.zeros(episode_count)\n",
    "        for i_episode in range(episode_count):\n",
    "            done = False\n",
    "            totalReward = 0\n",
    "\n",
    "            if i_episode >= plot_count and (i_episode % plot_count == 0):\n",
    "                avg = np.average(episode_rewards[i_episode - plot_count:i_episode])\n",
    "                avgs.append(avg)\n",
    "\n",
    "                # deterministic position\n",
    "                env.x = 0\n",
    "                env.y = 1\n",
    "                obs = env.get_obs()\n",
    "                prob = agent.get_action_vals_for_obs(obs)\n",
    "                probs1.append(prob)\n",
    "\n",
    "                # stochastic position\n",
    "                env.x = 1\n",
    "                env.y = 1\n",
    "                obs = env.get_obs()\n",
    "                prob = agent.get_action_vals_for_obs(obs)\n",
    "                probs2.append(prob)\n",
    "\n",
    "                print('#', end='', flush=True)\n",
    "                if len(avgs) % 100 == 0:\n",
    "                    print(i_episode)\n",
    "\n",
    "            obs = env.reset()\n",
    "            action = agent.start(obs)\n",
    "\n",
    "            step = 0\n",
    "            while not done:\n",
    "                obs, reward, done = env.step(action)\n",
    "                action = agent.step(obs, reward, done)\n",
    "                totalReward += reward\n",
    "\n",
    "                step += 1\n",
    "                if step > max_episode_steps:\n",
    "                    done = True\n",
    "\n",
    "            episode_rewards[i_episode] = totalReward\n",
    "            agent.update_for_episode()\n",
    "\n",
    "        mult_avgs.append(avgs)\n",
    "        mult_probs1.append(probs1)\n",
    "        mult_probs2.append(probs2)\n",
    "\n",
    "    mult_avgs = np.array(mult_avgs)\n",
    "    avgs = np.mean(mult_avgs, axis=0)\n",
    "    \n",
    "    results_tmp = f'\\n\\nAgent: {agent_name} \\tAlpha_w: {alpha_w}\\tAlpha_theta: {alpha_theta}'\n",
    "    results_tmp += f'\\nAverage: \\t\\t{np.mean(avgs):5.3f}'\n",
    "    results_tmp += f'\\nBest {plot_count} Average: \\t{np.max(avgs):5.3f}'\n",
    "    results_tmp += f'\\nLast {plot_count} Average: \\t{avgs[-1]:5.3f}'\n",
    "    print(results_tmp)\n",
    "    \n",
    "    return mult_avgs\n",
    "    \n",
    "def plot_agent(mult_avgs, agent_name):\n",
    "    avgs = np.mean(np.array(mult_avgs), axis=0)\n",
    "    idx = range(len(avgs))\n",
    "    \n",
    "    plt.figure(1, figsize=(7,4))\n",
    "    plt.plot(np.array(idx)*100, avgs, label=agent_name)\n",
    "#     plt.title(f'Average Return in {episode_count} episodes')\n",
    "    plt.xlabel(f'Time')\n",
    "#     plt.ylabel(f'Average Return per {plot_count} episodes')\n",
    "#     plt.ylabel(f'Average Return\\non {episode_count} episodes')\n",
    "    plt.ylabel(f'Average Return')\n",
    "    plt.axhline(y=best_performance, linewidth=1, color=\"g\", linestyle='--')"
   ]
  },
  {
   "cell_type": "code",
   "execution_count": 5,
   "metadata": {
    "ExecuteTime": {
     "end_time": "2019-04-09T15:43:03.631223Z",
     "start_time": "2019-04-09T15:43:03.589717Z"
    },
    "scrolled": true
   },
   "outputs": [],
   "source": [
    "from agents import ReinforceAgent, ReinforceWithBaselineAgent, ActorCriticAgent\n",
    "\n",
    "best_performance = 0.63\n",
    "env = SmartVac()\n",
    "num_of_tests = 500\n",
    "episode_count = 10000\n",
    "plot_count = int(episode_count / 100)\n",
    "\n",
    "if not just_plot:\n",
    "    avgs1 = run_reinforce_agent(alpha=0.125)\n",
    "    avgs2 = run_reinforce_with_baseline_agent(alpha_w=0.5, alpha_theta=0.25)\n",
    "    avgs3 = run_actor_critic_agent(alpha_w=0.125, alpha_theta=0.5)"
   ]
  },
  {
   "cell_type": "code",
   "execution_count": 6,
   "metadata": {
    "ExecuteTime": {
     "end_time": "2019-04-09T15:43:03.667920Z",
     "start_time": "2019-04-09T15:43:03.634284Z"
    }
   },
   "outputs": [
    {
     "name": "stdout",
     "output_type": "stream",
     "text": [
      "output/smart-vac-comp.pkl\n"
     ]
    }
   ],
   "source": [
    "# Save Results\n",
    "import pickle\n",
    "\n",
    "pkl_file_name = f'{output_folder}smart-vac-comp.pkl'\n",
    "print(pkl_file_name)\n",
    "\n",
    "if not just_plot:\n",
    "    res_vars = {\n",
    "        'avgs1': avgs1,\n",
    "        'avgs2': avgs2,\n",
    "        'avgs3': avgs3,\n",
    "    }\n",
    "\n",
    "    with open(pkl_file_name, \"wb\") as f:\n",
    "        pickle.dump(res_vars, f)"
   ]
  },
  {
   "cell_type": "code",
   "execution_count": 7,
   "metadata": {
    "ExecuteTime": {
     "end_time": "2019-04-09T15:43:03.699879Z",
     "start_time": "2019-04-09T15:43:03.671186Z"
    }
   },
   "outputs": [],
   "source": [
    "# Load Results\n",
    "import pickle\n",
    "\n",
    "if just_plot:\n",
    "    res_vars = {}\n",
    "    with open(pkl_file_name, \"rb\") as f:\n",
    "        res_vars = pickle.load(f)\n",
    "\n",
    "    for var in res_vars:\n",
    "        vars()[var] = res_vars[var]"
   ]
  },
  {
   "cell_type": "code",
   "execution_count": 8,
   "metadata": {
    "ExecuteTime": {
     "end_time": "2019-04-09T15:43:04.193817Z",
     "start_time": "2019-04-09T15:43:03.703556Z"
    }
   },
   "outputs": [
    {
     "data": {
      "image/png": "[encoded data removed]",
      "text/plain": [
       "<Figure size 504x288 with 1 Axes>"
      ]
     },
     "metadata": {
      "needs_background": "light"
     },
     "output_type": "display_data"
    }
   ],
   "source": [
    "plot_agent(avgs1, 'REINFORCE')\n",
    "plot_agent(avgs2, 'REINFORCE w/ Baseline')\n",
    "plot_agent(avgs3, 'Actor-Critic')\n",
    "plt.legend()\n",
    "plt.savefig(f'{figs_folder}smart-vac-comp.pdf')\n",
    "# plt.savefig(f'{figs_folder}smart-vac-comp.png')\n",
    "plt.show()"
   ]
  },
  {
   "cell_type": "code",
   "execution_count": 9,
   "metadata": {
    "ExecuteTime": {
     "end_time": "2019-04-09T15:43:04.569985Z",
     "start_time": "2019-04-09T15:43:04.196832Z"
    }
   },
   "outputs": [
    {
     "data": {
      "image/png": "[encoded data removed]",
      "text/plain": [
       "<Figure size 504x288 with 1 Axes>"
      ]
     },
     "metadata": {
      "needs_background": "light"
     },
     "output_type": "display_data"
    }
   ],
   "source": [
    "plt.figure(1, figsize=(7,4))\n",
    "d2 = [np.mean(x, axis=1) for x in [avgs1, avgs2, avgs3]]\n",
    "plt.boxplot(d2, showfliers=False)\n",
    "ax = plt.gca()\n",
    "ax.set_xticklabels(['REINFORCE', 'REINFORCE w/ Baseline', 'Actor-Critic'])\n",
    "plt.ylabel(f'Average Return\\non {episode_count} episodes')\n",
    "plt.savefig(f'{figs_folder}smart-vac-comp-box.pdf')\n",
    "# plt.savefig(f'{figs_folder}smart-vac-comp-box.png')\n",
    "plt.show()"
   ]
  },
  {
   "cell_type": "code",
   "execution_count": 10,
   "metadata": {
    "ExecuteTime": {
     "end_time": "2019-04-09T15:43:04.931546Z",
     "start_time": "2019-04-09T15:43:04.572729Z"
    }
   },
   "outputs": [
    {
     "data": {
      "image/png": "[encoded data removed]",
      "text/plain": [
       "<Figure size 504x360 with 1 Axes>"
      ]
     },
     "metadata": {
      "needs_background": "light"
     },
     "output_type": "display_data"
    }
   ],
   "source": [
    "plt.figure(1, figsize=(7,5))\n",
    "se = np.std([np.mean(x, axis=1) for x in [avgs1, avgs2, avgs3]], axis=1) / np.sqrt(num_of_tests)\n",
    "agents = ['REINFORCE', 'REINFORCE w/ Baseline', 'Actor-Critic']\n",
    "y = [np.mean(x) for x in [avgs1,avgs2,avgs3]]\n",
    "\n",
    "plt.bar(range(len(agents)), [np.mean(x) for x in [avgs1,avgs2,avgs3]], alpha=0.2, ecolor='black', capsize=10, yerr=se)\n",
    "# plt.errorbar(range(len(agents)), y, se, linestyle='None', color='r')\n",
    "plt.xticks(range(len(agents)), agents)\n",
    "# plt.ylim(bottom=best_performance-0.13)\n",
    "plt.ylim(bottom=0.57, top=0.62)\n",
    "plt.ylabel(f'Average Return\\non {episode_count} episodes')\n",
    "plt.savefig(f'{figs_folder}smart-vac-comp-se.pdf')\n",
    "# plt.savefig(f'{figs_folder}smart-vac-comp-se.png')\n",
    "plt.show()"
   ]
  },
  {
   "cell_type": "code",
   "execution_count": 11,
   "metadata": {
    "ExecuteTime": {
     "end_time": "2019-04-09T15:43:04.953620Z",
     "start_time": "2019-04-09T15:43:04.934626Z"
    }
   },
   "outputs": [],
   "source": [
    "# plt.figure(1, figsize=(7,10))\n",
    "\n",
    "# plt.subplot(211)\n",
    "# d2 = [np.mean(x, axis=1) for x in [avgs1, avgs2, avgs3]]\n",
    "# plt.boxplot(d2, showfliers=False)\n",
    "# ax = plt.gca()\n",
    "# ax.set_xticklabels(['REINFORCE', 'REINFORCE w/ Baseline', 'Actor-Critic'])\n",
    "\n",
    "# ax = plt.subplot(212)\n",
    "# se = np.std([np.mean(x, axis=1) for x in [avgs1, avgs2, avgs3]], axis=1) / np.sqrt(num_of_tests)\n",
    "# agents = ['REINFORCE', 'REINFORCE w/ Baseline', 'Actor-Critic']\n",
    "# y = [np.mean(x) for x in [avgs1,avgs2,avgs3]]\n",
    "# plt.bar(range(len(agents)), [np.mean(x) for x in [avgs1,avgs2,avgs3]], alpha=0.5, ecolor='black', capsize=10, yerr=se)\n",
    "# plt.xticks(range(len(agents)), agents)\n",
    "# plt.ylim(bottom=0.4)\n",
    "\n",
    "# # plt.savefig(f'{figs_folder}smart-vac-comp-se-box.pdf')\n",
    "# # plt.savefig(f'{figs_folder}smart-vac-comp-se-box.png')\n",
    "# plt.show()"
   ]
  },
  {
   "cell_type": "code",
   "execution_count": 12,
   "metadata": {
    "ExecuteTime": {
     "end_time": "2019-04-09T15:43:04.983468Z",
     "start_time": "2019-04-09T15:43:04.956931Z"
    }
   },
   "outputs": [
    {
     "name": "stdout",
     "output_type": "stream",
     "text": [
      "[0.00184161 0.0009854  0.00013895]\n",
      "[0.5895528282828283, 0.5833502828282829, 0.6042486464646464]\n"
     ]
    }
   ],
   "source": [
    "print(np.std([np.mean(x, axis=1) for x in [avgs1, avgs2, avgs3]], axis=1) / np.sqrt(num_of_tests))\n",
    "print([np.mean(x) for x in [avgs1,avgs2,avgs3]])"
   ]
  },
  {
   "cell_type": "markdown",
   "metadata": {},
   "source": [
    "# Compare Best Configuration for negative rewards"
   ]
  },
  {
   "cell_type": "code",
   "execution_count": 13,
   "metadata": {
    "ExecuteTime": {
     "end_time": "2019-04-09T15:43:05.016295Z",
     "start_time": "2019-04-09T15:43:04.988996Z"
    },
    "scrolled": true
   },
   "outputs": [],
   "source": [
    "from agents import ReinforceAgent, ReinforceWithBaselineAgent, ActorCriticAgent\n",
    "\n",
    "best_performance = -1.37\n",
    "env = SmartVac(terminal_rewards=(-1,-3))\n",
    "num_of_tests = 500\n",
    "episode_count = 10000\n",
    "plot_count = int(episode_count / 100)\n",
    "\n",
    "if not just_plot:\n",
    "    # REINFORCE doesn't work in this settings\n",
    "    # avgs1 = run_reinforce_agent(alpha=0.5)\n",
    "    avgs2 = run_reinforce_with_baseline_agent(alpha_theta=0.25, alpha_w=0.5)\n",
    "    avgs3 = run_actor_critic_agent(alpha_theta=0.5, alpha_w=0.5)"
   ]
  },
  {
   "cell_type": "code",
   "execution_count": 14,
   "metadata": {
    "ExecuteTime": {
     "end_time": "2019-04-09T15:43:05.046590Z",
     "start_time": "2019-04-09T15:43:05.021862Z"
    }
   },
   "outputs": [
    {
     "name": "stdout",
     "output_type": "stream",
     "text": [
      "output/smart-vac-neg-comp.pkl\n"
     ]
    }
   ],
   "source": [
    "# Save Results\n",
    "import pickle\n",
    "\n",
    "pkl_file_name = f'{output_folder}smart-vac-neg-comp.pkl'\n",
    "print(pkl_file_name)\n",
    "\n",
    "if not just_plot:\n",
    "    res_vars = {\n",
    "        'avgs1': avgs1,\n",
    "        'avgs2': avgs2,\n",
    "        'avgs3': avgs3,\n",
    "    }\n",
    "\n",
    "    with open(pkl_file_name, \"wb\") as f:\n",
    "        pickle.dump(res_vars, f)"
   ]
  },
  {
   "cell_type": "code",
   "execution_count": 15,
   "metadata": {
    "ExecuteTime": {
     "end_time": "2019-04-09T15:43:05.076839Z",
     "start_time": "2019-04-09T15:43:05.050079Z"
    }
   },
   "outputs": [],
   "source": [
    "# Load Results\n",
    "import pickle\n",
    "\n",
    "if just_plot:\n",
    "    res_vars = {}\n",
    "    with open(pkl_file_name, \"rb\") as f:\n",
    "        res_vars = pickle.load(f)\n",
    "\n",
    "    for var in res_vars:\n",
    "        vars()[var] = res_vars[var]"
   ]
  },
  {
   "cell_type": "code",
   "execution_count": 16,
   "metadata": {
    "ExecuteTime": {
     "end_time": "2019-04-09T15:43:05.554713Z",
     "start_time": "2019-04-09T15:43:05.080546Z"
    }
   },
   "outputs": [
    {
     "data": {
      "image/png": "[encoded data removed]",
      "text/plain": [
       "<Figure size 504x288 with 1 Axes>"
      ]
     },
     "metadata": {
      "needs_background": "light"
     },
     "output_type": "display_data"
    }
   ],
   "source": [
    "# REINFORCE doesn't work in this settings\n",
    "# plot_agent(avgs1, 'REINFORCE')\n",
    "plot_agent(avgs2, 'REINFORCE w/ Baseline')\n",
    "plot_agent(avgs3, 'Actor-Critic')\n",
    "plt.legend()\n",
    "plt.savefig(f'{figs_folder}smart-vac-neg-comp.pdf')\n",
    "# plt.savefig(f'{figs_folder}smart-vac-neg-comp.png')\n",
    "plt.show()"
   ]
  },
  {
   "cell_type": "code",
   "execution_count": 17,
   "metadata": {
    "ExecuteTime": {
     "end_time": "2019-04-09T15:43:05.924766Z",
     "start_time": "2019-04-09T15:43:05.557940Z"
    }
   },
   "outputs": [
    {
     "data": {
      "image/png": "[encoded data removed]",
      "text/plain": [
       "<Figure size 504x288 with 1 Axes>"
      ]
     },
     "metadata": {
      "needs_background": "light"
     },
     "output_type": "display_data"
    }
   ],
   "source": [
    "plt.figure(1, figsize=(7,4))\n",
    "# d2 = [np.mean(x, axis=1) for x in [avgs1, avgs2, avgs3]]\n",
    "d2 = [np.mean(x, axis=1) for x in [avgs2, avgs3]]\n",
    "plt.boxplot(d2, showfliers=False)\n",
    "ax = plt.gca()\n",
    "# ax.set_xticklabels(['REINFORCE', 'REINFORCE w/ Baseline', 'Actor-Critic'])\n",
    "ax.set_xticklabels(['REINFORCE w/ Baseline', 'Actor-Critic'])\n",
    "plt.ylabel(f'Average Return\\non {episode_count} episodes')\n",
    "plt.savefig(f'{figs_folder}smart-vac-neg-comp-box.pdf')\n",
    "# plt.savefig(f'{figs_folder}smart-vac-neg-comp-box.png')\n",
    "plt.show()"
   ]
  },
  {
   "cell_type": "code",
   "execution_count": 18,
   "metadata": {
    "ExecuteTime": {
     "end_time": "2019-04-09T15:43:06.317275Z",
     "start_time": "2019-04-09T15:43:05.927964Z"
    }
   },
   "outputs": [
    {
     "data": {
      "image/png": "[encoded data removed]",
      "text/plain": [
       "<Figure size 504x360 with 1 Axes>"
      ]
     },
     "metadata": {
      "needs_background": "light"
     },
     "output_type": "display_data"
    }
   ],
   "source": [
    "plt.figure(1, figsize=(7,5))\n",
    "# se = np.std([np.mean(x, axis=1) for x in [avgs1, avgs2, avgs3]], axis=1) / np.sqrt(num_of_tests)\n",
    "se = np.std([np.mean(x, axis=1) for x in [avgs2, avgs3]], axis=1) / np.sqrt(num_of_tests)\n",
    "# agents = ['REINFORCE', 'REINFORCE w/ Baseline', 'Actor-Critic']\n",
    "agents = ['REINFORCE w/ Baseline', 'Actor-Critic']\n",
    "y = [np.mean(x) for x in [avgs1,avgs2,avgs3]]\n",
    "\n",
    "# plt.bar(range(len(agents)), [np.mean(x) for x in [avgs1,avgs2,avgs3]], alpha=0.5, ecolor='black', capsize=10, yerr=se)\n",
    "plt.bar(range(len(agents)), [np.mean(x) for x in [avgs2,avgs3]], alpha=0.2, ecolor='black', capsize=10, yerr=se)\n",
    "plt.xticks(range(len(agents)), agents)\n",
    "plt.ylim(top=-1.38, bottom=-1.46)\n",
    "plt.ylabel(f'Average Return\\non {episode_count} episodes')\n",
    "plt.savefig(f'{figs_folder}smart-vac-neg-comp-se.pdf')\n",
    "# plt.savefig(f'{figs_folder}smart-vac-neg-comp-se.png')\n",
    "plt.show()"
   ]
  },
  {
   "cell_type": "code",
   "execution_count": 19,
   "metadata": {
    "ExecuteTime": {
     "end_time": "2019-04-09T15:43:06.343704Z",
     "start_time": "2019-04-09T15:43:06.320109Z"
    }
   },
   "outputs": [
    {
     "name": "stdout",
     "output_type": "stream",
     "text": [
      "[0.00184161 0.0017191  0.0001483 ]\n",
      "[0.5895528282828283, -1.4277736363636364, -1.3975219797979799]\n"
     ]
    }
   ],
   "source": [
    "print(np.std([np.mean(x, axis=1) for x in [avgs1, avgs2, avgs3]], axis=1) / np.sqrt(num_of_tests))\n",
    "print([np.mean(x) for x in [avgs1,avgs2,avgs3]])"
   ]
  },
  {
   "cell_type": "markdown",
   "metadata": {},
   "source": [
    "# Compare Best Configuration with memory and negative rewards"
   ]
  },
  {
   "cell_type": "code",
   "execution_count": 20,
   "metadata": {
    "ExecuteTime": {
     "end_time": "2019-04-09T15:43:06.370242Z",
     "start_time": "2019-04-09T15:43:06.346569Z"
    },
    "scrolled": true
   },
   "outputs": [],
   "source": [
    "from agents import ReinforceMemoryAgent as ReinforceAgent\n",
    "from agents import ReinforceWithBaselineMemoryAgent as ReinforceWithBaselineAgent\n",
    "from agents import ActorCriticMemoryAgent as ActorCriticAgent\n",
    "\n",
    "best_performance = 0.74 - 2\n",
    "# env = SmartVac()\n",
    "env = SmartVac(terminal_rewards=(-1,-3))\n",
    "num_of_tests = 1000\n",
    "episode_count = 10000\n",
    "plot_count = int(episode_count / 100)\n",
    "\n",
    "if not just_plot:\n",
    "    avgs1 = run_reinforce_agent(alpha=2.0)\n",
    "    avgs2 = run_reinforce_with_baseline_agent(alpha_w=0.125, alpha_theta=0.5)\n",
    "    avgs3 = run_actor_critic_agent(alpha_w=0.5, alpha_theta=2.0)"
   ]
  },
  {
   "cell_type": "code",
   "execution_count": 21,
   "metadata": {
    "ExecuteTime": {
     "end_time": "2019-04-09T15:43:06.400198Z",
     "start_time": "2019-04-09T15:43:06.372963Z"
    }
   },
   "outputs": [
    {
     "name": "stdout",
     "output_type": "stream",
     "text": [
      "output/smart-vac-mem-neg-comp.pkl\n"
     ]
    }
   ],
   "source": [
    "# Save Results\n",
    "import pickle\n",
    "\n",
    "pkl_file_name = f'{output_folder}smart-vac-mem-neg-comp.pkl'\n",
    "print(pkl_file_name)\n",
    "\n",
    "if not just_plot:\n",
    "    res_vars = {\n",
    "        'avgs1': avgs1,\n",
    "        'avgs2': avgs2,\n",
    "        'avgs3': avgs3,\n",
    "    }\n",
    "\n",
    "    with open(pkl_file_name, \"wb\") as f:\n",
    "        pickle.dump(res_vars, f)"
   ]
  },
  {
   "cell_type": "code",
   "execution_count": 22,
   "metadata": {
    "ExecuteTime": {
     "end_time": "2019-04-09T15:43:06.433407Z",
     "start_time": "2019-04-09T15:43:06.403207Z"
    }
   },
   "outputs": [],
   "source": [
    "# Load Results\n",
    "import pickle\n",
    "\n",
    "if just_plot:\n",
    "    res_vars = {}\n",
    "    with open(pkl_file_name, \"rb\") as f:\n",
    "        res_vars = pickle.load(f)\n",
    "\n",
    "    for var in res_vars:\n",
    "        vars()[var] = res_vars[var]"
   ]
  },
  {
   "cell_type": "code",
   "execution_count": 23,
   "metadata": {
    "ExecuteTime": {
     "end_time": "2019-04-09T15:43:06.922649Z",
     "start_time": "2019-04-09T15:43:06.436734Z"
    }
   },
   "outputs": [
    {
     "data": {
      "image/png": "[encoded data removed]",
      "text/plain": [
       "<Figure size 504x288 with 1 Axes>"
      ]
     },
     "metadata": {
      "needs_background": "light"
     },
     "output_type": "display_data"
    }
   ],
   "source": [
    "# plot_agent(avgs1, 'REINFORCE')\n",
    "plot_agent(avgs2, 'REINFORCE w/ Baseline')\n",
    "plot_agent(avgs3, 'Actor-Critic')\n",
    "plt.legend()\n",
    "plt.savefig(f'{figs_folder}smart-vac-mem-neg-comp.pdf')\n",
    "# plt.savefig(f'{figs_folder}smart-vac-mem-neg-comp.png')\n",
    "plt.show()"
   ]
  },
  {
   "cell_type": "code",
   "execution_count": 24,
   "metadata": {
    "ExecuteTime": {
     "end_time": "2019-04-09T15:43:07.373129Z",
     "start_time": "2019-04-09T15:43:06.925587Z"
    }
   },
   "outputs": [
    {
     "data": {
      "image/png": "[encoded data removed]",
      "text/plain": [
       "<Figure size 504x288 with 1 Axes>"
      ]
     },
     "metadata": {
      "needs_background": "light"
     },
     "output_type": "display_data"
    }
   ],
   "source": [
    "plt.figure(1, figsize=(7,4))\n",
    "d2 = [np.mean(x, axis=1) for x in [avgs1, avgs2, avgs3]]\n",
    "plt.boxplot(d2, showfliers=False)\n",
    "ax = plt.gca()\n",
    "ax.set_xticklabels(['REINFORCE', 'REINFORCE w/ Baseline', 'Actor-Critic'])\n",
    "plt.ylabel(f'Average Return\\non {episode_count} episodes')\n",
    "plt.savefig(f'{figs_folder}smart-vac-mem-neg-comp-box.pdf')\n",
    "# plt.savefig(f'{figs_folder}smart-vac-mem-neg-comp-box.png')\n",
    "plt.show()"
   ]
  },
  {
   "cell_type": "code",
   "execution_count": 25,
   "metadata": {
    "ExecuteTime": {
     "end_time": "2019-04-09T15:43:07.773685Z",
     "start_time": "2019-04-09T15:43:07.376317Z"
    }
   },
   "outputs": [
    {
     "data": {
      "image/png": "[encoded data removed]",
      "text/plain": [
       "<Figure size 504x360 with 1 Axes>"
      ]
     },
     "metadata": {
      "needs_background": "light"
     },
     "output_type": "display_data"
    }
   ],
   "source": [
    "plt.figure(1, figsize=(7,5))\n",
    "se = np.std([np.mean(x, axis=1) for x in [avgs1, avgs2, avgs3]], axis=1) / np.sqrt(num_of_tests)\n",
    "agents = ['REINFORCE', 'REINFORCE w/ Baseline', 'Actor-Critic']\n",
    "y = [np.mean(x) for x in [avgs1,avgs2,avgs3]]\n",
    "\n",
    "plt.bar(range(len(agents)), [np.mean(x) for x in [avgs1,avgs2,avgs3]], alpha=0.2, ecolor='black', capsize=10, yerr=se)\n",
    "plt.xticks(range(len(agents)), agents)\n",
    "# plt.ylim(bottom=best_performance-0.23)\n",
    "plt.ylim(bottom=-2, top=-1.2)\n",
    "plt.ylabel(f'Average Return\\non {episode_count} episodes')\n",
    "plt.savefig(f'{figs_folder}smart-vac-mem-neg-comp-se.pdf')\n",
    "# plt.savefig(f'{figs_folder}smart-vac-mem-neg-comp-se.png')\n",
    "plt.show()"
   ]
  },
  {
   "cell_type": "code",
   "execution_count": 26,
   "metadata": {
    "ExecuteTime": {
     "end_time": "2019-04-09T15:43:07.800304Z",
     "start_time": "2019-04-09T15:43:07.776722Z"
    }
   },
   "outputs": [
    {
     "name": "stdout",
     "output_type": "stream",
     "text": [
      "[0.01120522 0.00308865 0.00028607]\n",
      "[-1.8428313636363636, -1.3259684141414143, -1.2827265555555558]\n"
     ]
    }
   ],
   "source": [
    "print(np.std([np.mean(x, axis=1) for x in [avgs1, avgs2, avgs3]], axis=1) / np.sqrt(num_of_tests))\n",
    "print([np.mean(x) for x in [avgs1,avgs2,avgs3]])"
   ]
  }
 ],
 "metadata": {
  "kernelspec": {
   "display_name": "Python 3",
   "language": "python",
   "name": "python3"
  },
  "language_info": {
   "codemirror_mode": {
    "name": "ipython",
    "version": 3
   },
   "file_extension": ".py",
   "mimetype": "text/x-python",
   "name": "python",
   "nbconvert_exporter": "python",
   "pygments_lexer": "ipython3",
   "version": "3.6.8"
  },
  "notify_time": "30",
  "toc": {
   "base_numbering": 1,
   "nav_menu": {},
   "number_sections": true,
   "sideBar": true,
   "skip_h1_title": false,
   "title_cell": "Table of Contents",
   "title_sidebar": "Contents",
   "toc_cell": false,
   "toc_position": {},
   "toc_section_display": true,
   "toc_window_display": false
  },
  "varInspector": {
   "cols": {
    "lenName": 16,
    "lenType": 16,
    "lenVar": 40
   },
   "kernels_config": {
    "python": {
     "delete_cmd_postfix": "",
     "delete_cmd_prefix": "del ",
     "library": "var_list.py",
     "varRefreshCmd": "print(var_dic_list())"
    },
    "r": {
     "delete_cmd_postfix": ") ",
     "delete_cmd_prefix": "rm(",
     "library": "var_list.r",
     "varRefreshCmd": "cat(var_dic_list()) "
    }
   },
   "types_to_exclude": [
    "module",
    "function",
    "builtin_function_or_method",
    "instance",
    "_Feature"
   ],
   "window_display": false
  }
 },
 "nbformat": 4,
 "nbformat_minor": 2
}
