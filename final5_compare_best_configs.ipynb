{
 "cells": [
  {
   "cell_type": "markdown",
   "metadata": {},
   "source": [
    "# Compare the best configurations"
   ]
  },
  {
   "cell_type": "code",
   "execution_count": 1,
   "metadata": {
    "ExecuteTime": {
     "end_time": "2019-04-09T20:59:18.221066Z",
     "start_time": "2019-04-09T20:59:17.764007Z"
    }
   },
   "outputs": [],
   "source": [
    "# import needed libs\n",
    "\n",
    "%load_ext autoreload\n",
    "\n",
    "# Auto reloading causes the kernel to reload the libraries we have\n",
    "%autoreload 2\n",
    "\n",
    "# usual imports for visualization, etc.\n",
    "import numpy as np\n",
    "import matplotlib.pyplot as plt\n",
    "\n",
    "import datetime\n",
    "\n",
    "# make it reproducible\n",
    "np.random.seed(0)\n",
    "\n",
    "# just_plot = False\n",
    "just_plot = True\n",
    "\n",
    "# show plots inline\n",
    "%matplotlib inline"
   ]
  },
  {
   "cell_type": "code",
   "execution_count": 2,
   "metadata": {
    "ExecuteTime": {
     "end_time": "2019-04-09T20:59:18.330035Z",
     "start_time": "2019-04-09T20:59:18.224009Z"
    }
   },
   "outputs": [
    {
     "name": "stderr",
     "output_type": "stream",
     "text": [
      "A subdirectory or file output already exists.\n"
     ]
    }
   ],
   "source": [
    "# Some initializations\n",
    "\n",
    "from envs import SmartVac\n",
    "\n",
    "max_episode_steps = 100\n",
    "results_folder = 'res/'\n",
    "figs_folder = 'figs/'\n",
    "output_folder = 'output/'\n",
    "\n",
    "!mkdir output"
   ]
  },
  {
   "cell_type": "code",
   "execution_count": 3,
   "metadata": {
    "ExecuteTime": {
     "end_time": "2019-04-09T20:59:18.427051Z",
     "start_time": "2019-04-09T20:59:18.334049Z"
    }
   },
   "outputs": [],
   "source": [
    "from cycler import cycler\n",
    "def set_plt_rc():\n",
    "    font = {'family': 'serif','size': 12}\n",
    "    \n",
    "#     SMALL_SIZE = 8\n",
    "#     MEDIUM_SIZE = 10\n",
    "#     BIGGER_SIZE = 12\n",
    "\n",
    "#     plt.rc('font', size=SMALL_SIZE)          # controls default text sizes\n",
    "#     plt.rc('axes', titlesize=SMALL_SIZE)     # fontsize of the axes title\n",
    "#     plt.rc('axes', labelsize=MEDIUM_SIZE)    # fontsize of the x and y labels\n",
    "#     plt.rc('xtick', labelsize=SMALL_SIZE)    # fontsize of the tick labels\n",
    "#     plt.rc('ytick', labelsize=SMALL_SIZE)    # fontsize of the tick labels\n",
    "#     plt.rc('legend', fontsize=SMALL_SIZE)    # legend fontsize\n",
    "#     plt.rc('figure', titlesize=BIGGER_SIZE)  # fontsize of the figure title\n",
    "\n",
    "\n",
    "#     plt.rc('font', family='serif')\n",
    "    plt.rc('font', family=font['family'], size=font['size'])\n",
    "    \n",
    "    \n",
    "#     plt.rc('xtick', labelsize='x-small')\n",
    "#     plt.rc('ytick', labelsize='x-small')\n",
    "    \n",
    "    plt.rc('xtick', labelsize='medium')\n",
    "    plt.rc('ytick', labelsize='medium')\n",
    "    \n",
    "    plt.rc('axes', prop_cycle=(cycler(color=['#1f77b4', '#ff7f0e', '#2ca02c', '#d62728',\n",
    "                                         '#9467bd', '#8c564b', '#e377c2', '#7f7f7f',\n",
    "                                         '#bcbd22', '#17becf']) +\n",
    "                           cycler(linestyle=['-', '--', ':', '-.','-', '--', ':', '-.','-', '--'])))\n",
    "    plt.rcParams['axes.spines.right'] = False\n",
    "    plt.rcParams['axes.spines.top'] = False\n",
    "    \n",
    "set_plt_rc()"
   ]
  },
  {
   "cell_type": "code",
   "execution_count": 4,
   "metadata": {
    "ExecuteTime": {
     "end_time": "2019-04-09T20:59:19.895007Z",
     "start_time": "2019-04-09T20:59:18.431040Z"
    }
   },
   "outputs": [],
   "source": [
    "def run_reinforce_agent(alpha):\n",
    "    AgentClass = ReinforceAgent\n",
    "    \n",
    "    params_str = f'alpha_{alpha}_episodes_{episode_count}'\n",
    "\n",
    "    agent_name = AgentClass.__name__\n",
    "\n",
    "    mult_avgs = []\n",
    "    mult_probs1 = []\n",
    "    mult_probs2 = []\n",
    "    for i_test in range(num_of_tests):\n",
    "        print()\n",
    "        print(i_test + 1, end=' ')\n",
    "\n",
    "        # Initialize the agent\n",
    "        agent = AgentClass(alpha=alpha)\n",
    "\n",
    "        avgs = []\n",
    "        probs1 = []\n",
    "        probs2 = []\n",
    "\n",
    "        episode_rewards = np.zeros(episode_count)\n",
    "        for i_episode in range(episode_count):\n",
    "            done = False\n",
    "            totalReward = 0\n",
    "\n",
    "            if i_episode >= plot_count and (i_episode % plot_count == 0):\n",
    "                avg = np.average(episode_rewards[i_episode - plot_count:i_episode])\n",
    "                avgs.append(avg)\n",
    "\n",
    "                # deterministic position\n",
    "                env.x = 0\n",
    "                env.y = 1\n",
    "                obs = env.get_obs()\n",
    "                prob = agent.get_action_vals_for_obs(obs)\n",
    "                probs1.append(prob)\n",
    "\n",
    "                # stochastic position\n",
    "                env.x = 1\n",
    "                env.y = 1\n",
    "                obs = env.get_obs()\n",
    "                prob = agent.get_action_vals_for_obs(obs)\n",
    "                probs2.append(prob)\n",
    "\n",
    "                print('#', end='', flush=True)\n",
    "                if len(avgs) % 100 == 0:\n",
    "                    print(i_episode)\n",
    "\n",
    "            obs = env.reset()\n",
    "            action = agent.start(obs)\n",
    "\n",
    "            step = 0\n",
    "            while not done:\n",
    "                obs, reward, done = env.step(action)\n",
    "                action = agent.step(obs, reward, done)\n",
    "                totalReward += reward\n",
    "\n",
    "                step += 1\n",
    "                if step > max_episode_steps:\n",
    "                    done = True\n",
    "\n",
    "            episode_rewards[i_episode] = totalReward\n",
    "            agent.update_for_episode()\n",
    "\n",
    "        mult_avgs.append(avgs)\n",
    "        mult_probs1.append(probs1)\n",
    "        mult_probs2.append(probs2)\n",
    "\n",
    "    mult_avgs = np.array(mult_avgs)\n",
    "    avgs = np.mean(mult_avgs, axis=0)\n",
    "    \n",
    "    results_tmp = f'\\n\\nAgent: {agent_name} \\tAlpha: {alpha}'\n",
    "    results_tmp += f'\\nAverage: \\t\\t{np.mean(avgs):5.3f}'\n",
    "    results_tmp += f'\\nBest {plot_count} Average: \\t{np.max(avgs):5.3f}'\n",
    "    results_tmp += f'\\nLast {plot_count} Average: \\t{avgs[-1]:5.3f}'\n",
    "    print(results_tmp)\n",
    "    \n",
    "    return mult_avgs\n",
    "\n",
    "def run_reinforce_with_baseline_agent(alpha_theta=0.1, alpha_w=0.01):\n",
    "    AgentClass = ReinforceWithBaselineAgent\n",
    "    \n",
    "    params_str = f'alpha_theta_{alpha_theta}_alpha_w_{alpha_w}_episodes_{episode_count}'\n",
    "\n",
    "    agent_name = AgentClass.__name__\n",
    "\n",
    "    mult_avgs = []\n",
    "    mult_probs1 = []\n",
    "    mult_probs2 = []\n",
    "    for i_test in range(num_of_tests):\n",
    "        print()\n",
    "        print(i_test + 1, end=' ')\n",
    "\n",
    "        # Initialize the agent\n",
    "        agent = AgentClass(alpha_w=alpha_w, alpha_theta=alpha_theta)\n",
    "\n",
    "        avgs = []\n",
    "        probs1 = []\n",
    "        probs2 = []\n",
    "\n",
    "        episode_rewards = np.zeros(episode_count)\n",
    "        for i_episode in range(episode_count):\n",
    "            done = False\n",
    "            totalReward = 0\n",
    "\n",
    "            if i_episode >= plot_count and (i_episode % plot_count == 0):\n",
    "                avg = np.average(episode_rewards[i_episode - plot_count:i_episode])\n",
    "                avgs.append(avg)\n",
    "\n",
    "                # deterministic position\n",
    "                env.x = 0\n",
    "                env.y = 1\n",
    "                obs = env.get_obs()\n",
    "                prob = agent.get_action_vals_for_obs(obs)\n",
    "                probs1.append(prob)\n",
    "\n",
    "                # stochastic position\n",
    "                env.x = 1\n",
    "                env.y = 1\n",
    "                obs = env.get_obs()\n",
    "                prob = agent.get_action_vals_for_obs(obs)\n",
    "                probs2.append(prob)\n",
    "\n",
    "                print('#', end='', flush=True)\n",
    "                if len(avgs) % 100 == 0:\n",
    "                    print(i_episode)\n",
    "\n",
    "            obs = env.reset()\n",
    "            action = agent.start(obs)\n",
    "\n",
    "            step = 0\n",
    "            while not done:\n",
    "                obs, reward, done = env.step(action)\n",
    "                action = agent.step(obs, reward, done)\n",
    "                totalReward += reward\n",
    "\n",
    "                step += 1\n",
    "                if step > max_episode_steps:\n",
    "                    done = True\n",
    "\n",
    "            episode_rewards[i_episode] = totalReward\n",
    "            agent.update_for_episode()\n",
    "\n",
    "        mult_avgs.append(avgs)\n",
    "        mult_probs1.append(probs1)\n",
    "        mult_probs2.append(probs2)\n",
    "\n",
    "    mult_avgs = np.array(mult_avgs)\n",
    "    avgs = np.mean(mult_avgs, axis=0)\n",
    "    \n",
    "    results_tmp = f'\\n\\nAgent: {agent_name} \\tAlpha_w: {alpha_w}\\tAlpha_theta: {alpha_theta}'\n",
    "    results_tmp += f'\\nAverage: \\t\\t{np.mean(avgs):5.3f}'\n",
    "    results_tmp += f'\\nBest {plot_count} Average: \\t{np.max(avgs):5.3f}'\n",
    "    results_tmp += f'\\nLast {plot_count} Average: \\t{avgs[-1]:5.3f}'\n",
    "    print(results_tmp)\n",
    "    \n",
    "    return mult_avgs\n",
    "\n",
    "def run_actor_critic_agent(alpha_theta=0.1, alpha_w=0.01):\n",
    "    AgentClass = ActorCriticAgent\n",
    "\n",
    "    params_str = f'alpha_theta_{alpha_theta}_alpha_w_{alpha_w}_episodes_{episode_count}'\n",
    "\n",
    "    agent_name = AgentClass.__name__\n",
    "\n",
    "    mult_avgs = []\n",
    "    mult_probs1 = []\n",
    "    mult_probs2 = []\n",
    "    for i_test in range(num_of_tests):\n",
    "        print()\n",
    "        print(i_test + 1, end=' ')\n",
    "\n",
    "        # Initialize the agent\n",
    "        agent = AgentClass(alpha_w=alpha_w, alpha_theta=alpha_theta)\n",
    "\n",
    "        avgs = []\n",
    "        probs1 = []\n",
    "        probs2 = []\n",
    "\n",
    "        episode_rewards = np.zeros(episode_count)\n",
    "        for i_episode in range(episode_count):\n",
    "            done = False\n",
    "            totalReward = 0\n",
    "\n",
    "            if i_episode >= plot_count and (i_episode % plot_count == 0):\n",
    "                avg = np.average(episode_rewards[i_episode - plot_count:i_episode])\n",
    "                avgs.append(avg)\n",
    "\n",
    "                # deterministic position\n",
    "                env.x = 0\n",
    "                env.y = 1\n",
    "                obs = env.get_obs()\n",
    "                prob = agent.get_action_vals_for_obs(obs)\n",
    "                probs1.append(prob)\n",
    "\n",
    "                # stochastic position\n",
    "                env.x = 1\n",
    "                env.y = 1\n",
    "                obs = env.get_obs()\n",
    "                prob = agent.get_action_vals_for_obs(obs)\n",
    "                probs2.append(prob)\n",
    "\n",
    "                print('#', end='', flush=True)\n",
    "                if len(avgs) % 100 == 0:\n",
    "                    print(i_episode)\n",
    "\n",
    "            obs = env.reset()\n",
    "            action = agent.start(obs)\n",
    "\n",
    "            step = 0\n",
    "            while not done:\n",
    "                obs, reward, done = env.step(action)\n",
    "                action = agent.step(obs, reward, done)\n",
    "                totalReward += reward\n",
    "\n",
    "                step += 1\n",
    "                if step > max_episode_steps:\n",
    "                    done = True\n",
    "\n",
    "            episode_rewards[i_episode] = totalReward\n",
    "            agent.update_for_episode()\n",
    "\n",
    "        mult_avgs.append(avgs)\n",
    "        mult_probs1.append(probs1)\n",
    "        mult_probs2.append(probs2)\n",
    "\n",
    "    mult_avgs = np.array(mult_avgs)\n",
    "    avgs = np.mean(mult_avgs, axis=0)\n",
    "    \n",
    "    results_tmp = f'\\n\\nAgent: {agent_name} \\tAlpha_w: {alpha_w}\\tAlpha_theta: {alpha_theta}'\n",
    "    results_tmp += f'\\nAverage: \\t\\t{np.mean(avgs):5.3f}'\n",
    "    results_tmp += f'\\nBest {plot_count} Average: \\t{np.max(avgs):5.3f}'\n",
    "    results_tmp += f'\\nLast {plot_count} Average: \\t{avgs[-1]:5.3f}'\n",
    "    print(results_tmp)\n",
    "    \n",
    "    return mult_avgs\n",
    "    \n",
    "def plot_agent(mult_avgs, agent_name):\n",
    "    avgs = np.mean(np.array(mult_avgs), axis=0)\n",
    "    idx = range(len(avgs))\n",
    "    \n",
    "    plt.figure(1, figsize=(7,4))\n",
    "    plt.plot(np.array(idx)*100, avgs, label=agent_name)\n",
    "#     plt.title(f'Average Return in {episode_count} episodes')\n",
    "    plt.xlabel(f'Episode')\n",
    "#     plt.ylabel(f'Average Return per {plot_count} episodes')\n",
    "#     plt.ylabel(f'Average Return\\non {episode_count} episodes')\n",
    "    plt.ylabel(f'Average Return')\n",
    "#     plt.axhline(y=best_performance, linewidth=1, color=\"g\", linestyle='--')"
   ]
  },
  {
   "cell_type": "code",
   "execution_count": 5,
   "metadata": {
    "ExecuteTime": {
     "end_time": "2019-04-09T20:59:20.182027Z",
     "start_time": "2019-04-09T20:59:19.898015Z"
    }
   },
   "outputs": [],
   "source": [
    "\n",
    "\n",
    "#Label line with line2D label data\n",
    "def labelLine(line,x,label=None,align=True,**kwargs):\n",
    "\n",
    "    ax = line.axes\n",
    "    xdata = line.get_xdata()\n",
    "    ydata = line.get_ydata()\n",
    "\n",
    "    if (x < xdata[0]) or (x > xdata[-1]):\n",
    "        print('x label location is outside data range!')\n",
    "        return\n",
    "\n",
    "    #Find corresponding y co-ordinate and angle of the line\n",
    "    ip = 1\n",
    "    for i in range(len(xdata)):\n",
    "        if x < xdata[i]:\n",
    "            ip = i\n",
    "            break\n",
    "\n",
    "    y = ydata[ip-1] + (ydata[ip]-ydata[ip-1])*(x-xdata[ip-1])/(xdata[ip]-xdata[ip-1])\n",
    "\n",
    "    if not label:\n",
    "        label = line.get_label()\n",
    "\n",
    "    if align:\n",
    "        #Compute the slope\n",
    "        dx = xdata[ip] - xdata[ip-1]\n",
    "        dy = ydata[ip] - ydata[ip-1]\n",
    "        ang = degrees(atan2(dy,dx))\n",
    "\n",
    "        #Transform to screen co-ordinates\n",
    "        pt = np.array([x,y]).reshape((1,2))\n",
    "        trans_angle = ax.transData.transform_angles(np.array((ang,)),pt)[0]\n",
    "\n",
    "    else:\n",
    "        trans_angle = 0\n",
    "\n",
    "    #Set a bunch of keyword arguments\n",
    "    if 'color' not in kwargs:\n",
    "        kwargs['color'] = line.get_color()\n",
    "\n",
    "    if ('horizontalalignment' not in kwargs) and ('ha' not in kwargs):\n",
    "        kwargs['ha'] = 'center'\n",
    "\n",
    "    if ('verticalalignment' not in kwargs) and ('va' not in kwargs):\n",
    "        kwargs['va'] = 'center'\n",
    "\n",
    "    if 'backgroundcolor' not in kwargs:\n",
    "        kwargs['backgroundcolor'] = ax.get_facecolor()\n",
    "\n",
    "    if 'clip_on' not in kwargs:\n",
    "        kwargs['clip_on'] = True\n",
    "\n",
    "    if 'zorder' not in kwargs:\n",
    "        kwargs['zorder'] = 2.5\n",
    "\n",
    "    t = ax.text(x,y,label,rotation=trans_angle,**kwargs)\n",
    "    t.set_bbox(dict(facecolor='white', alpha=0.0, edgecolor='white'))\n",
    "\n",
    "def labelLines(lines,align=True,xvals=None,labels=None,**kwargs):\n",
    "\n",
    "    ax = lines[0].axes\n",
    "    labLines = []\n",
    "    \n",
    "    label_available = True\n",
    "    if labels is None:\n",
    "        label_available = False\n",
    "        labels = []\n",
    "\n",
    "    #Take only the lines which have labels other than the default ones\n",
    "    for line in lines:\n",
    "        label = line.get_label()\n",
    "        if \"_line\" not in label:\n",
    "            labLines.append(line)\n",
    "            labels.append(label)\n",
    "        else:\n",
    "            labLines.append(line)\n",
    "\n",
    "    if xvals is None:\n",
    "        xmin,xmax = ax.get_xlim()\n",
    "        xvals = np.linspace(xmin,xmax,len(labLines)+2)[1:-1]\n",
    "        \n",
    "    for line,x,label in zip(labLines,xvals,labels):\n",
    "        labelLine(line,x,label,align,**kwargs)"
   ]
  },
  {
   "cell_type": "code",
   "execution_count": 6,
   "metadata": {
    "ExecuteTime": {
     "end_time": "2019-04-09T20:59:20.262066Z",
     "start_time": "2019-04-09T20:59:20.185010Z"
    },
    "scrolled": true
   },
   "outputs": [],
   "source": [
    "from agents import ReinforceAgent, ReinforceWithBaselineAgent, ActorCriticAgent\n",
    "\n",
    "best_performance = 0.63\n",
    "env = SmartVac()\n",
    "num_of_tests = 500\n",
    "episode_count = 10000\n",
    "plot_count = int(episode_count / 100)\n",
    "\n",
    "if not just_plot:\n",
    "    avgs1 = run_reinforce_agent(alpha=0.125)\n",
    "    avgs2 = run_reinforce_with_baseline_agent(alpha_w=0.5, alpha_theta=0.25)\n",
    "    avgs3 = run_actor_critic_agent(alpha_w=0.125, alpha_theta=0.5)"
   ]
  },
  {
   "cell_type": "code",
   "execution_count": 7,
   "metadata": {
    "ExecuteTime": {
     "end_time": "2019-04-09T20:59:20.338012Z",
     "start_time": "2019-04-09T20:59:20.265015Z"
    }
   },
   "outputs": [
    {
     "name": "stdout",
     "output_type": "stream",
     "text": [
      "output/smart-vac-comp.pkl\n"
     ]
    }
   ],
   "source": [
    "# Save Results\n",
    "import pickle\n",
    "\n",
    "pkl_file_name = f'{output_folder}smart-vac-comp.pkl'\n",
    "print(pkl_file_name)\n",
    "\n",
    "if not just_plot:\n",
    "    res_vars = {\n",
    "        'avgs1': avgs1,\n",
    "        'avgs2': avgs2,\n",
    "        'avgs3': avgs3,\n",
    "    }\n",
    "\n",
    "    with open(pkl_file_name, \"wb\") as f:\n",
    "        pickle.dump(res_vars, f)"
   ]
  },
  {
   "cell_type": "code",
   "execution_count": 8,
   "metadata": {
    "ExecuteTime": {
     "end_time": "2019-04-09T20:59:20.419020Z",
     "start_time": "2019-04-09T20:59:20.340009Z"
    }
   },
   "outputs": [],
   "source": [
    "# Load Results\n",
    "import pickle\n",
    "\n",
    "if just_plot:\n",
    "    res_vars = {}\n",
    "    with open(pkl_file_name, \"rb\") as f:\n",
    "        res_vars = pickle.load(f)\n",
    "\n",
    "    for var in res_vars:\n",
    "        vars()[var] = res_vars[var]"
   ]
  },
  {
   "cell_type": "code",
   "execution_count": 9,
   "metadata": {
    "ExecuteTime": {
     "end_time": "2019-04-09T20:59:20.797016Z",
     "start_time": "2019-04-09T20:59:20.423015Z"
    }
   },
   "outputs": [
    {
     "data": {
      "image/png": "[encoded data removed]",
      "text/plain": [
       "<matplotlib.figure.Figure at 0x13dc50cc780>"
      ]
     },
     "metadata": {
      "needs_background": "light"
     },
     "output_type": "display_data"
    }
   ],
   "source": [
    "plot_agent(avgs1, 'REINFORCE')\n",
    "plot_agent(avgs2, 'REINFORCE w/ Baseline')\n",
    "plot_agent(avgs3, 'Actor-Critic')\n",
    "# plt.legend()\n",
    "\n",
    "lines = plt.gca().get_lines()\n",
    "l1=lines[-1]\n",
    "# labelLine(l1,0.6,label=r'$Re=${}'.format(l1.get_label()),ha='left',va='bottom',align = False)\n",
    "\n",
    "plt.axhline(y=best_performance, linewidth=1, color=\"g\", linestyle='--', label='v*')\n",
    "\n",
    "ax = lines[0].axes\n",
    "xmin,xmax = ax.get_xlim()\n",
    "labelLines(lines,align=False)\n",
    "\n",
    "plt.savefig(f'{figs_folder}smart-vac-comp.pdf')\n",
    "# plt.savefig(f'{figs_folder}smart-vac-comp.png')\n",
    "plt.show()"
   ]
  },
  {
   "cell_type": "code",
   "execution_count": 10,
   "metadata": {
    "ExecuteTime": {
     "end_time": "2019-04-09T20:59:21.087007Z",
     "start_time": "2019-04-09T20:59:20.800014Z"
    }
   },
   "outputs": [
    {
     "data": {
      "image/png": "[encoded data removed]",
      "text/plain": [
       "<matplotlib.figure.Figure at 0x13dc1f20240>"
      ]
     },
     "metadata": {
      "needs_background": "light"
     },
     "output_type": "display_data"
    }
   ],
   "source": [
    "plt.figure(1, figsize=(7,4))\n",
    "d2 = [np.mean(x, axis=1) for x in [avgs1, avgs2, avgs3]]\n",
    "plt.boxplot(d2, showfliers=False)\n",
    "ax = plt.gca()\n",
    "ax.set_xticklabels(['REINFORCE', 'REINFORCE w/ Baseline', 'Actor-Critic'])\n",
    "plt.ylabel(f'Average Return\\non {episode_count} episodes')\n",
    "plt.savefig(f'{figs_folder}smart-vac-comp-box.pdf')\n",
    "# plt.savefig(f'{figs_folder}smart-vac-comp-box.png')\n",
    "plt.show()"
   ]
  },
  {
   "cell_type": "code",
   "execution_count": 11,
   "metadata": {
    "ExecuteTime": {
     "end_time": "2019-04-09T20:59:21.325019Z",
     "start_time": "2019-04-09T20:59:21.091050Z"
    }
   },
   "outputs": [
    {
     "data": {
      "image/png": "[encoded data removed]",
      "text/plain": [
       "<matplotlib.figure.Figure at 0x13dc565da20>"
      ]
     },
     "metadata": {
      "needs_background": "light"
     },
     "output_type": "display_data"
    }
   ],
   "source": [
    "plt.figure(1, figsize=(7,5))\n",
    "se = np.std([np.mean(x, axis=1) for x in [avgs1, avgs2, avgs3]], axis=1) / np.sqrt(num_of_tests)\n",
    "agents = ['REINFORCE', 'REINFORCE w/ Baseline', 'Actor-Critic']\n",
    "y = [np.mean(x) for x in [avgs1,avgs2,avgs3]]\n",
    "\n",
    "plt.bar(range(len(agents)), [np.mean(x) for x in [avgs1,avgs2,avgs3]], alpha=0.2, ecolor='black', capsize=10, yerr=se)\n",
    "# plt.errorbar(range(len(agents)), y, se, linestyle='None', color='r')\n",
    "plt.xticks(range(len(agents)), agents)\n",
    "# plt.ylim(bottom=best_performance-0.13)\n",
    "plt.ylim(bottom=0.57, top=0.62)\n",
    "plt.ylabel(f'Average Return\\non {episode_count} episodes')\n",
    "# plt.savefig(f'{figs_folder}smart-vac-comp-se.pdf')\n",
    "plt.ylabel(f'Average Return')\n",
    "# plt.savefig(f'{figs_folder}smart-vac-comp-se.png')\n",
    "plt.show()"
   ]
  },
  {
   "cell_type": "code",
   "execution_count": 12,
   "metadata": {
    "ExecuteTime": {
     "end_time": "2019-04-09T20:59:21.408048Z",
     "start_time": "2019-04-09T20:59:21.329009Z"
    }
   },
   "outputs": [],
   "source": [
    "# plt.figure(1, figsize=(7,10))\n",
    "\n",
    "# plt.subplot(211)\n",
    "# d2 = [np.mean(x, axis=1) for x in [avgs1, avgs2, avgs3]]\n",
    "# plt.boxplot(d2, showfliers=False)\n",
    "# ax = plt.gca()\n",
    "# ax.set_xticklabels(['REINFORCE', 'REINFORCE w/ Baseline', 'Actor-Critic'])\n",
    "\n",
    "# ax = plt.subplot(212)\n",
    "# se = np.std([np.mean(x, axis=1) for x in [avgs1, avgs2, avgs3]], axis=1) / np.sqrt(num_of_tests)\n",
    "# agents = ['REINFORCE', 'REINFORCE w/ Baseline', 'Actor-Critic']\n",
    "# y = [np.mean(x) for x in [avgs1,avgs2,avgs3]]\n",
    "# plt.bar(range(len(agents)), [np.mean(x) for x in [avgs1,avgs2,avgs3]], alpha=0.5, ecolor='black', capsize=10, yerr=se)\n",
    "# plt.xticks(range(len(agents)), agents)\n",
    "# plt.ylim(bottom=0.4)\n",
    "\n",
    "# # plt.savefig(f'{figs_folder}smart-vac-comp-se-box.pdf')\n",
    "# # plt.savefig(f'{figs_folder}smart-vac-comp-se-box.png')\n",
    "# plt.show()"
   ]
  },
  {
   "cell_type": "code",
   "execution_count": 13,
   "metadata": {
    "ExecuteTime": {
     "end_time": "2019-04-09T20:59:21.487008Z",
     "start_time": "2019-04-09T20:59:21.411008Z"
    }
   },
   "outputs": [
    {
     "name": "stdout",
     "output_type": "stream",
     "text": [
      "[0.00184161 0.0009854  0.00013895]\n",
      "[0.5895528282828283, 0.5833502828282829, 0.6042486464646464]\n"
     ]
    }
   ],
   "source": [
    "print(np.std([np.mean(x, axis=1) for x in [avgs1, avgs2, avgs3]], axis=1) / np.sqrt(num_of_tests))\n",
    "print([np.mean(x) for x in [avgs1,avgs2,avgs3]])"
   ]
  },
  {
   "cell_type": "markdown",
   "metadata": {},
   "source": [
    "# Compare Best Configuration for negative rewards"
   ]
  },
  {
   "cell_type": "code",
   "execution_count": 14,
   "metadata": {
    "ExecuteTime": {
     "end_time": "2019-04-09T20:59:21.579066Z",
     "start_time": "2019-04-09T20:59:21.491010Z"
    },
    "scrolled": true
   },
   "outputs": [],
   "source": [
    "from agents import ReinforceAgent, ReinforceWithBaselineAgent, ActorCriticAgent\n",
    "\n",
    "best_performance = -1.37\n",
    "env = SmartVac(terminal_rewards=(-1,-3))\n",
    "num_of_tests = 500\n",
    "episode_count = 10000\n",
    "plot_count = int(episode_count / 100)\n",
    "\n",
    "if not just_plot:\n",
    "    # REINFORCE doesn't work in this settings\n",
    "    # avgs1 = run_reinforce_agent(alpha=0.5)\n",
    "    avgs2 = run_reinforce_with_baseline_agent(alpha_theta=0.25, alpha_w=0.5)\n",
    "    avgs3 = run_actor_critic_agent(alpha_theta=0.5, alpha_w=0.5)"
   ]
  },
  {
   "cell_type": "code",
   "execution_count": 15,
   "metadata": {
    "ExecuteTime": {
     "end_time": "2019-04-09T20:59:21.664010Z",
     "start_time": "2019-04-09T20:59:21.581013Z"
    }
   },
   "outputs": [
    {
     "name": "stdout",
     "output_type": "stream",
     "text": [
      "output/smart-vac-neg-comp.pkl\n"
     ]
    }
   ],
   "source": [
    "# Save Results\n",
    "import pickle\n",
    "\n",
    "pkl_file_name = f'{output_folder}smart-vac-neg-comp.pkl'\n",
    "print(pkl_file_name)\n",
    "\n",
    "if not just_plot:\n",
    "    res_vars = {\n",
    "        'avgs1': avgs1,\n",
    "        'avgs2': avgs2,\n",
    "        'avgs3': avgs3,\n",
    "    }\n",
    "\n",
    "    with open(pkl_file_name, \"wb\") as f:\n",
    "        pickle.dump(res_vars, f)"
   ]
  },
  {
   "cell_type": "code",
   "execution_count": 16,
   "metadata": {
    "ExecuteTime": {
     "end_time": "2019-04-09T20:59:21.752056Z",
     "start_time": "2019-04-09T20:59:21.669018Z"
    }
   },
   "outputs": [],
   "source": [
    "# Load Results\n",
    "import pickle\n",
    "\n",
    "if just_plot:\n",
    "    res_vars = {}\n",
    "    with open(pkl_file_name, \"rb\") as f:\n",
    "        res_vars = pickle.load(f)\n",
    "\n",
    "    for var in res_vars:\n",
    "        vars()[var] = res_vars[var]"
   ]
  },
  {
   "cell_type": "code",
   "execution_count": 17,
   "metadata": {
    "ExecuteTime": {
     "end_time": "2019-04-09T20:59:22.045044Z",
     "start_time": "2019-04-09T20:59:21.755007Z"
    }
   },
   "outputs": [
    {
     "data": {
      "image/png": "[encoded data removed]",
      "text/plain": [
       "<matplotlib.figure.Figure at 0x13dc568ef98>"
      ]
     },
     "metadata": {
      "needs_background": "light"
     },
     "output_type": "display_data"
    }
   ],
   "source": [
    "# REINFORCE doesn't work in this settings\n",
    "# plot_agent(avgs1, 'REINFORCE')\n",
    "plot_agent(avgs2, 'REINFORCE w/ Baseline')\n",
    "plot_agent(avgs3, 'Actor-Critic')\n",
    "plt.legend()\n",
    "plt.savefig(f'{figs_folder}smart-vac-neg-comp.pdf')\n",
    "# plt.savefig(f'{figs_folder}smart-vac-neg-comp.png')\n",
    "plt.show()"
   ]
  },
  {
   "cell_type": "code",
   "execution_count": 18,
   "metadata": {
    "ExecuteTime": {
     "end_time": "2019-04-09T20:59:22.313012Z",
     "start_time": "2019-04-09T20:59:22.048049Z"
    }
   },
   "outputs": [
    {
     "data": {
      "image/png": "[encoded data removed]",
      "text/plain": [
       "<matplotlib.figure.Figure at 0x13dc5668668>"
      ]
     },
     "metadata": {
      "needs_background": "light"
     },
     "output_type": "display_data"
    }
   ],
   "source": [
    "# plot_agent(avgs1, 'REINFORCE')\n",
    "plot_agent(avgs2, 'REINFORCE w/ Baseline')\n",
    "plot_agent(avgs3, 'Actor-Critic')\n",
    "# plt.legend()\n",
    "\n",
    "lines = plt.gca().get_lines()\n",
    "l1=lines[-1]\n",
    "# labelLine(l1,0.6,label=r'$Re=${}'.format(l1.get_label()),ha='left',va='bottom',align = False)\n",
    "\n",
    "plt.axhline(y=best_performance, linewidth=1, color=\"g\", linestyle='--', label='v*')\n",
    "\n",
    "ax = lines[0].axes\n",
    "xmin,xmax = ax.get_xlim()\n",
    "labelLines(lines,align=False)\n",
    "\n",
    "plt.savefig(f'{figs_folder}smart-vac-neg-comp.pdf')\n",
    "# plt.savefig(f'{figs_folder}smart-vac-comp.png')\n",
    "plt.show()"
   ]
  },
  {
   "cell_type": "code",
   "execution_count": 19,
   "metadata": {
    "ExecuteTime": {
     "end_time": "2019-04-09T20:59:22.581038Z",
     "start_time": "2019-04-09T20:59:22.316012Z"
    }
   },
   "outputs": [
    {
     "data": {
      "image/png": "[encoded data removed]",
      "text/plain": [
       "<matplotlib.figure.Figure at 0x13dc57688d0>"
      ]
     },
     "metadata": {
      "needs_background": "light"
     },
     "output_type": "display_data"
    }
   ],
   "source": [
    "plt.figure(1, figsize=(7,4))\n",
    "# d2 = [np.mean(x, axis=1) for x in [avgs1, avgs2, avgs3]]\n",
    "d2 = [np.mean(x, axis=1) for x in [avgs2, avgs3]]\n",
    "plt.boxplot(d2, showfliers=False)\n",
    "ax = plt.gca()\n",
    "# ax.set_xticklabels(['REINFORCE', 'REINFORCE w/ Baseline', 'Actor-Critic'])\n",
    "ax.set_xticklabels(['REINFORCE w/ Baseline', 'Actor-Critic'])\n",
    "plt.ylabel(f'Average Return\\non {episode_count} episodes')\n",
    "plt.savefig(f'{figs_folder}smart-vac-neg-comp-box.pdf')\n",
    "# plt.savefig(f'{figs_folder}smart-vac-neg-comp-box.png')\n",
    "plt.show()"
   ]
  },
  {
   "cell_type": "code",
   "execution_count": 20,
   "metadata": {
    "ExecuteTime": {
     "end_time": "2019-04-09T20:59:22.861009Z",
     "start_time": "2019-04-09T20:59:22.584034Z"
    }
   },
   "outputs": [
    {
     "data": {
      "image/png": "[encoded data removed]",
      "text/plain": [
       "<matplotlib.figure.Figure at 0x13dc57b9550>"
      ]
     },
     "metadata": {
      "needs_background": "light"
     },
     "output_type": "display_data"
    }
   ],
   "source": [
    "plt.figure(1, figsize=(7,5))\n",
    "# se = np.std([np.mean(x, axis=1) for x in [avgs1, avgs2, avgs3]], axis=1) / np.sqrt(num_of_tests)\n",
    "se = np.std([np.mean(x, axis=1) for x in [avgs2, avgs3]], axis=1) / np.sqrt(num_of_tests)\n",
    "# agents = ['REINFORCE', 'REINFORCE w/ Baseline', 'Actor-Critic']\n",
    "agents = ['REINFORCE w/ Baseline', 'Actor-Critic']\n",
    "y = [np.mean(x) for x in [avgs1,avgs2,avgs3]]\n",
    "\n",
    "# plt.bar(range(len(agents)), [np.mean(x) for x in [avgs1,avgs2,avgs3]], alpha=0.5, ecolor='black', capsize=10, yerr=se)\n",
    "plt.bar(range(len(agents)), [np.mean(x) for x in [avgs2,avgs3]], alpha=0.2, ecolor='black', capsize=10, yerr=se)\n",
    "plt.xticks(range(len(agents)), agents)\n",
    "plt.ylim(top=-1.38, bottom=-1.46)\n",
    "# plt.ylabel(f'Average Return\\non {episode_count} episodes')\n",
    "plt.ylabel(f'Average Return')\n",
    "plt.savefig(f'{figs_folder}smart-vac-neg-comp-se.pdf')\n",
    "# plt.savefig(f'{figs_folder}smart-vac-neg-comp-se.png')\n",
    "plt.show()"
   ]
  },
  {
   "cell_type": "code",
   "execution_count": 21,
   "metadata": {
    "ExecuteTime": {
     "end_time": "2019-04-09T20:59:22.941010Z",
     "start_time": "2019-04-09T20:59:22.864014Z"
    }
   },
   "outputs": [
    {
     "name": "stdout",
     "output_type": "stream",
     "text": [
      "[0.00184161 0.0017191  0.0001483 ]\n",
      "[0.5895528282828283, -1.4277736363636364, -1.3975219797979799]\n"
     ]
    }
   ],
   "source": [
    "print(np.std([np.mean(x, axis=1) for x in [avgs1, avgs2, avgs3]], axis=1) / np.sqrt(num_of_tests))\n",
    "print([np.mean(x) for x in [avgs1,avgs2,avgs3]])"
   ]
  },
  {
   "cell_type": "markdown",
   "metadata": {},
   "source": [
    "# Compare Best Configuration with memory and negative rewards"
   ]
  },
  {
   "cell_type": "code",
   "execution_count": 33,
   "metadata": {
    "ExecuteTime": {
     "end_time": "2019-04-09T22:17:30.534309Z",
     "start_time": "2019-04-09T22:17:30.444325Z"
    },
    "scrolled": true
   },
   "outputs": [],
   "source": [
    "from agents import ReinforceMemoryAgent as ReinforceAgent\n",
    "from agents import ReinforceWithBaselineMemoryAgent as ReinforceWithBaselineAgent\n",
    "from agents import ActorCriticMemoryAgent as ActorCriticAgent\n",
    "\n",
    "best_performance = 0.74 - 2\n",
    "# env = SmartVac()\n",
    "env = SmartVac(terminal_rewards=(-1,-3))\n",
    "num_of_tests = 1000\n",
    "episode_count = 10000\n",
    "plot_count = int(episode_count / 100)\n",
    "\n",
    "if not just_plot:\n",
    "    avgs1 = run_reinforce_agent(alpha=2.0)\n",
    "    avgs2 = run_reinforce_with_baseline_agent(alpha_w=0.125, alpha_theta=0.5)\n",
    "    avgs3 = run_actor_critic_agent(alpha_w=0.5, alpha_theta=2.0)"
   ]
  },
  {
   "cell_type": "code",
   "execution_count": 34,
   "metadata": {
    "ExecuteTime": {
     "end_time": "2019-04-09T22:17:31.650288Z",
     "start_time": "2019-04-09T22:17:31.582280Z"
    }
   },
   "outputs": [
    {
     "name": "stdout",
     "output_type": "stream",
     "text": [
      "output/smart-vac-mem-neg-comp.pkl\n"
     ]
    }
   ],
   "source": [
    "# Save Results\n",
    "import pickle\n",
    "\n",
    "pkl_file_name = f'{output_folder}smart-vac-mem-neg-comp.pkl'\n",
    "print(pkl_file_name)\n",
    "\n",
    "if not just_plot:\n",
    "    res_vars = {\n",
    "        'avgs1': avgs1,\n",
    "        'avgs2': avgs2,\n",
    "        'avgs3': avgs3,\n",
    "    }\n",
    "\n",
    "    with open(pkl_file_name, \"wb\") as f:\n",
    "        pickle.dump(res_vars, f)"
   ]
  },
  {
   "cell_type": "code",
   "execution_count": 35,
   "metadata": {
    "ExecuteTime": {
     "end_time": "2019-04-09T22:17:32.787347Z",
     "start_time": "2019-04-09T22:17:32.720284Z"
    }
   },
   "outputs": [],
   "source": [
    "# Load Results\n",
    "import pickle\n",
    "\n",
    "if just_plot:\n",
    "    res_vars = {}\n",
    "    with open(pkl_file_name, \"rb\") as f:\n",
    "        res_vars = pickle.load(f)\n",
    "\n",
    "    for var in res_vars:\n",
    "        vars()[var] = res_vars[var]"
   ]
  },
  {
   "cell_type": "code",
   "execution_count": 39,
   "metadata": {
    "ExecuteTime": {
     "end_time": "2019-04-09T22:30:17.493108Z",
     "start_time": "2019-04-09T22:30:17.202073Z"
    }
   },
   "outputs": [
    {
     "data": {
      "image/png": "[encoded data removed]",
      "text/plain": [
       "<matplotlib.figure.Figure at 0x13dc5861198>"
      ]
     },
     "metadata": {
      "needs_background": "light"
     },
     "output_type": "display_data"
    }
   ],
   "source": [
    "plot_agent(avgs1, 'REINFORCE')\n",
    "plot_agent(avgs2, 'REINFORCE w/ Baseline')\n",
    "plot_agent(avgs3, 'Actor-Critic')\n",
    "# plt.legend()\n",
    "\n",
    "\n",
    "lines = plt.gca().get_lines()\n",
    "l1=lines[-1]\n",
    "# labelLine(l1,0.6,label=r'$Re=${}'.format(l1.get_label()),ha='left',va='bottom',align = False)\n",
    "\n",
    "plt.axhline(y=best_performance, linewidth=1, color=\"g\", linestyle='--', label='v*')\n",
    "\n",
    "ax = lines[0].axes\n",
    "xmin,xmax = ax.get_xlim()\n",
    "labelLines(lines,align=False)\n",
    "\n",
    "plt.savefig(f'{figs_folder}smart-vac-mem-neg-comp.pdf')\n",
    "# plt.savefig(f'{figs_folder}smart-vac-mem-neg-comp.png')\n",
    "plt.show()"
   ]
  },
  {
   "cell_type": "code",
   "execution_count": 26,
   "metadata": {
    "ExecuteTime": {
     "end_time": "2019-04-09T20:59:23.820014Z",
     "start_time": "2019-04-09T20:59:23.497009Z"
    }
   },
   "outputs": [
    {
     "data": {
      "image/png": "[encoded data removed]",
      "text/plain": [
       "<matplotlib.figure.Figure at 0x13dc5879ac8>"
      ]
     },
     "metadata": {
      "needs_background": "light"
     },
     "output_type": "display_data"
    }
   ],
   "source": [
    "plt.figure(1, figsize=(7,4))\n",
    "d2 = [np.mean(x, axis=1) for x in [avgs1, avgs2, avgs3]]\n",
    "plt.boxplot(d2, showfliers=False)\n",
    "ax = plt.gca()\n",
    "ax.set_xticklabels(['REINFORCE', 'REINFORCE w/ Baseline', 'Actor-Critic'])\n",
    "plt.ylabel(f'Average Return\\non {episode_count} episodes')\n",
    "plt.savefig(f'{figs_folder}smart-vac-mem-neg-comp-box.pdf')\n",
    "# plt.savefig(f'{figs_folder}smart-vac-mem-neg-comp-box.png')\n",
    "plt.show()"
   ]
  },
  {
   "cell_type": "code",
   "execution_count": 40,
   "metadata": {
    "ExecuteTime": {
     "end_time": "2019-04-09T22:36:10.316132Z",
     "start_time": "2019-04-09T22:36:10.050125Z"
    }
   },
   "outputs": [
    {
     "data": {
      "image/png": "[encoded data removed]",
      "text/plain": [
       "<matplotlib.figure.Figure at 0x13dc56f9fd0>"
      ]
     },
     "metadata": {
      "needs_background": "light"
     },
     "output_type": "display_data"
    }
   ],
   "source": [
    "plt.figure(1, figsize=(7,5))\n",
    "se = np.std([np.mean(x, axis=1) for x in [avgs1, avgs2, avgs3]], axis=1) / np.sqrt(num_of_tests)\n",
    "agents = ['REINFORCE', 'REINFORCE w/ Baseline', 'Actor-Critic']\n",
    "y = [np.mean(x) for x in [avgs1,avgs2,avgs3]]\n",
    "\n",
    "plt.bar(range(len(agents)), [np.mean(x) for x in [avgs1,avgs2,avgs3]], alpha=0.2, ecolor='black', capsize=10, yerr=se)\n",
    "plt.xticks(range(len(agents)), agents)\n",
    "# plt.ylim(bottom=best_performance-0.23)\n",
    "plt.ylim(bottom=-2, top=-1.2)\n",
    "# plt.ylabel(f'Average Return\\non {episode_count} episodes')\n",
    "plt.ylabel(f'Average Return')\n",
    "plt.savefig(f'{figs_folder}smart-vac-mem-neg-comp-se.pdf')\n",
    "# plt.savefig(f'{figs_folder}smart-vac-mem-neg-comp-se.png')\n",
    "plt.show()"
   ]
  },
  {
   "cell_type": "code",
   "execution_count": 32,
   "metadata": {
    "ExecuteTime": {
     "end_time": "2019-04-09T22:16:40.335772Z",
     "start_time": "2019-04-09T22:16:40.049800Z"
    }
   },
   "outputs": [
    {
     "data": {
      "image/png": "[encoded data removed]",
      "text/plain": [
       "<matplotlib.figure.Figure at 0x13dc6960da0>"
      ]
     },
     "metadata": {
      "needs_background": "light"
     },
     "output_type": "display_data"
    }
   ],
   "source": [
    "plt.figure(1, figsize=(7,5))\n",
    "# se = np.std([np.mean(x, axis=1) for x in [avgs1, avgs2, avgs3]], axis=1) / np.sqrt(num_of_tests)\n",
    "se = np.std([np.mean(x, axis=1) for x in [avgs2, avgs3]], axis=1) / np.sqrt(num_of_tests)\n",
    "# agents = ['REINFORCE', 'REINFORCE w/ Baseline', 'Actor-Critic']\n",
    "agents = ['REINFORCE w/ Baseline', 'Actor-Critic']\n",
    "y = [np.mean(x) for x in [avgs1,avgs2,avgs3]]\n",
    "\n",
    "# plt.bar(range(len(agents)), [np.mean(x) for x in [avgs1,avgs2,avgs3]], alpha=0.5, ecolor='black', capsize=10, yerr=se)\n",
    "plt.bar(range(len(agents)), [np.mean(x) for x in [avgs2,avgs3]], alpha=0.2, ecolor='black', capsize=10, yerr=se)\n",
    "plt.xticks(range(len(agents)), agents)\n",
    "plt.ylim(top=-1.2, bottom=-1.4)\n",
    "# plt.ylabel(f'Average Return\\non {episode_count} episodes')\n",
    "plt.ylabel(f'Average Return')\n",
    "plt.savefig(f'{figs_folder}smart-vac-mem-neg-comp-se.pdf')\n",
    "# plt.savefig(f'{figs_folder}smart-vac-neg-comp-se.png')\n",
    "plt.show()"
   ]
  },
  {
   "cell_type": "code",
   "execution_count": 28,
   "metadata": {
    "ExecuteTime": {
     "end_time": "2019-04-09T20:59:24.216032Z",
     "start_time": "2019-04-09T20:59:24.128017Z"
    }
   },
   "outputs": [
    {
     "name": "stdout",
     "output_type": "stream",
     "text": [
      "[0.01120522 0.00308865 0.00028607]\n",
      "[-1.8428313636363636, -1.3259684141414143, -1.2827265555555558]\n"
     ]
    }
   ],
   "source": [
    "print(np.std([np.mean(x, axis=1) for x in [avgs1, avgs2, avgs3]], axis=1) / np.sqrt(num_of_tests))\n",
    "print([np.mean(x) for x in [avgs1,avgs2,avgs3]])"
   ]
  }
 ],
 "metadata": {
  "kernelspec": {
   "display_name": "Python 3",
   "language": "python",
   "name": "python3"
  },
  "language_info": {
   "codemirror_mode": {
    "name": "ipython",
    "version": 3
   },
   "file_extension": ".py",
   "mimetype": "text/x-python",
   "name": "python",
   "nbconvert_exporter": "python",
   "pygments_lexer": "ipython3",
   "version": "3.6.4"
  },
  "notify_time": "30",
  "toc": {
   "base_numbering": 1,
   "nav_menu": {},
   "number_sections": true,
   "sideBar": true,
   "skip_h1_title": false,
   "title_cell": "Table of Contents",
   "title_sidebar": "Contents",
   "toc_cell": false,
   "toc_position": {},
   "toc_section_display": true,
   "toc_window_display": false
  },
  "varInspector": {
   "cols": {
    "lenName": 16,
    "lenType": 16,
    "lenVar": 40
   },
   "kernels_config": {
    "python": {
     "delete_cmd_postfix": "",
     "delete_cmd_prefix": "del ",
     "library": "var_list.py",
     "varRefreshCmd": "print(var_dic_list())"
    },
    "r": {
     "delete_cmd_postfix": ") ",
     "delete_cmd_prefix": "rm(",
     "library": "var_list.r",
     "varRefreshCmd": "cat(var_dic_list()) "
    }
   },
   "types_to_exclude": [
    "module",
    "function",
    "builtin_function_or_method",
    "instance",
    "_Feature"
   ],
   "window_display": false
  }
 },
 "nbformat": 4,
 "nbformat_minor": 2
}
