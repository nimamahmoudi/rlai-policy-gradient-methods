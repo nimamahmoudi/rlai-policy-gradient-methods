{
 "cells": [
  {
   "cell_type": "code",
   "execution_count": 1,
   "metadata": {
    "ExecuteTime": {
     "end_time": "2019-03-28T21:11:43.973618Z",
     "start_time": "2019-03-28T21:11:43.563686Z"
    }
   },
   "outputs": [],
   "source": [
    "# import needed libs\n",
    "\n",
    "%load_ext autoreload\n",
    "\n",
    "# Auto reloading causes the kernel to reload the libraries we have\n",
    "%autoreload 2\n",
    "\n",
    "# usual imports for visualization, etc.\n",
    "import numpy as np\n",
    "import matplotlib.pyplot as plt\n",
    "\n",
    "import datetime\n",
    "\n",
    "# make it reproducible\n",
    "np.random.seed(0)\n",
    "\n",
    "# show plots inline\n",
    "%matplotlib inline"
   ]
  },
  {
   "cell_type": "code",
   "execution_count": 2,
   "metadata": {
    "ExecuteTime": {
     "end_time": "2019-03-28T21:11:44.292769Z",
     "start_time": "2019-03-28T21:11:44.189624Z"
    }
   },
   "outputs": [],
   "source": [
    "# Some initializations\n",
    "\n",
    "from envs import SmartVac\n",
    "from agents import ReinforceMemoryAgent as ReinforceAgent\n",
    "from agents import ReinforceWithBaselineMemoryAgent as ReinforceWithBaselineAgent\n",
    "from agents import ActorCriticMemoryAgent as ActorCriticAgent\n",
    "\n",
    "max_episode_steps = 100\n",
    "results_folder = 'res/'\n",
    "figs_folder = 'figs/'"
   ]
  },
  {
   "cell_type": "code",
   "execution_count": 3,
   "metadata": {
    "ExecuteTime": {
     "end_time": "2019-03-28T21:11:44.574618Z",
     "start_time": "2019-03-28T21:11:44.480625Z"
    }
   },
   "outputs": [],
   "source": [
    "best_performance = 0.74\n",
    "env = SmartVac()"
   ]
  },
  {
   "cell_type": "code",
   "execution_count": 4,
   "metadata": {
    "ExecuteTime": {
     "end_time": "2019-03-28T21:11:44.884629Z",
     "start_time": "2019-03-28T21:11:44.757623Z"
    }
   },
   "outputs": [],
   "source": [
    "from cycler import cycler\n",
    "def set_plt_rc():\n",
    "    font = {'family': 'serif','size': 12}\n",
    "    \n",
    "#     SMALL_SIZE = 8\n",
    "#     MEDIUM_SIZE = 10\n",
    "#     BIGGER_SIZE = 12\n",
    "\n",
    "#     plt.rc('font', size=SMALL_SIZE)          # controls default text sizes\n",
    "#     plt.rc('axes', titlesize=SMALL_SIZE)     # fontsize of the axes title\n",
    "#     plt.rc('axes', labelsize=MEDIUM_SIZE)    # fontsize of the x and y labels\n",
    "#     plt.rc('xtick', labelsize=SMALL_SIZE)    # fontsize of the tick labels\n",
    "#     plt.rc('ytick', labelsize=SMALL_SIZE)    # fontsize of the tick labels\n",
    "#     plt.rc('legend', fontsize=SMALL_SIZE)    # legend fontsize\n",
    "#     plt.rc('figure', titlesize=BIGGER_SIZE)  # fontsize of the figure title\n",
    "\n",
    "\n",
    "#     plt.rc('font', family='serif')\n",
    "    plt.rc('font', family=font['family'], size=font['size'])\n",
    "    \n",
    "    \n",
    "#     plt.rc('xtick', labelsize='x-small')\n",
    "#     plt.rc('ytick', labelsize='x-small')\n",
    "    \n",
    "    plt.rc('xtick', labelsize='medium')\n",
    "    plt.rc('ytick', labelsize='medium')\n",
    "    \n",
    "    plt.rc('axes', prop_cycle=(cycler(color=['#1f77b4', '#ff7f0e', '#2ca02c', '#d62728',\n",
    "                                         '#9467bd', '#8c564b', '#e377c2', '#7f7f7f',\n",
    "                                         '#bcbd22', '#17becf']) +\n",
    "                           cycler(linestyle=['-', '--', ':', '-.','-', '--', ':', '-.','-', '--'])))\n",
    "    \n",
    "set_plt_rc()"
   ]
  },
  {
   "cell_type": "markdown",
   "metadata": {},
   "source": [
    "# REINFORCE Agent"
   ]
  },
  {
   "cell_type": "code",
   "execution_count": 11,
   "metadata": {
    "ExecuteTime": {
     "end_time": "2019-03-28T22:33:15.212233Z",
     "start_time": "2019-03-28T22:16:09.167408Z"
    },
    "code_folding": [],
    "scrolled": true
   },
   "outputs": [
    {
     "name": "stdout",
     "output_type": "stream",
     "text": [
      "\n",
      "1 ###################################################################################################\n",
      "2 ###################################################################################################\n",
      "3 ###################################################################################################\n",
      "4 ###################################################################################################\n",
      "5 ###################################################################################################\n",
      "6 ###################################################################################################\n",
      "7 ###################################################################################################\n",
      "8 ###################################################################################################\n",
      "9 ###################################################################################################\n",
      "10 ###################################################################################################\n",
      "\n",
      "Agent: ReinforceMemoryAgent \tAlpha: 0.0625\n",
      "Average: \t\t0.638\n",
      "Best 100 Average: \t0.735\n",
      "Last 100 Average: \t0.725\n",
      "\n",
      "1 ###################################################################################################\n",
      "2 ###################################################################################################\n",
      "3 ###################################################################################################\n",
      "4 ###################################################################################################\n",
      "5 ###################################################################################################\n",
      "6 ###################################################################################################\n",
      "7 ###################################################################################################\n",
      "8 ###################################################################################################\n",
      "9 ###################################################################################################\n",
      "10 ###################################################################################################\n",
      "\n",
      "Agent: ReinforceMemoryAgent \tAlpha: 0.125\n",
      "Average: \t\t0.681\n",
      "Best 100 Average: \t0.736\n",
      "Last 100 Average: \t0.725\n",
      "\n",
      "1 ###################################################################################################\n",
      "2 ###################################################################################################\n",
      "3 ###################################################################################################\n",
      "4 ###################################################################################################\n",
      "5 ###################################################################################################\n",
      "6 ###################################################################################################\n",
      "7 ###################################################################################################\n",
      "8 ###################################################################################################\n",
      "9 ###################################################################################################\n",
      "10 ###################################################################################################\n",
      "\n",
      "Agent: ReinforceMemoryAgent \tAlpha: 0.25\n",
      "Average: \t\t0.699\n",
      "Best 100 Average: \t0.738\n",
      "Last 100 Average: \t0.738\n",
      "\n",
      "1 ###################################################################################################\n",
      "2 ###################################################################################################\n",
      "3 ###################################################################################################\n",
      "4 ###################################################################################################\n",
      "5 ###################################################################################################\n",
      "6 ###################################################################################################\n",
      "7 ###################################################################################################\n",
      "8 ###################################################################################################\n",
      "9 ###################################################################################################\n",
      "10 ###################################################################################################\n",
      "\n",
      "Agent: ReinforceMemoryAgent \tAlpha: 0.5\n",
      "Average: \t\t0.709\n",
      "Best 100 Average: \t0.738\n",
      "Last 100 Average: \t0.734\n",
      "\n",
      "1 ###################################################################################################\n",
      "2 ###################################################################################################\n",
      "3 ###################################################################################################\n",
      "4 ###################################################################################################\n",
      "5 ###################################################################################################\n",
      "6 ###################################################################################################\n",
      "7 ###################################################################################################\n",
      "8 ###################################################################################################\n",
      "9 ###################################################################################################\n",
      "10 ###################################################################################################\n",
      "\n",
      "Agent: ReinforceMemoryAgent \tAlpha: 1.0\n",
      "Average: \t\t0.679\n",
      "Best 100 Average: \t0.705\n",
      "Last 100 Average: \t0.696\n",
      "\n",
      "1 ###################################################################################################\n",
      "2 ###################################################################################################\n",
      "3 ###################################################################################################\n",
      "4 ###################################################################################################\n",
      "5 ###################################################################################################\n",
      "6 ###################################################################################################\n",
      "7 ###################################################################################################\n",
      "8 ###################################################################################################\n",
      "9 ###################################################################################################\n",
      "10 ###################################################################################################\n",
      "\n",
      "Agent: ReinforceMemoryAgent \tAlpha: 2.0\n",
      "Average: \t\t0.679\n",
      "Best 100 Average: \t0.697\n",
      "Last 100 Average: \t0.681\n",
      "\n",
      "1 ###################################################################################################\n",
      "2 ###################################################################################################\n",
      "3 ###################################################################################################\n",
      "4 ###################################################################################################\n",
      "5 ###################################################################################################\n",
      "6 ###################################################################################################\n",
      "7 ###################################################################################################\n",
      "8 ###################################################################################################\n",
      "9 ###################################################################################################\n",
      "10 ###################################################################################################\n",
      "\n",
      "Agent: ReinforceMemoryAgent \tAlpha: 4.0\n",
      "Average: \t\t0.541\n",
      "Best 100 Average: \t0.609\n",
      "Last 100 Average: \t0.568\n"
     ]
    }
   ],
   "source": [
    "alpha_base = 2\n",
    "alpha_pows = np.linspace(-4, 2, 7)\n",
    "alphas = np.power(alpha_base, alpha_pows)\n",
    "\n",
    "AgentClass = ReinforceAgent\n",
    "\n",
    "num_of_tests = 10\n",
    "episode_count = 10000\n",
    "plot_count = int(episode_count / 100)\n",
    "\n",
    "agent_name = AgentClass.__name__\n",
    "\n",
    "all_avg_plots = []\n",
    "all_avgs = []\n",
    "all_bests = []\n",
    "all_lasts = []\n",
    "all_stds = []\n",
    "for alpha_pow in alpha_pows:\n",
    "    alpha = np.power(alpha_base, alpha_pow)\n",
    "    params_str = f'alpha={alpha_base}^{alpha_pow:.2f}_episodes_{episode_count}'    \n",
    "    mult_avgs = []\n",
    "    mult_probs1 = []\n",
    "    mult_probs2 = []\n",
    "    for i_test in range(num_of_tests):\n",
    "        print()\n",
    "        print(i_test + 1, end=' ')\n",
    "\n",
    "        # Initialize the agent\n",
    "        agent = AgentClass(alpha=alpha)\n",
    "\n",
    "        avgs = []\n",
    "        probs1 = []\n",
    "        probs2 = []\n",
    "\n",
    "        episode_rewards = np.zeros(episode_count)\n",
    "        for i_episode in range(episode_count):\n",
    "            done = False\n",
    "            totalReward = 0\n",
    "\n",
    "            if i_episode >= plot_count and (i_episode % plot_count == 0):\n",
    "                avg = np.average(episode_rewards[i_episode - plot_count:i_episode])\n",
    "                avgs.append(avg)\n",
    "\n",
    "                # deterministic position\n",
    "                env.x = 0\n",
    "                env.y = 1\n",
    "                obs = env.get_obs()\n",
    "                prob = agent.get_action_vals_for_obs(obs)\n",
    "                probs1.append(prob)\n",
    "\n",
    "                # stochastic position\n",
    "                env.x = 1\n",
    "                env.y = 1\n",
    "                obs = env.get_obs()\n",
    "                prob = agent.get_action_vals_for_obs(obs)\n",
    "                probs2.append(prob)\n",
    "\n",
    "                print('#', end='', flush=True)\n",
    "                if len(avgs) % 100 == 0:\n",
    "                    print(i_episode)\n",
    "\n",
    "            obs = env.reset()\n",
    "            action = agent.start(obs)\n",
    "\n",
    "            step = 0\n",
    "            while not done:\n",
    "                obs, reward, done = env.step(action)\n",
    "                action = agent.step(obs, reward, done)\n",
    "                totalReward += reward\n",
    "\n",
    "                step += 1\n",
    "                if step > max_episode_steps:\n",
    "                    done = True\n",
    "\n",
    "            episode_rewards[i_episode] = totalReward\n",
    "            agent.update_for_episode()\n",
    "\n",
    "        mult_avgs.append(avgs)\n",
    "        mult_probs1.append(probs1)\n",
    "        mult_probs2.append(probs2)\n",
    "\n",
    "    avgs = np.mean(np.array(mult_avgs), axis=0)\n",
    "    std_avg = np.std(np.mean(np.array(mult_avgs), axis=1), axis=0)\n",
    "    probs1 = np.mean(np.array(mult_probs1), axis=0)\n",
    "    probs2 = np.mean(np.array(mult_probs2), axis=0)\n",
    "    \n",
    "    all_avgs.append(np.mean(avgs))\n",
    "    all_bests.append(np.max(avgs))\n",
    "    all_lasts.append(avgs[-1])\n",
    "    all_avg_plots.append(avgs)\n",
    "    all_stds.append(std_avg)\n",
    "    \n",
    "    results = f'\\n\\nAgent: {agent_name} \\tAlpha: {alpha}'\n",
    "    results += f'\\nAverage: \\t\\t{np.mean(avgs):5.3f}'\n",
    "    results += f'\\nBest {plot_count} Average: \\t{np.max(avgs):5.3f}'\n",
    "    results += f'\\nLast {plot_count} Average: \\t{avgs[-1]:5.3f}'\n",
    "    print(results)"
   ]
  },
  {
   "cell_type": "code",
   "execution_count": 12,
   "metadata": {
    "ExecuteTime": {
     "end_time": "2019-03-28T22:33:16.441955Z",
     "start_time": "2019-03-28T22:33:16.331234Z"
    }
   },
   "outputs": [
    {
     "name": "stdout",
     "output_type": "stream",
     "text": [
      "\n",
      "Best Average: 0.7092010101010102\n",
      "Config: Alpha=0.5\n"
     ]
    }
   ],
   "source": [
    "all_avgs = np.array(all_avgs)\n",
    "idx = np.argmax(all_avgs)\n",
    "results = f'Best Average: {all_avgs[idx]}'\n",
    "results += f'\\nConfig: Alpha={alphas[idx]}'\n",
    "\n",
    "print('')\n",
    "print(results)"
   ]
  },
  {
   "cell_type": "code",
   "execution_count": 13,
   "metadata": {
    "ExecuteTime": {
     "end_time": "2019-03-28T22:33:18.797234Z",
     "start_time": "2019-03-28T22:33:17.545236Z"
    },
    "scrolled": false
   },
   "outputs": [
    {
     "data": {
      "image/png": "[encoded data removed]",
      "text/plain": [
       "<matplotlib.figure.Figure at 0x15bc222f278>"
      ]
     },
     "metadata": {
      "needs_background": "light"
     },
     "output_type": "display_data"
    },
    {
     "data": {
      "image/png": "[encoded data removed]",
      "text/plain": [
       "<matplotlib.figure.Figure at 0x15bc23cb6d8>"
      ]
     },
     "metadata": {
      "needs_background": "light"
     },
     "output_type": "display_data"
    }
   ],
   "source": [
    "# Plot over time\n",
    "plt.figure(1, figsize=(7,4))\n",
    "plt.plot(np.array(list(range(len(all_avg_plots[0]))))*plot_count, np.array(all_avg_plots).T)\n",
    "# plt.title(f'Average Return in {episode_count} episodes')\n",
    "plt.xlabel(f'Episode Count')\n",
    "# plt.ylabel(f'Average Return in {plot_count} episodes')\n",
    "# plt.ylabel(f'Total reward on episode averaged over {plot_count} episodes and {num_of_tests} runs')\n",
    "plt.ylabel(f'Average Total Reward on Episode')\n",
    "plt.legend([f'alpha={alpha_base}^{alpha_pow:.2f}' for alpha_pow in alpha_pows])\n",
    "plt.axhline(y=best_performance, linewidth=1, color=\"g\", linestyle='--')\n",
    "# plt.ylim(best_performance-2.13,best_performance+.07)\n",
    "plt.savefig(f'{figs_folder}smart_vac_mem_{agent_name}_episodes_{episode_count}.pdf')\n",
    "\n",
    "\n",
    "# Plot Average Performance\n",
    "plt.figure(2, figsize=(7,4))\n",
    "plt.semilogx(alphas, all_avgs, basex=alpha_base)\n",
    "se = np.array(all_stds) / np.sqrt(num_of_tests)\n",
    "plt.fill_between(alphas, all_avgs - se, all_avgs + se, alpha=0.2)\n",
    "# plt.title(f'Average Return in {episode_count} episodes')\n",
    "plt.xlabel('alpha')\n",
    "# plt.ylabel('Average Return')\n",
    "# plt.ylabel(f'Total reward on episodes averaged over {num_of_tests} runs')\n",
    "plt.ylabel(f'Average Total Reward on Episodes')\n",
    "plt.axhline(y=best_performance, linewidth=1, color=\"g\", linestyle='--')\n",
    "# plt.ylim(best_performance-2.13,best_performance+.07)\n",
    "plt.savefig(f'{figs_folder}smart_vac_mem_{agent_name}_episodes_{episode_count}_all.pdf')"
   ]
  },
  {
   "cell_type": "markdown",
   "metadata": {},
   "source": [
    "# REINFORCE with Baseline Agent"
   ]
  },
  {
   "cell_type": "code",
   "execution_count": null,
   "metadata": {
    "ExecuteTime": {
     "start_time": "2019-03-28T23:04:08.987Z"
    },
    "scrolled": true
   },
   "outputs": [
    {
     "name": "stdout",
     "output_type": "stream",
     "text": [
      "[0.03125 0.0625  0.125   0.25    0.5    ]\n",
      "[0.0625     0.14865089 0.35355339 0.84089642 2.        ]\n",
      "\n",
      "1 ###################################################################################################\n",
      "2 ###################################################################################################\n",
      "3 ###################################################################################################\n",
      "4 ###################################################################################################\n",
      "5 ###################################################################################################\n",
      "6 ###################################################################################################\n",
      "7 ###################################################################################################\n",
      "8 ###################################################################################################\n",
      "9 ###################################################################################################\n",
      "10 ##############################################################################################"
     ]
    }
   ],
   "source": [
    "AgentClass = ReinforceWithBaselineAgent\n",
    "\n",
    "alpha_base = 2\n",
    "alpha_pows_w = np.linspace(-5, -1, 5)\n",
    "alpha_pows_theta = np.linspace(-4, 1, 5)\n",
    "alphas_w = np.power(alpha_base, alpha_pows_w)\n",
    "alphas_theta = np.power(alpha_base, alpha_pows_theta)\n",
    "print(alphas_w)\n",
    "print(alphas_theta)\n",
    "\n",
    "num_of_tests = 10\n",
    "episode_count = 10000\n",
    "plot_count = int(episode_count / 100)\n",
    "\n",
    "agent_name = AgentClass.__name__\n",
    "\n",
    "results = \"\"\n",
    "all_best_avgs = []\n",
    "all_best_alpha_thetas = []\n",
    "all_total_avgs = []\n",
    "all_total_bests = []\n",
    "all_total_lasts = []\n",
    "all_total_stds = []\n",
    "for alpha_pow_w in alpha_pows_w:\n",
    "    all_avgs = []\n",
    "    all_bests = []\n",
    "    all_lasts = []\n",
    "    all_stds = []\n",
    "    alpha_w = np.power(alpha_base, alpha_pow_w)\n",
    "    for alpha_pow_theta in alpha_pows_theta:\n",
    "        alpha_theta = np.power(alpha_base, alpha_pow_theta)\n",
    "        params_str = f'alpha_w_{alpha_w}_alpha_theta_{alpha_theta}_episodes_{episode_count}'\n",
    "        mult_avgs = []\n",
    "        for i_test in range(num_of_tests):\n",
    "            print()\n",
    "            print(i_test + 1, end=' ')\n",
    "\n",
    "            # Initialize the agent\n",
    "            agent = AgentClass(alpha_theta=alpha_theta, alpha_w=alpha_w)\n",
    "\n",
    "            avgs = []\n",
    "            probs1 = []\n",
    "            probs2 = []\n",
    "\n",
    "            episode_rewards = np.zeros(episode_count)\n",
    "            for i_episode in range(episode_count):\n",
    "                done = False\n",
    "                totalReward = 0\n",
    "\n",
    "                if i_episode >= plot_count and (i_episode % plot_count == 0):\n",
    "                    avg = np.average(episode_rewards[i_episode - plot_count:i_episode])\n",
    "                    avgs.append(avg)\n",
    "\n",
    "                    # deterministic position\n",
    "                    env.x = 0\n",
    "                    env.y = 1\n",
    "                    obs = env.get_obs()\n",
    "                    prob = agent.get_action_vals_for_obs(obs)\n",
    "                    probs1.append(prob)\n",
    "\n",
    "                    # stochastic position\n",
    "                    env.x = 1\n",
    "                    env.y = 1\n",
    "                    obs = env.get_obs()\n",
    "                    prob = agent.get_action_vals_for_obs(obs)\n",
    "                    probs2.append(prob)\n",
    "\n",
    "                    print('#', end='', flush=True)\n",
    "                    if len(avgs) % 100 == 0:\n",
    "                        print(i_episode)\n",
    "\n",
    "                obs = env.reset()\n",
    "                action = agent.start(obs)\n",
    "\n",
    "                step = 0\n",
    "                while not done:\n",
    "                    obs, reward, done = env.step(action)\n",
    "                    action = agent.step(obs, reward, done)\n",
    "                    totalReward += reward\n",
    "\n",
    "                    step += 1\n",
    "                    if step > max_episode_steps:\n",
    "                        done = True\n",
    "\n",
    "                episode_rewards[i_episode] = totalReward\n",
    "                agent.update_for_episode()\n",
    "\n",
    "            mult_avgs.append(avgs)\n",
    "\n",
    "        avgs = np.mean(np.array(mult_avgs), axis=0)\n",
    "        std_avg = np.std(np.mean(np.array(mult_avgs), axis=1), axis=0)\n",
    "\n",
    "        all_avgs.append(np.mean(avgs))\n",
    "        all_bests.append(np.max(avgs))\n",
    "        all_lasts.append(avgs[-1])\n",
    "        all_stds.append(std_avg)\n",
    "\n",
    "        results_tmp = f'\\n\\nAgent: {agent_name} \\tAlpha_w: {alpha_w}\\tAlpha_theta: {alpha_theta}'\n",
    "        results_tmp += f'\\nAverage: \\t\\t{np.mean(avgs):5.3f}'\n",
    "        results_tmp += f'\\nBest {plot_count} Average: \\t{np.max(avgs):5.3f}'\n",
    "        results_tmp += f'\\nLast {plot_count} Average: \\t{avgs[-1]:5.3f}'\n",
    "        print(results_tmp)\n",
    "\n",
    "        results += results_tmp\n",
    "        \n",
    "    # print best results\n",
    "    all_avgs = np.array(all_avgs)\n",
    "    idx = np.argmax(all_avgs)\n",
    "    all_best_avgs.append(all_avgs[idx])\n",
    "    all_best_alpha_thetas.append(alphas_theta[idx])\n",
    "    \n",
    "    # Save for plotting\n",
    "    all_total_avgs.append(all_avgs)\n",
    "    all_total_bests.append(all_bests)\n",
    "    all_total_lasts.append(all_lasts)\n",
    "    all_total_stds.append(all_stds)"
   ]
  },
  {
   "cell_type": "code",
   "execution_count": null,
   "metadata": {
    "ExecuteTime": {
     "start_time": "2019-03-28T23:04:09.787Z"
    }
   },
   "outputs": [],
   "source": [
    "# Print best results\n",
    "all_best_avgs = np.array(all_best_avgs)\n",
    "idx = np.argmax(all_best_avgs)\n",
    "results_tmp = f'Best Average: {all_best_avgs[idx]}'\n",
    "results_tmp += f'\\nConfig: Alpha_w={alphas_w[idx]}, Alpha_theta={all_best_alpha_thetas[idx]}'\n",
    "\n",
    "print('')\n",
    "print(results_tmp)"
   ]
  },
  {
   "cell_type": "code",
   "execution_count": null,
   "metadata": {
    "ExecuteTime": {
     "start_time": "2019-03-28T23:04:11.659Z"
    }
   },
   "outputs": [],
   "source": [
    "all_total_avgs = np.array(all_total_avgs)\n",
    "all_total_stds = np.array(all_total_stds)\n",
    "plt.figure(1, figsize=(7, 4))\n",
    "\n",
    "for i in range(all_total_avgs.shape[0]):\n",
    "    all_avgs = all_total_avgs[i, :]\n",
    "    plt.semilogx(alphas_theta, all_avgs, basex=alpha_base)\n",
    "    se = np.array(all_total_stds[i, :]) / np.sqrt(num_of_tests)\n",
    "    plt.fill_between(alphas_theta, all_avgs - se, all_avgs + se, alpha=0.2)\n",
    "# plt.title(f'Average Return in {episode_count} Episodes')\n",
    "plt.xlabel('alpha_theta')\n",
    "plt.ylabel('Average Return')\n",
    "plt.legend(\n",
    "    [f'alpha_w={alpha_base}^{alpha_pow:.2f}' for alpha_pow in alpha_pows_w])\n",
    "# plt.axhline(y=best_performance, linewidth=1, color=\"g\", linestyle='--')\n",
    "# plt.ylim(best_performance-2.13, best_performance+.07)\n",
    "plt.savefig(f'{figs_folder}smart_vac_mem_{agent_name}_episodes_{episode_count}_all.pdf')"
   ]
  },
  {
   "cell_type": "markdown",
   "metadata": {
    "heading_collapsed": true
   },
   "source": [
    "# Actor-Critic Agent"
   ]
  },
  {
   "cell_type": "code",
   "execution_count": null,
   "metadata": {
    "hidden": true
   },
   "outputs": [],
   "source": []
  }
 ],
 "metadata": {
  "kernelspec": {
   "display_name": "Python 3",
   "language": "python",
   "name": "python3"
  },
  "language_info": {
   "codemirror_mode": {
    "name": "ipython",
    "version": 3
   },
   "file_extension": ".py",
   "mimetype": "text/x-python",
   "name": "python",
   "nbconvert_exporter": "python",
   "pygments_lexer": "ipython3",
   "version": "3.6.4"
  },
  "toc": {
   "base_numbering": 1,
   "nav_menu": {},
   "number_sections": true,
   "sideBar": true,
   "skip_h1_title": false,
   "title_cell": "Table of Contents",
   "title_sidebar": "Contents",
   "toc_cell": false,
   "toc_position": {},
   "toc_section_display": true,
   "toc_window_display": false
  },
  "varInspector": {
   "cols": {
    "lenName": 16,
    "lenType": 16,
    "lenVar": 40
   },
   "kernels_config": {
    "python": {
     "delete_cmd_postfix": "",
     "delete_cmd_prefix": "del ",
     "library": "var_list.py",
     "varRefreshCmd": "print(var_dic_list())"
    },
    "r": {
     "delete_cmd_postfix": ") ",
     "delete_cmd_prefix": "rm(",
     "library": "var_list.r",
     "varRefreshCmd": "cat(var_dic_list()) "
    }
   },
   "types_to_exclude": [
    "module",
    "function",
    "builtin_function_or_method",
    "instance",
    "_Feature"
   ],
   "window_display": false
  }
 },
 "nbformat": 4,
 "nbformat_minor": 2
}
